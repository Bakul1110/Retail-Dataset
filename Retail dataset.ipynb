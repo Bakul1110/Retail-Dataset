{
 "cells": [
  {
   "cell_type": "markdown",
   "id": "4fcea3b7",
   "metadata": {},
   "source": [
    "# RETAIL DATASET\n",
    "\n",
    "\n",
    "\n",
    "\n",
    "\n",
    "__In this project I will be working on the Reatil dataset in which we will try to find out the distribution of sales according to \n",
    "different different variables.  Here we will also try to analyze that what are the factors that are affecting our sales or will\n",
    "find out some which may be beneficial for the sales. \n",
    "After analysing all this we will come up with a solution also on how to promote our sales keeping in mind all the factors we have analyzed__.\n",
    "\n",
    "__1).Checking the structure of dataset and looking for missing values.__\n",
    "\n",
    "\n",
    "First of all we have to look at the structure of our dataset that what is it actually and how do we deal with it.\n",
    "Then we will look for the missing values if present followed by the errenous values.\n",
    "\n",
    "\n",
    "__2).Checking the presence of outliers and errenous values__.\n",
    "\n",
    "\n",
    "We will then check different variables for the presence of outliers.\n",
    "\n",
    "__3).Data cleaning__\n",
    "\n",
    "\n",
    "After checking them all we will clean the dataset and onc cleaned we are good to go for further analysis.\n",
    "\n",
    "__4). Univariate analysis__\n",
    "\n",
    "As the name suggests in this step we have to look for the distribution of each variable.\n",
    "This step is crucial to see whether the variables are normally distributed or not. If not then we will go for transformation of the data because in order to deploy our ML model for prediction, it is important to ensure the normalization of features. \n",
    "<u>reason :</u> **Machine learning algorithms tend to perform better or converge faster when the different features (variables) are on a smaller scale. Therefore it is common practice to normalize the data before training machine learning models on it. Normalization also makes the training process less sensitive to the scale of the features.**\n",
    "\n",
    "__5). Bivariate analysis__\n",
    "\n",
    "After analyzing distribution of each variable now we will look at the relation between different variables.\n",
    "Also will observe the correlation between different numerical variables and their effect on our target variable.\n",
    "\n"
   ]
  },
  {
   "cell_type": "markdown",
   "id": "fd4e8a3a",
   "metadata": {},
   "source": [
    "# Structure of dataset"
   ]
  },
  {
   "cell_type": "code",
   "execution_count": 1,
   "id": "973871c0",
   "metadata": {},
   "outputs": [],
   "source": [
    "#Importing necessary libraries\n",
    "\n",
    "import pandas as pd\n",
    "import matplotlib\n",
    "from matplotlib import pyplot as plt\n",
    "import seaborn as sns"
   ]
  },
  {
   "cell_type": "markdown",
   "id": "58496a6c",
   "metadata": {},
   "source": [
    "__Loading the dataset__"
   ]
  },
  {
   "cell_type": "code",
   "execution_count": 2,
   "id": "70a45818",
   "metadata": {},
   "outputs": [
    {
     "data": {
      "text/html": [
       "<div>\n",
       "<style scoped>\n",
       "    .dataframe tbody tr th:only-of-type {\n",
       "        vertical-align: middle;\n",
       "    }\n",
       "\n",
       "    .dataframe tbody tr th {\n",
       "        vertical-align: top;\n",
       "    }\n",
       "\n",
       "    .dataframe thead th {\n",
       "        text-align: right;\n",
       "    }\n",
       "</style>\n",
       "<table border=\"1\" class=\"dataframe\">\n",
       "  <thead>\n",
       "    <tr style=\"text-align: right;\">\n",
       "      <th></th>\n",
       "      <th>Order ID</th>\n",
       "      <th>Product</th>\n",
       "      <th>Quantity Ordered</th>\n",
       "      <th>Price Each</th>\n",
       "      <th>Order Date</th>\n",
       "      <th>Purchase Address</th>\n",
       "    </tr>\n",
       "  </thead>\n",
       "  <tbody>\n",
       "    <tr>\n",
       "      <th>0</th>\n",
       "      <td>141234</td>\n",
       "      <td>iPhone</td>\n",
       "      <td>1</td>\n",
       "      <td>700</td>\n",
       "      <td>2019-01-22 21:25:00</td>\n",
       "      <td>944 Walnut St, Boston, MA 02215</td>\n",
       "    </tr>\n",
       "    <tr>\n",
       "      <th>1</th>\n",
       "      <td>141235</td>\n",
       "      <td>Lightning Charging Cable</td>\n",
       "      <td>1</td>\n",
       "      <td>14.95</td>\n",
       "      <td>2019-01-28 14:15:00</td>\n",
       "      <td>185 Maple St, Portland, OR 97035</td>\n",
       "    </tr>\n",
       "    <tr>\n",
       "      <th>2</th>\n",
       "      <td>141236</td>\n",
       "      <td>Wired Headphones</td>\n",
       "      <td>2</td>\n",
       "      <td>11.99</td>\n",
       "      <td>2019-01-17 13:33:00</td>\n",
       "      <td>538 Adams St, San Francisco, CA 94016</td>\n",
       "    </tr>\n",
       "  </tbody>\n",
       "</table>\n",
       "</div>"
      ],
      "text/plain": [
       "  Order ID                   Product Quantity Ordered Price Each  \\\n",
       "0   141234                    iPhone                1        700   \n",
       "1   141235  Lightning Charging Cable                1      14.95   \n",
       "2   141236          Wired Headphones                2      11.99   \n",
       "\n",
       "            Order Date                       Purchase Address  \n",
       "0  2019-01-22 21:25:00        944 Walnut St, Boston, MA 02215  \n",
       "1  2019-01-28 14:15:00       185 Maple St, Portland, OR 97035  \n",
       "2  2019-01-17 13:33:00  538 Adams St, San Francisco, CA 94016  "
      ]
     },
     "execution_count": 2,
     "metadata": {},
     "output_type": "execute_result"
    }
   ],
   "source": [
    "retail = pd.read_excel(\"all_data_copy.xlsx\")\n",
    "retail.head(3)"
   ]
  },
  {
   "cell_type": "code",
   "execution_count": 3,
   "id": "0318b0d6",
   "metadata": {},
   "outputs": [
    {
     "data": {
      "text/plain": [
       "(373700, 6)"
      ]
     },
     "execution_count": 3,
     "metadata": {},
     "output_type": "execute_result"
    }
   ],
   "source": [
    "#checking for the number of rows and columns\n",
    "\n",
    "retail.shape\n"
   ]
  },
  {
   "cell_type": "markdown",
   "id": "0552aea3",
   "metadata": {},
   "source": [
    "# Basic summary of the dataset\n",
    "\n",
    "\n",
    "__We will now take a closer look at the different varibles we have, their datatypes and their significance in the dataset.__\n",
    "\n",
    "\n",
    "\n",
    "|  Varibles        | Their type and significance|\n",
    "|  :-----|:-----|\n",
    "|  1.**Order ID** | Categorical Ordinal, Order identification number for each product|\n",
    "|  2.**Product**  | Categorical Nominal, name of the product|\n",
    "|  3.**Quantity Ordered**| Numerical Discrete, Amount of items|\n",
    "|  4.**Price Each**| Numerical continuous, Price of each product per item in dollars|\n",
    "|  5.**Order Date** | DateTime type, Date of purchase of the product along with time|\n",
    "|  6.**Purchase Address**| Categorical Nominal, Address of purchase order|\n",
    "|  :-----|:-----|\n",
    "|  **Number of rows**|  373700|\n",
    "|  **Number of columns**| 6|\n",
    "\n",
    "\n"
   ]
  },
  {
   "cell_type": "code",
   "execution_count": 4,
   "id": "d656d0c4",
   "metadata": {},
   "outputs": [],
   "source": [
    "#Dropping unnecessary columns like Order ID\n",
    "\n",
    "retail.drop(columns= 'Order ID', inplace = True)"
   ]
  },
  {
   "cell_type": "code",
   "execution_count": 5,
   "id": "54b675b2",
   "metadata": {},
   "outputs": [
    {
     "data": {
      "text/html": [
       "<div>\n",
       "<style scoped>\n",
       "    .dataframe tbody tr th:only-of-type {\n",
       "        vertical-align: middle;\n",
       "    }\n",
       "\n",
       "    .dataframe tbody tr th {\n",
       "        vertical-align: top;\n",
       "    }\n",
       "\n",
       "    .dataframe thead th {\n",
       "        text-align: right;\n",
       "    }\n",
       "</style>\n",
       "<table border=\"1\" class=\"dataframe\">\n",
       "  <thead>\n",
       "    <tr style=\"text-align: right;\">\n",
       "      <th></th>\n",
       "      <th>Product</th>\n",
       "      <th>Quantity Ordered</th>\n",
       "      <th>Price Each</th>\n",
       "      <th>Order Date</th>\n",
       "      <th>Purchase Address</th>\n",
       "    </tr>\n",
       "  </thead>\n",
       "  <tbody>\n",
       "    <tr>\n",
       "      <th>373695</th>\n",
       "      <td>AAA Batteries (4-pack)</td>\n",
       "      <td>3</td>\n",
       "      <td>2.99</td>\n",
       "      <td>2019-09-17 20:56:00</td>\n",
       "      <td>840 Highland St, Los Angeles, CA 90001</td>\n",
       "    </tr>\n",
       "    <tr>\n",
       "      <th>373696</th>\n",
       "      <td>iPhone</td>\n",
       "      <td>1</td>\n",
       "      <td>700</td>\n",
       "      <td>2019-09-01 16:00:00</td>\n",
       "      <td>216 Dogwood St, San Francisco, CA 94016</td>\n",
       "    </tr>\n",
       "    <tr>\n",
       "      <th>373697</th>\n",
       "      <td>iPhone</td>\n",
       "      <td>1</td>\n",
       "      <td>700</td>\n",
       "      <td>2019-09-23 07:39:00</td>\n",
       "      <td>220 12th St, San Francisco, CA 94016</td>\n",
       "    </tr>\n",
       "    <tr>\n",
       "      <th>373698</th>\n",
       "      <td>34in Ultrawide Monitor</td>\n",
       "      <td>1</td>\n",
       "      <td>379.99</td>\n",
       "      <td>2019-09-19 17:30:00</td>\n",
       "      <td>511 Forest St, San Francisco, CA 94016</td>\n",
       "    </tr>\n",
       "    <tr>\n",
       "      <th>373699</th>\n",
       "      <td>USB-C Charging Cable</td>\n",
       "      <td>1</td>\n",
       "      <td>11.95</td>\n",
       "      <td>2019-09-30 00:18:00</td>\n",
       "      <td>250 Meadow St, San Francisco, CA 94016</td>\n",
       "    </tr>\n",
       "  </tbody>\n",
       "</table>\n",
       "</div>"
      ],
      "text/plain": [
       "                       Product Quantity Ordered Price Each  \\\n",
       "373695  AAA Batteries (4-pack)                3       2.99   \n",
       "373696                  iPhone                1        700   \n",
       "373697                  iPhone                1        700   \n",
       "373698  34in Ultrawide Monitor                1     379.99   \n",
       "373699    USB-C Charging Cable                1      11.95   \n",
       "\n",
       "                 Order Date                         Purchase Address  \n",
       "373695  2019-09-17 20:56:00   840 Highland St, Los Angeles, CA 90001  \n",
       "373696  2019-09-01 16:00:00  216 Dogwood St, San Francisco, CA 94016  \n",
       "373697  2019-09-23 07:39:00     220 12th St, San Francisco, CA 94016  \n",
       "373698  2019-09-19 17:30:00   511 Forest St, San Francisco, CA 94016  \n",
       "373699  2019-09-30 00:18:00   250 Meadow St, San Francisco, CA 94016  "
      ]
     },
     "execution_count": 5,
     "metadata": {},
     "output_type": "execute_result"
    }
   ],
   "source": [
    "retail.tail()"
   ]
  },
  {
   "cell_type": "code",
   "execution_count": 6,
   "id": "fb250154",
   "metadata": {},
   "outputs": [
    {
     "data": {
      "text/html": [
       "<div>\n",
       "<style scoped>\n",
       "    .dataframe tbody tr th:only-of-type {\n",
       "        vertical-align: middle;\n",
       "    }\n",
       "\n",
       "    .dataframe tbody tr th {\n",
       "        vertical-align: top;\n",
       "    }\n",
       "\n",
       "    .dataframe thead th {\n",
       "        text-align: right;\n",
       "    }\n",
       "</style>\n",
       "<table border=\"1\" class=\"dataframe\">\n",
       "  <thead>\n",
       "    <tr style=\"text-align: right;\">\n",
       "      <th></th>\n",
       "      <th>Product</th>\n",
       "      <th>Quantity Ordered</th>\n",
       "      <th>Price Each</th>\n",
       "      <th>Order Date</th>\n",
       "      <th>Purchase Address</th>\n",
       "    </tr>\n",
       "  </thead>\n",
       "  <tbody>\n",
       "    <tr>\n",
       "      <th>count</th>\n",
       "      <td>372610</td>\n",
       "      <td>372610</td>\n",
       "      <td>372610.00</td>\n",
       "      <td>372610</td>\n",
       "      <td>372610</td>\n",
       "    </tr>\n",
       "    <tr>\n",
       "      <th>unique</th>\n",
       "      <td>20</td>\n",
       "      <td>10</td>\n",
       "      <td>18.00</td>\n",
       "      <td>142396</td>\n",
       "      <td>140788</td>\n",
       "    </tr>\n",
       "    <tr>\n",
       "      <th>top</th>\n",
       "      <td>USB-C Charging Cable</td>\n",
       "      <td>1</td>\n",
       "      <td>11.95</td>\n",
       "      <td>Order Date</td>\n",
       "      <td>Purchase Address</td>\n",
       "    </tr>\n",
       "    <tr>\n",
       "      <th>freq</th>\n",
       "      <td>43806</td>\n",
       "      <td>337104</td>\n",
       "      <td>43806.00</td>\n",
       "      <td>710</td>\n",
       "      <td>710</td>\n",
       "    </tr>\n",
       "  </tbody>\n",
       "</table>\n",
       "</div>"
      ],
      "text/plain": [
       "                     Product  Quantity Ordered  Price Each  Order Date  \\\n",
       "count                 372610            372610   372610.00      372610   \n",
       "unique                    20                10       18.00      142396   \n",
       "top     USB-C Charging Cable                 1       11.95  Order Date   \n",
       "freq                   43806            337104    43806.00         710   \n",
       "\n",
       "        Purchase Address  \n",
       "count             372610  \n",
       "unique            140788  \n",
       "top     Purchase Address  \n",
       "freq                 710  "
      ]
     },
     "execution_count": 6,
     "metadata": {},
     "output_type": "execute_result"
    }
   ],
   "source": [
    "retail.describe(include = 'all')"
   ]
  },
  {
   "cell_type": "markdown",
   "id": "1d054443",
   "metadata": {},
   "source": [
    "__As we can see here describe function is not giving us information about the measures of central tendency or dispersion which\n",
    "clearly signifies that my system is considering all the features as categorical which is not correct so we will try to change \n",
    "the datatype of few columns like Quantity and price__."
   ]
  },
  {
   "cell_type": "code",
   "execution_count": 7,
   "id": "7d8ff92c",
   "metadata": {
    "scrolled": true
   },
   "outputs": [
    {
     "name": "stdout",
     "output_type": "stream",
     "text": [
      "<class 'pandas.core.frame.DataFrame'>\n",
      "RangeIndex: 373700 entries, 0 to 373699\n",
      "Data columns (total 5 columns):\n",
      " #   Column            Non-Null Count   Dtype \n",
      "---  ------            --------------   ----- \n",
      " 0   Product           372610 non-null  object\n",
      " 1   Quantity Ordered  372610 non-null  object\n",
      " 2   Price Each        372610 non-null  object\n",
      " 3   Order Date        372610 non-null  object\n",
      " 4   Purchase Address  372610 non-null  object\n",
      "dtypes: object(5)\n",
      "memory usage: 14.3+ MB\n"
     ]
    }
   ],
   "source": [
    "#info to check the datatypes\n",
    "retail.info()"
   ]
  },
  {
   "cell_type": "markdown",
   "id": "2a6542c4",
   "metadata": {},
   "source": [
    "__As we can see above every feature has same number  of missing values so we can directly remove the rows which are having \n",
    "empty values__."
   ]
  },
  {
   "cell_type": "code",
   "execution_count": 8,
   "id": "d5e6e3e0",
   "metadata": {},
   "outputs": [
    {
     "data": {
      "text/plain": [
       "Product             1090\n",
       "Quantity Ordered    1090\n",
       "Price Each          1090\n",
       "Order Date          1090\n",
       "Purchase Address    1090\n",
       "dtype: int64"
      ]
     },
     "execution_count": 8,
     "metadata": {},
     "output_type": "execute_result"
    }
   ],
   "source": [
    "retail.isna().sum()"
   ]
  },
  {
   "cell_type": "code",
   "execution_count": 9,
   "id": "669c48f6",
   "metadata": {},
   "outputs": [
    {
     "data": {
      "text/plain": [
       "Product             True\n",
       "Quantity Ordered    True\n",
       "Price Each          True\n",
       "Order Date          True\n",
       "Purchase Address    True\n",
       "dtype: bool"
      ]
     },
     "execution_count": 9,
     "metadata": {},
     "output_type": "execute_result"
    }
   ],
   "source": [
    "retail.isna().any()"
   ]
  },
  {
   "cell_type": "code",
   "execution_count": 10,
   "id": "a6a510ee",
   "metadata": {},
   "outputs": [],
   "source": [
    "retail['Quantity Ordered'] = retail['Quantity Ordered'].astype('str')"
   ]
  },
  {
   "cell_type": "code",
   "execution_count": null,
   "id": "7e53fb1f",
   "metadata": {},
   "outputs": [],
   "source": []
  },
  {
   "cell_type": "code",
   "execution_count": 11,
   "id": "02afdc5c",
   "metadata": {},
   "outputs": [
    {
     "data": {
      "text/html": [
       "<div>\n",
       "<style scoped>\n",
       "    .dataframe tbody tr th:only-of-type {\n",
       "        vertical-align: middle;\n",
       "    }\n",
       "\n",
       "    .dataframe tbody tr th {\n",
       "        vertical-align: top;\n",
       "    }\n",
       "\n",
       "    .dataframe thead th {\n",
       "        text-align: right;\n",
       "    }\n",
       "</style>\n",
       "<table border=\"1\" class=\"dataframe\">\n",
       "  <thead>\n",
       "    <tr style=\"text-align: right;\">\n",
       "      <th></th>\n",
       "      <th>Product</th>\n",
       "      <th>Quantity Ordered</th>\n",
       "      <th>Price Each</th>\n",
       "      <th>Order Date</th>\n",
       "      <th>Purchase Address</th>\n",
       "    </tr>\n",
       "  </thead>\n",
       "  <tbody>\n",
       "    <tr>\n",
       "      <th>0</th>\n",
       "      <td>iPhone</td>\n",
       "      <td>1</td>\n",
       "      <td>700</td>\n",
       "      <td>2019-01-22 21:25:00</td>\n",
       "      <td>944 Walnut St, Boston, MA 02215</td>\n",
       "    </tr>\n",
       "    <tr>\n",
       "      <th>1</th>\n",
       "      <td>Lightning Charging Cable</td>\n",
       "      <td>1</td>\n",
       "      <td>14.95</td>\n",
       "      <td>2019-01-28 14:15:00</td>\n",
       "      <td>185 Maple St, Portland, OR 97035</td>\n",
       "    </tr>\n",
       "    <tr>\n",
       "      <th>2</th>\n",
       "      <td>Wired Headphones</td>\n",
       "      <td>2</td>\n",
       "      <td>11.99</td>\n",
       "      <td>2019-01-17 13:33:00</td>\n",
       "      <td>538 Adams St, San Francisco, CA 94016</td>\n",
       "    </tr>\n",
       "    <tr>\n",
       "      <th>3</th>\n",
       "      <td>27in FHD Monitor</td>\n",
       "      <td>1</td>\n",
       "      <td>149.99</td>\n",
       "      <td>2019-01-05 20:33:00</td>\n",
       "      <td>738 10th St, Los Angeles, CA 90001</td>\n",
       "    </tr>\n",
       "    <tr>\n",
       "      <th>4</th>\n",
       "      <td>Wired Headphones</td>\n",
       "      <td>1</td>\n",
       "      <td>11.99</td>\n",
       "      <td>2019-01-25 11:59:00</td>\n",
       "      <td>387 10th St, Austin, TX 73301</td>\n",
       "    </tr>\n",
       "    <tr>\n",
       "      <th>...</th>\n",
       "      <td>...</td>\n",
       "      <td>...</td>\n",
       "      <td>...</td>\n",
       "      <td>...</td>\n",
       "      <td>...</td>\n",
       "    </tr>\n",
       "    <tr>\n",
       "      <th>373695</th>\n",
       "      <td>AAA Batteries (4-pack)</td>\n",
       "      <td>3</td>\n",
       "      <td>2.99</td>\n",
       "      <td>2019-09-17 20:56:00</td>\n",
       "      <td>840 Highland St, Los Angeles, CA 90001</td>\n",
       "    </tr>\n",
       "    <tr>\n",
       "      <th>373696</th>\n",
       "      <td>iPhone</td>\n",
       "      <td>1</td>\n",
       "      <td>700</td>\n",
       "      <td>2019-09-01 16:00:00</td>\n",
       "      <td>216 Dogwood St, San Francisco, CA 94016</td>\n",
       "    </tr>\n",
       "    <tr>\n",
       "      <th>373697</th>\n",
       "      <td>iPhone</td>\n",
       "      <td>1</td>\n",
       "      <td>700</td>\n",
       "      <td>2019-09-23 07:39:00</td>\n",
       "      <td>220 12th St, San Francisco, CA 94016</td>\n",
       "    </tr>\n",
       "    <tr>\n",
       "      <th>373698</th>\n",
       "      <td>34in Ultrawide Monitor</td>\n",
       "      <td>1</td>\n",
       "      <td>379.99</td>\n",
       "      <td>2019-09-19 17:30:00</td>\n",
       "      <td>511 Forest St, San Francisco, CA 94016</td>\n",
       "    </tr>\n",
       "    <tr>\n",
       "      <th>373699</th>\n",
       "      <td>USB-C Charging Cable</td>\n",
       "      <td>1</td>\n",
       "      <td>11.95</td>\n",
       "      <td>2019-09-30 00:18:00</td>\n",
       "      <td>250 Meadow St, San Francisco, CA 94016</td>\n",
       "    </tr>\n",
       "  </tbody>\n",
       "</table>\n",
       "<p>372610 rows × 5 columns</p>\n",
       "</div>"
      ],
      "text/plain": [
       "                         Product Quantity Ordered Price Each  \\\n",
       "0                         iPhone                1        700   \n",
       "1       Lightning Charging Cable                1      14.95   \n",
       "2               Wired Headphones                2      11.99   \n",
       "3               27in FHD Monitor                1     149.99   \n",
       "4               Wired Headphones                1      11.99   \n",
       "...                          ...              ...        ...   \n",
       "373695    AAA Batteries (4-pack)                3       2.99   \n",
       "373696                    iPhone                1        700   \n",
       "373697                    iPhone                1        700   \n",
       "373698    34in Ultrawide Monitor                1     379.99   \n",
       "373699      USB-C Charging Cable                1      11.95   \n",
       "\n",
       "                 Order Date                         Purchase Address  \n",
       "0       2019-01-22 21:25:00          944 Walnut St, Boston, MA 02215  \n",
       "1       2019-01-28 14:15:00         185 Maple St, Portland, OR 97035  \n",
       "2       2019-01-17 13:33:00    538 Adams St, San Francisco, CA 94016  \n",
       "3       2019-01-05 20:33:00       738 10th St, Los Angeles, CA 90001  \n",
       "4       2019-01-25 11:59:00            387 10th St, Austin, TX 73301  \n",
       "...                     ...                                      ...  \n",
       "373695  2019-09-17 20:56:00   840 Highland St, Los Angeles, CA 90001  \n",
       "373696  2019-09-01 16:00:00  216 Dogwood St, San Francisco, CA 94016  \n",
       "373697  2019-09-23 07:39:00     220 12th St, San Francisco, CA 94016  \n",
       "373698  2019-09-19 17:30:00   511 Forest St, San Francisco, CA 94016  \n",
       "373699  2019-09-30 00:18:00   250 Meadow St, San Francisco, CA 94016  \n",
       "\n",
       "[372610 rows x 5 columns]"
      ]
     },
     "execution_count": 11,
     "metadata": {},
     "output_type": "execute_result"
    }
   ],
   "source": [
    "new_retail = retail.dropna()\n",
    "new_retail"
   ]
  },
  {
   "cell_type": "code",
   "execution_count": 12,
   "id": "c49b9dc1",
   "metadata": {},
   "outputs": [
    {
     "data": {
      "text/plain": [
       "(372610, 5)"
      ]
     },
     "execution_count": 12,
     "metadata": {},
     "output_type": "execute_result"
    }
   ],
   "source": [
    "new_retail.shape"
   ]
  },
  {
   "cell_type": "code",
   "execution_count": 13,
   "id": "f1abfca9",
   "metadata": {},
   "outputs": [
    {
     "data": {
      "text/plain": [
       "Product             False\n",
       "Quantity Ordered    False\n",
       "Price Each          False\n",
       "Order Date          False\n",
       "Purchase Address    False\n",
       "dtype: bool"
      ]
     },
     "execution_count": 13,
     "metadata": {},
     "output_type": "execute_result"
    }
   ],
   "source": [
    "new_retail.isna().any()"
   ]
  },
  {
   "cell_type": "code",
   "execution_count": 14,
   "id": "197a444a",
   "metadata": {},
   "outputs": [
    {
     "data": {
      "text/html": [
       "<div>\n",
       "<style scoped>\n",
       "    .dataframe tbody tr th:only-of-type {\n",
       "        vertical-align: middle;\n",
       "    }\n",
       "\n",
       "    .dataframe tbody tr th {\n",
       "        vertical-align: top;\n",
       "    }\n",
       "\n",
       "    .dataframe thead th {\n",
       "        text-align: right;\n",
       "    }\n",
       "</style>\n",
       "<table border=\"1\" class=\"dataframe\">\n",
       "  <thead>\n",
       "    <tr style=\"text-align: right;\">\n",
       "      <th></th>\n",
       "      <th>0</th>\n",
       "    </tr>\n",
       "  </thead>\n",
       "  <tbody>\n",
       "    <tr>\n",
       "      <th>0</th>\n",
       "      <td>iPhone</td>\n",
       "    </tr>\n",
       "    <tr>\n",
       "      <th>1</th>\n",
       "      <td>Lightning Charging Cable</td>\n",
       "    </tr>\n",
       "    <tr>\n",
       "      <th>2</th>\n",
       "      <td>Wired Headphones</td>\n",
       "    </tr>\n",
       "    <tr>\n",
       "      <th>3</th>\n",
       "      <td>27in FHD Monitor</td>\n",
       "    </tr>\n",
       "    <tr>\n",
       "      <th>4</th>\n",
       "      <td>AAA Batteries (4-pack)</td>\n",
       "    </tr>\n",
       "    <tr>\n",
       "      <th>5</th>\n",
       "      <td>27in 4K Gaming Monitor</td>\n",
       "    </tr>\n",
       "    <tr>\n",
       "      <th>6</th>\n",
       "      <td>USB-C Charging Cable</td>\n",
       "    </tr>\n",
       "    <tr>\n",
       "      <th>7</th>\n",
       "      <td>Bose SoundSport Headphones</td>\n",
       "    </tr>\n",
       "    <tr>\n",
       "      <th>8</th>\n",
       "      <td>Apple Airpods Headphones</td>\n",
       "    </tr>\n",
       "    <tr>\n",
       "      <th>9</th>\n",
       "      <td>Macbook Pro Laptop</td>\n",
       "    </tr>\n",
       "    <tr>\n",
       "      <th>10</th>\n",
       "      <td>Flatscreen TV</td>\n",
       "    </tr>\n",
       "    <tr>\n",
       "      <th>11</th>\n",
       "      <td>Vareebadd Phone</td>\n",
       "    </tr>\n",
       "    <tr>\n",
       "      <th>12</th>\n",
       "      <td>AA Batteries (4-pack)</td>\n",
       "    </tr>\n",
       "    <tr>\n",
       "      <th>13</th>\n",
       "      <td>Google Phone</td>\n",
       "    </tr>\n",
       "    <tr>\n",
       "      <th>14</th>\n",
       "      <td>20in Monitor</td>\n",
       "    </tr>\n",
       "    <tr>\n",
       "      <th>15</th>\n",
       "      <td>34in Ultrawide Monitor</td>\n",
       "    </tr>\n",
       "    <tr>\n",
       "      <th>16</th>\n",
       "      <td>ThinkPad Laptop</td>\n",
       "    </tr>\n",
       "    <tr>\n",
       "      <th>17</th>\n",
       "      <td>LG Dryer</td>\n",
       "    </tr>\n",
       "    <tr>\n",
       "      <th>18</th>\n",
       "      <td>LG Washing Machine</td>\n",
       "    </tr>\n",
       "    <tr>\n",
       "      <th>19</th>\n",
       "      <td>Product</td>\n",
       "    </tr>\n",
       "  </tbody>\n",
       "</table>\n",
       "</div>"
      ],
      "text/plain": [
       "                             0\n",
       "0                       iPhone\n",
       "1     Lightning Charging Cable\n",
       "2             Wired Headphones\n",
       "3             27in FHD Monitor\n",
       "4       AAA Batteries (4-pack)\n",
       "5       27in 4K Gaming Monitor\n",
       "6         USB-C Charging Cable\n",
       "7   Bose SoundSport Headphones\n",
       "8     Apple Airpods Headphones\n",
       "9           Macbook Pro Laptop\n",
       "10               Flatscreen TV\n",
       "11             Vareebadd Phone\n",
       "12       AA Batteries (4-pack)\n",
       "13                Google Phone\n",
       "14                20in Monitor\n",
       "15      34in Ultrawide Monitor\n",
       "16             ThinkPad Laptop\n",
       "17                    LG Dryer\n",
       "18          LG Washing Machine\n",
       "19                     Product"
      ]
     },
     "execution_count": 14,
     "metadata": {},
     "output_type": "execute_result"
    }
   ],
   "source": [
    "a = new_retail['Product'].unique()\n",
    "pd.DataFrame(a)"
   ]
  },
  {
   "cell_type": "code",
   "execution_count": 15,
   "id": "83f24364",
   "metadata": {},
   "outputs": [
    {
     "data": {
      "text/html": [
       "<div>\n",
       "<style scoped>\n",
       "    .dataframe tbody tr th:only-of-type {\n",
       "        vertical-align: middle;\n",
       "    }\n",
       "\n",
       "    .dataframe tbody tr th {\n",
       "        vertical-align: top;\n",
       "    }\n",
       "\n",
       "    .dataframe thead th {\n",
       "        text-align: right;\n",
       "    }\n",
       "</style>\n",
       "<table border=\"1\" class=\"dataframe\">\n",
       "  <thead>\n",
       "    <tr style=\"text-align: right;\">\n",
       "      <th></th>\n",
       "      <th>0</th>\n",
       "    </tr>\n",
       "  </thead>\n",
       "  <tbody>\n",
       "    <tr>\n",
       "      <th>0</th>\n",
       "      <td>944 Walnut St, Boston, MA 02215</td>\n",
       "    </tr>\n",
       "    <tr>\n",
       "      <th>1</th>\n",
       "      <td>185 Maple St, Portland, OR 97035</td>\n",
       "    </tr>\n",
       "    <tr>\n",
       "      <th>2</th>\n",
       "      <td>538 Adams St, San Francisco, CA 94016</td>\n",
       "    </tr>\n",
       "    <tr>\n",
       "      <th>3</th>\n",
       "      <td>738 10th St, Los Angeles, CA 90001</td>\n",
       "    </tr>\n",
       "    <tr>\n",
       "      <th>4</th>\n",
       "      <td>387 10th St, Austin, TX 73301</td>\n",
       "    </tr>\n",
       "    <tr>\n",
       "      <th>...</th>\n",
       "      <td>...</td>\n",
       "    </tr>\n",
       "    <tr>\n",
       "      <th>140783</th>\n",
       "      <td>767 2nd St, San Francisco, CA 94016</td>\n",
       "    </tr>\n",
       "    <tr>\n",
       "      <th>140784</th>\n",
       "      <td>14 Madison St, San Francisco, CA 94016</td>\n",
       "    </tr>\n",
       "    <tr>\n",
       "      <th>140785</th>\n",
       "      <td>273 Wilson St, Seattle, WA 98101</td>\n",
       "    </tr>\n",
       "    <tr>\n",
       "      <th>140786</th>\n",
       "      <td>778 River St, Dallas, TX 75001</td>\n",
       "    </tr>\n",
       "    <tr>\n",
       "      <th>140787</th>\n",
       "      <td>747 Chestnut St, Los Angeles, CA 90001</td>\n",
       "    </tr>\n",
       "  </tbody>\n",
       "</table>\n",
       "<p>140788 rows × 1 columns</p>\n",
       "</div>"
      ],
      "text/plain": [
       "                                             0\n",
       "0              944 Walnut St, Boston, MA 02215\n",
       "1             185 Maple St, Portland, OR 97035\n",
       "2        538 Adams St, San Francisco, CA 94016\n",
       "3           738 10th St, Los Angeles, CA 90001\n",
       "4                387 10th St, Austin, TX 73301\n",
       "...                                        ...\n",
       "140783     767 2nd St, San Francisco, CA 94016\n",
       "140784  14 Madison St, San Francisco, CA 94016\n",
       "140785        273 Wilson St, Seattle, WA 98101\n",
       "140786          778 River St, Dallas, TX 75001\n",
       "140787  747 Chestnut St, Los Angeles, CA 90001\n",
       "\n",
       "[140788 rows x 1 columns]"
      ]
     },
     "execution_count": 15,
     "metadata": {},
     "output_type": "execute_result"
    }
   ],
   "source": [
    "b = new_retail['Purchase Address'].unique()\n",
    "pd.DataFrame(b)"
   ]
  },
  {
   "cell_type": "markdown",
   "id": "df8714f8",
   "metadata": {},
   "source": [
    "__Also there is no erroneous values here as we can see.__"
   ]
  },
  {
   "cell_type": "code",
   "execution_count": 16,
   "id": "ba5a9c93",
   "metadata": {},
   "outputs": [
    {
     "data": {
      "text/plain": [
       "array(['1', '2', '3', '5', '4', '7', 'Quantity Ordered', '6', '9', '8'],\n",
       "      dtype=object)"
      ]
     },
     "execution_count": 16,
     "metadata": {},
     "output_type": "execute_result"
    }
   ],
   "source": [
    "#checking for null values or unnecessary values in quantity\n",
    "new_retail['Quantity Ordered'].unique()"
   ]
  },
  {
   "cell_type": "code",
   "execution_count": 17,
   "id": "8f67fc2c",
   "metadata": {},
   "outputs": [
    {
     "data": {
      "text/plain": [
       "array([700, 14.95, 11.99, 149.99, 2.99, 389.99, 11.95, 99.99, 150, 1700,\n",
       "       300, 400, 3.84, 600, 109.99, 379.99, 999.99, 'Price Each'],\n",
       "      dtype=object)"
      ]
     },
     "execution_count": 17,
     "metadata": {},
     "output_type": "execute_result"
    }
   ],
   "source": [
    "#checking for null values in Price\n",
    "new_retail['Price Each'].unique()"
   ]
  },
  {
   "cell_type": "code",
   "execution_count": 18,
   "id": "4282f4cb",
   "metadata": {},
   "outputs": [],
   "source": [
    "#Getting those rows which are having column name as observation\n",
    "t = new_retail[(new_retail['Product'] == 'Product')]"
   ]
  },
  {
   "cell_type": "code",
   "execution_count": 19,
   "id": "f294719d",
   "metadata": {},
   "outputs": [
    {
     "data": {
      "text/html": [
       "<div>\n",
       "<style scoped>\n",
       "    .dataframe tbody tr th:only-of-type {\n",
       "        vertical-align: middle;\n",
       "    }\n",
       "\n",
       "    .dataframe tbody tr th {\n",
       "        vertical-align: top;\n",
       "    }\n",
       "\n",
       "    .dataframe thead th {\n",
       "        text-align: right;\n",
       "    }\n",
       "</style>\n",
       "<table border=\"1\" class=\"dataframe\">\n",
       "  <thead>\n",
       "    <tr style=\"text-align: right;\">\n",
       "      <th></th>\n",
       "      <th>Product</th>\n",
       "      <th>Quantity Ordered</th>\n",
       "      <th>Price Each</th>\n",
       "      <th>Order Date</th>\n",
       "      <th>Purchase Address</th>\n",
       "    </tr>\n",
       "  </thead>\n",
       "  <tbody>\n",
       "    <tr>\n",
       "      <th>1073</th>\n",
       "      <td>Product</td>\n",
       "      <td>Quantity Ordered</td>\n",
       "      <td>Price Each</td>\n",
       "      <td>Order Date</td>\n",
       "      <td>Purchase Address</td>\n",
       "    </tr>\n",
       "    <tr>\n",
       "      <th>1102</th>\n",
       "      <td>Product</td>\n",
       "      <td>Quantity Ordered</td>\n",
       "      <td>Price Each</td>\n",
       "      <td>Order Date</td>\n",
       "      <td>Purchase Address</td>\n",
       "    </tr>\n",
       "    <tr>\n",
       "      <th>1194</th>\n",
       "      <td>Product</td>\n",
       "      <td>Quantity Ordered</td>\n",
       "      <td>Price Each</td>\n",
       "      <td>Order Date</td>\n",
       "      <td>Purchase Address</td>\n",
       "    </tr>\n",
       "    <tr>\n",
       "      <th>1897</th>\n",
       "      <td>Product</td>\n",
       "      <td>Quantity Ordered</td>\n",
       "      <td>Price Each</td>\n",
       "      <td>Order Date</td>\n",
       "      <td>Purchase Address</td>\n",
       "    </tr>\n",
       "    <tr>\n",
       "      <th>2463</th>\n",
       "      <td>Product</td>\n",
       "      <td>Quantity Ordered</td>\n",
       "      <td>Price Each</td>\n",
       "      <td>Order Date</td>\n",
       "      <td>Purchase Address</td>\n",
       "    </tr>\n",
       "    <tr>\n",
       "      <th>...</th>\n",
       "      <td>...</td>\n",
       "      <td>...</td>\n",
       "      <td>...</td>\n",
       "      <td>...</td>\n",
       "      <td>...</td>\n",
       "    </tr>\n",
       "    <tr>\n",
       "      <th>372014</th>\n",
       "      <td>Product</td>\n",
       "      <td>Quantity Ordered</td>\n",
       "      <td>Price Each</td>\n",
       "      <td>Order Date</td>\n",
       "      <td>Purchase Address</td>\n",
       "    </tr>\n",
       "    <tr>\n",
       "      <th>372401</th>\n",
       "      <td>Product</td>\n",
       "      <td>Quantity Ordered</td>\n",
       "      <td>Price Each</td>\n",
       "      <td>Order Date</td>\n",
       "      <td>Purchase Address</td>\n",
       "    </tr>\n",
       "    <tr>\n",
       "      <th>373413</th>\n",
       "      <td>Product</td>\n",
       "      <td>Quantity Ordered</td>\n",
       "      <td>Price Each</td>\n",
       "      <td>Order Date</td>\n",
       "      <td>Purchase Address</td>\n",
       "    </tr>\n",
       "    <tr>\n",
       "      <th>373482</th>\n",
       "      <td>Product</td>\n",
       "      <td>Quantity Ordered</td>\n",
       "      <td>Price Each</td>\n",
       "      <td>Order Date</td>\n",
       "      <td>Purchase Address</td>\n",
       "    </tr>\n",
       "    <tr>\n",
       "      <th>373588</th>\n",
       "      <td>Product</td>\n",
       "      <td>Quantity Ordered</td>\n",
       "      <td>Price Each</td>\n",
       "      <td>Order Date</td>\n",
       "      <td>Purchase Address</td>\n",
       "    </tr>\n",
       "  </tbody>\n",
       "</table>\n",
       "<p>710 rows × 5 columns</p>\n",
       "</div>"
      ],
      "text/plain": [
       "        Product  Quantity Ordered  Price Each  Order Date  Purchase Address\n",
       "1073    Product  Quantity Ordered  Price Each  Order Date  Purchase Address\n",
       "1102    Product  Quantity Ordered  Price Each  Order Date  Purchase Address\n",
       "1194    Product  Quantity Ordered  Price Each  Order Date  Purchase Address\n",
       "1897    Product  Quantity Ordered  Price Each  Order Date  Purchase Address\n",
       "2463    Product  Quantity Ordered  Price Each  Order Date  Purchase Address\n",
       "...         ...               ...         ...         ...               ...\n",
       "372014  Product  Quantity Ordered  Price Each  Order Date  Purchase Address\n",
       "372401  Product  Quantity Ordered  Price Each  Order Date  Purchase Address\n",
       "373413  Product  Quantity Ordered  Price Each  Order Date  Purchase Address\n",
       "373482  Product  Quantity Ordered  Price Each  Order Date  Purchase Address\n",
       "373588  Product  Quantity Ordered  Price Each  Order Date  Purchase Address\n",
       "\n",
       "[710 rows x 5 columns]"
      ]
     },
     "execution_count": 19,
     "metadata": {},
     "output_type": "execute_result"
    }
   ],
   "source": [
    "t"
   ]
  },
  {
   "cell_type": "code",
   "execution_count": 20,
   "id": "f7369686",
   "metadata": {},
   "outputs": [
    {
     "data": {
      "text/html": [
       "<div>\n",
       "<style scoped>\n",
       "    .dataframe tbody tr th:only-of-type {\n",
       "        vertical-align: middle;\n",
       "    }\n",
       "\n",
       "    .dataframe tbody tr th {\n",
       "        vertical-align: top;\n",
       "    }\n",
       "\n",
       "    .dataframe thead th {\n",
       "        text-align: right;\n",
       "    }\n",
       "</style>\n",
       "<table border=\"1\" class=\"dataframe\">\n",
       "  <thead>\n",
       "    <tr style=\"text-align: right;\">\n",
       "      <th></th>\n",
       "      <th>Product</th>\n",
       "      <th>Quantity Ordered</th>\n",
       "      <th>Price Each</th>\n",
       "      <th>Order Date</th>\n",
       "      <th>Purchase Address</th>\n",
       "    </tr>\n",
       "  </thead>\n",
       "  <tbody>\n",
       "    <tr>\n",
       "      <th>0</th>\n",
       "      <td>iPhone</td>\n",
       "      <td>1</td>\n",
       "      <td>700</td>\n",
       "      <td>2019-01-22 21:25:00</td>\n",
       "      <td>944 Walnut St, Boston, MA 02215</td>\n",
       "    </tr>\n",
       "    <tr>\n",
       "      <th>1</th>\n",
       "      <td>Lightning Charging Cable</td>\n",
       "      <td>1</td>\n",
       "      <td>14.95</td>\n",
       "      <td>2019-01-28 14:15:00</td>\n",
       "      <td>185 Maple St, Portland, OR 97035</td>\n",
       "    </tr>\n",
       "    <tr>\n",
       "      <th>2</th>\n",
       "      <td>Wired Headphones</td>\n",
       "      <td>2</td>\n",
       "      <td>11.99</td>\n",
       "      <td>2019-01-17 13:33:00</td>\n",
       "      <td>538 Adams St, San Francisco, CA 94016</td>\n",
       "    </tr>\n",
       "    <tr>\n",
       "      <th>3</th>\n",
       "      <td>27in FHD Monitor</td>\n",
       "      <td>1</td>\n",
       "      <td>149.99</td>\n",
       "      <td>2019-01-05 20:33:00</td>\n",
       "      <td>738 10th St, Los Angeles, CA 90001</td>\n",
       "    </tr>\n",
       "    <tr>\n",
       "      <th>4</th>\n",
       "      <td>Wired Headphones</td>\n",
       "      <td>1</td>\n",
       "      <td>11.99</td>\n",
       "      <td>2019-01-25 11:59:00</td>\n",
       "      <td>387 10th St, Austin, TX 73301</td>\n",
       "    </tr>\n",
       "    <tr>\n",
       "      <th>...</th>\n",
       "      <td>...</td>\n",
       "      <td>...</td>\n",
       "      <td>...</td>\n",
       "      <td>...</td>\n",
       "      <td>...</td>\n",
       "    </tr>\n",
       "    <tr>\n",
       "      <th>373695</th>\n",
       "      <td>AAA Batteries (4-pack)</td>\n",
       "      <td>3</td>\n",
       "      <td>2.99</td>\n",
       "      <td>2019-09-17 20:56:00</td>\n",
       "      <td>840 Highland St, Los Angeles, CA 90001</td>\n",
       "    </tr>\n",
       "    <tr>\n",
       "      <th>373696</th>\n",
       "      <td>iPhone</td>\n",
       "      <td>1</td>\n",
       "      <td>700</td>\n",
       "      <td>2019-09-01 16:00:00</td>\n",
       "      <td>216 Dogwood St, San Francisco, CA 94016</td>\n",
       "    </tr>\n",
       "    <tr>\n",
       "      <th>373697</th>\n",
       "      <td>iPhone</td>\n",
       "      <td>1</td>\n",
       "      <td>700</td>\n",
       "      <td>2019-09-23 07:39:00</td>\n",
       "      <td>220 12th St, San Francisco, CA 94016</td>\n",
       "    </tr>\n",
       "    <tr>\n",
       "      <th>373698</th>\n",
       "      <td>34in Ultrawide Monitor</td>\n",
       "      <td>1</td>\n",
       "      <td>379.99</td>\n",
       "      <td>2019-09-19 17:30:00</td>\n",
       "      <td>511 Forest St, San Francisco, CA 94016</td>\n",
       "    </tr>\n",
       "    <tr>\n",
       "      <th>373699</th>\n",
       "      <td>USB-C Charging Cable</td>\n",
       "      <td>1</td>\n",
       "      <td>11.95</td>\n",
       "      <td>2019-09-30 00:18:00</td>\n",
       "      <td>250 Meadow St, San Francisco, CA 94016</td>\n",
       "    </tr>\n",
       "  </tbody>\n",
       "</table>\n",
       "<p>371900 rows × 5 columns</p>\n",
       "</div>"
      ],
      "text/plain": [
       "                         Product Quantity Ordered Price Each  \\\n",
       "0                         iPhone                1        700   \n",
       "1       Lightning Charging Cable                1      14.95   \n",
       "2               Wired Headphones                2      11.99   \n",
       "3               27in FHD Monitor                1     149.99   \n",
       "4               Wired Headphones                1      11.99   \n",
       "...                          ...              ...        ...   \n",
       "373695    AAA Batteries (4-pack)                3       2.99   \n",
       "373696                    iPhone                1        700   \n",
       "373697                    iPhone                1        700   \n",
       "373698    34in Ultrawide Monitor                1     379.99   \n",
       "373699      USB-C Charging Cable                1      11.95   \n",
       "\n",
       "                 Order Date                         Purchase Address  \n",
       "0       2019-01-22 21:25:00          944 Walnut St, Boston, MA 02215  \n",
       "1       2019-01-28 14:15:00         185 Maple St, Portland, OR 97035  \n",
       "2       2019-01-17 13:33:00    538 Adams St, San Francisco, CA 94016  \n",
       "3       2019-01-05 20:33:00       738 10th St, Los Angeles, CA 90001  \n",
       "4       2019-01-25 11:59:00            387 10th St, Austin, TX 73301  \n",
       "...                     ...                                      ...  \n",
       "373695  2019-09-17 20:56:00   840 Highland St, Los Angeles, CA 90001  \n",
       "373696  2019-09-01 16:00:00  216 Dogwood St, San Francisco, CA 94016  \n",
       "373697  2019-09-23 07:39:00     220 12th St, San Francisco, CA 94016  \n",
       "373698  2019-09-19 17:30:00   511 Forest St, San Francisco, CA 94016  \n",
       "373699  2019-09-30 00:18:00   250 Meadow St, San Francisco, CA 94016  \n",
       "\n",
       "[371900 rows x 5 columns]"
      ]
     },
     "execution_count": 20,
     "metadata": {},
     "output_type": "execute_result"
    }
   ],
   "source": [
    "#Dropped those rows which are having irrelevant information like name of columns only\n",
    "\n",
    "clean_retail =  new_retail.drop(new_retail[new_retail[\"Product\"] == 'Product'].index)\n",
    "clean_retail"
   ]
  },
  {
   "cell_type": "code",
   "execution_count": 21,
   "id": "094969b9",
   "metadata": {},
   "outputs": [
    {
     "data": {
      "text/html": [
       "<div>\n",
       "<style scoped>\n",
       "    .dataframe tbody tr th:only-of-type {\n",
       "        vertical-align: middle;\n",
       "    }\n",
       "\n",
       "    .dataframe tbody tr th {\n",
       "        vertical-align: top;\n",
       "    }\n",
       "\n",
       "    .dataframe thead th {\n",
       "        text-align: right;\n",
       "    }\n",
       "</style>\n",
       "<table border=\"1\" class=\"dataframe\">\n",
       "  <thead>\n",
       "    <tr style=\"text-align: right;\">\n",
       "      <th></th>\n",
       "      <th>Product</th>\n",
       "      <th>Quantity Ordered</th>\n",
       "      <th>Price Each</th>\n",
       "      <th>Order Date</th>\n",
       "      <th>Purchase Address</th>\n",
       "    </tr>\n",
       "  </thead>\n",
       "  <tbody>\n",
       "    <tr>\n",
       "      <th>0</th>\n",
       "      <td>iPhone</td>\n",
       "      <td>1</td>\n",
       "      <td>700</td>\n",
       "      <td>2019-01-22 21:25:00</td>\n",
       "      <td>944 Walnut St, Boston, MA 02215</td>\n",
       "    </tr>\n",
       "    <tr>\n",
       "      <th>1</th>\n",
       "      <td>Lightning Charging Cable</td>\n",
       "      <td>1</td>\n",
       "      <td>14.95</td>\n",
       "      <td>2019-01-28 14:15:00</td>\n",
       "      <td>185 Maple St, Portland, OR 97035</td>\n",
       "    </tr>\n",
       "    <tr>\n",
       "      <th>2</th>\n",
       "      <td>Wired Headphones</td>\n",
       "      <td>2</td>\n",
       "      <td>11.99</td>\n",
       "      <td>2019-01-17 13:33:00</td>\n",
       "      <td>538 Adams St, San Francisco, CA 94016</td>\n",
       "    </tr>\n",
       "    <tr>\n",
       "      <th>3</th>\n",
       "      <td>27in FHD Monitor</td>\n",
       "      <td>1</td>\n",
       "      <td>149.99</td>\n",
       "      <td>2019-01-05 20:33:00</td>\n",
       "      <td>738 10th St, Los Angeles, CA 90001</td>\n",
       "    </tr>\n",
       "    <tr>\n",
       "      <th>4</th>\n",
       "      <td>Wired Headphones</td>\n",
       "      <td>1</td>\n",
       "      <td>11.99</td>\n",
       "      <td>2019-01-25 11:59:00</td>\n",
       "      <td>387 10th St, Austin, TX 73301</td>\n",
       "    </tr>\n",
       "    <tr>\n",
       "      <th>...</th>\n",
       "      <td>...</td>\n",
       "      <td>...</td>\n",
       "      <td>...</td>\n",
       "      <td>...</td>\n",
       "      <td>...</td>\n",
       "    </tr>\n",
       "    <tr>\n",
       "      <th>373695</th>\n",
       "      <td>AAA Batteries (4-pack)</td>\n",
       "      <td>3</td>\n",
       "      <td>2.99</td>\n",
       "      <td>2019-09-17 20:56:00</td>\n",
       "      <td>840 Highland St, Los Angeles, CA 90001</td>\n",
       "    </tr>\n",
       "    <tr>\n",
       "      <th>373696</th>\n",
       "      <td>iPhone</td>\n",
       "      <td>1</td>\n",
       "      <td>700</td>\n",
       "      <td>2019-09-01 16:00:00</td>\n",
       "      <td>216 Dogwood St, San Francisco, CA 94016</td>\n",
       "    </tr>\n",
       "    <tr>\n",
       "      <th>373697</th>\n",
       "      <td>iPhone</td>\n",
       "      <td>1</td>\n",
       "      <td>700</td>\n",
       "      <td>2019-09-23 07:39:00</td>\n",
       "      <td>220 12th St, San Francisco, CA 94016</td>\n",
       "    </tr>\n",
       "    <tr>\n",
       "      <th>373698</th>\n",
       "      <td>34in Ultrawide Monitor</td>\n",
       "      <td>1</td>\n",
       "      <td>379.99</td>\n",
       "      <td>2019-09-19 17:30:00</td>\n",
       "      <td>511 Forest St, San Francisco, CA 94016</td>\n",
       "    </tr>\n",
       "    <tr>\n",
       "      <th>373699</th>\n",
       "      <td>USB-C Charging Cable</td>\n",
       "      <td>1</td>\n",
       "      <td>11.95</td>\n",
       "      <td>2019-09-30 00:18:00</td>\n",
       "      <td>250 Meadow St, San Francisco, CA 94016</td>\n",
       "    </tr>\n",
       "  </tbody>\n",
       "</table>\n",
       "<p>371900 rows × 5 columns</p>\n",
       "</div>"
      ],
      "text/plain": [
       "                         Product Quantity Ordered Price Each  \\\n",
       "0                         iPhone                1        700   \n",
       "1       Lightning Charging Cable                1      14.95   \n",
       "2               Wired Headphones                2      11.99   \n",
       "3               27in FHD Monitor                1     149.99   \n",
       "4               Wired Headphones                1      11.99   \n",
       "...                          ...              ...        ...   \n",
       "373695    AAA Batteries (4-pack)                3       2.99   \n",
       "373696                    iPhone                1        700   \n",
       "373697                    iPhone                1        700   \n",
       "373698    34in Ultrawide Monitor                1     379.99   \n",
       "373699      USB-C Charging Cable                1      11.95   \n",
       "\n",
       "                 Order Date                         Purchase Address  \n",
       "0       2019-01-22 21:25:00          944 Walnut St, Boston, MA 02215  \n",
       "1       2019-01-28 14:15:00         185 Maple St, Portland, OR 97035  \n",
       "2       2019-01-17 13:33:00    538 Adams St, San Francisco, CA 94016  \n",
       "3       2019-01-05 20:33:00       738 10th St, Los Angeles, CA 90001  \n",
       "4       2019-01-25 11:59:00            387 10th St, Austin, TX 73301  \n",
       "...                     ...                                      ...  \n",
       "373695  2019-09-17 20:56:00   840 Highland St, Los Angeles, CA 90001  \n",
       "373696  2019-09-01 16:00:00  216 Dogwood St, San Francisco, CA 94016  \n",
       "373697  2019-09-23 07:39:00     220 12th St, San Francisco, CA 94016  \n",
       "373698  2019-09-19 17:30:00   511 Forest St, San Francisco, CA 94016  \n",
       "373699  2019-09-30 00:18:00   250 Meadow St, San Francisco, CA 94016  \n",
       "\n",
       "[371900 rows x 5 columns]"
      ]
     },
     "execution_count": 21,
     "metadata": {},
     "output_type": "execute_result"
    }
   ],
   "source": [
    "clean_retail"
   ]
  },
  {
   "cell_type": "code",
   "execution_count": 22,
   "id": "eacbcdd9",
   "metadata": {},
   "outputs": [
    {
     "data": {
      "text/plain": [
       "710"
      ]
     },
     "execution_count": 22,
     "metadata": {},
     "output_type": "execute_result"
    }
   ],
   "source": [
    "372610 - 371900"
   ]
  },
  {
   "cell_type": "markdown",
   "id": "cdecc847",
   "metadata": {},
   "source": [
    "__So earlier we had 372610 rows (After removing null values) and as we dig deep found that there are some rows which are of\n",
    "no use to us (around 710) rows so we have successfully removed them as well.__"
   ]
  },
  {
   "cell_type": "code",
   "execution_count": 23,
   "id": "41cb621e",
   "metadata": {},
   "outputs": [
    {
     "data": {
      "text/plain": [
       "array(['iPhone', 'Lightning Charging Cable', 'Wired Headphones',\n",
       "       '27in FHD Monitor', 'AAA Batteries (4-pack)',\n",
       "       '27in 4K Gaming Monitor', 'USB-C Charging Cable',\n",
       "       'Bose SoundSport Headphones', 'Apple Airpods Headphones',\n",
       "       'Macbook Pro Laptop', 'Flatscreen TV', 'Vareebadd Phone',\n",
       "       'AA Batteries (4-pack)', 'Google Phone', '20in Monitor',\n",
       "       '34in Ultrawide Monitor', 'ThinkPad Laptop', 'LG Dryer',\n",
       "       'LG Washing Machine'], dtype=object)"
      ]
     },
     "execution_count": 23,
     "metadata": {},
     "output_type": "execute_result"
    }
   ],
   "source": [
    "clean_retail['Product'].unique()"
   ]
  },
  {
   "cell_type": "code",
   "execution_count": 24,
   "id": "b06e1e34",
   "metadata": {},
   "outputs": [
    {
     "data": {
      "text/html": [
       "<div>\n",
       "<style scoped>\n",
       "    .dataframe tbody tr th:only-of-type {\n",
       "        vertical-align: middle;\n",
       "    }\n",
       "\n",
       "    .dataframe tbody tr th {\n",
       "        vertical-align: top;\n",
       "    }\n",
       "\n",
       "    .dataframe thead th {\n",
       "        text-align: right;\n",
       "    }\n",
       "</style>\n",
       "<table border=\"1\" class=\"dataframe\">\n",
       "  <thead>\n",
       "    <tr style=\"text-align: right;\">\n",
       "      <th></th>\n",
       "      <th>Product</th>\n",
       "      <th>Quantity Ordered</th>\n",
       "      <th>Price Each</th>\n",
       "      <th>Order Date</th>\n",
       "      <th>Purchase Address</th>\n",
       "    </tr>\n",
       "  </thead>\n",
       "  <tbody>\n",
       "    <tr>\n",
       "      <th>0</th>\n",
       "      <td>iPhone</td>\n",
       "      <td>1</td>\n",
       "      <td>700</td>\n",
       "      <td>2019-01-22 21:25:00</td>\n",
       "      <td>944 Walnut St, Boston, MA 02215</td>\n",
       "    </tr>\n",
       "    <tr>\n",
       "      <th>1</th>\n",
       "      <td>Lightning Charging Cable</td>\n",
       "      <td>1</td>\n",
       "      <td>14.95</td>\n",
       "      <td>2019-01-28 14:15:00</td>\n",
       "      <td>185 Maple St, Portland, OR 97035</td>\n",
       "    </tr>\n",
       "    <tr>\n",
       "      <th>2</th>\n",
       "      <td>Wired Headphones</td>\n",
       "      <td>2</td>\n",
       "      <td>11.99</td>\n",
       "      <td>2019-01-17 13:33:00</td>\n",
       "      <td>538 Adams St, San Francisco, CA 94016</td>\n",
       "    </tr>\n",
       "    <tr>\n",
       "      <th>3</th>\n",
       "      <td>27in FHD Monitor</td>\n",
       "      <td>1</td>\n",
       "      <td>149.99</td>\n",
       "      <td>2019-01-05 20:33:00</td>\n",
       "      <td>738 10th St, Los Angeles, CA 90001</td>\n",
       "    </tr>\n",
       "    <tr>\n",
       "      <th>4</th>\n",
       "      <td>Wired Headphones</td>\n",
       "      <td>1</td>\n",
       "      <td>11.99</td>\n",
       "      <td>2019-01-25 11:59:00</td>\n",
       "      <td>387 10th St, Austin, TX 73301</td>\n",
       "    </tr>\n",
       "    <tr>\n",
       "      <th>...</th>\n",
       "      <td>...</td>\n",
       "      <td>...</td>\n",
       "      <td>...</td>\n",
       "      <td>...</td>\n",
       "      <td>...</td>\n",
       "    </tr>\n",
       "    <tr>\n",
       "      <th>373695</th>\n",
       "      <td>AAA Batteries (4-pack)</td>\n",
       "      <td>3</td>\n",
       "      <td>2.99</td>\n",
       "      <td>2019-09-17 20:56:00</td>\n",
       "      <td>840 Highland St, Los Angeles, CA 90001</td>\n",
       "    </tr>\n",
       "    <tr>\n",
       "      <th>373696</th>\n",
       "      <td>iPhone</td>\n",
       "      <td>1</td>\n",
       "      <td>700</td>\n",
       "      <td>2019-09-01 16:00:00</td>\n",
       "      <td>216 Dogwood St, San Francisco, CA 94016</td>\n",
       "    </tr>\n",
       "    <tr>\n",
       "      <th>373697</th>\n",
       "      <td>iPhone</td>\n",
       "      <td>1</td>\n",
       "      <td>700</td>\n",
       "      <td>2019-09-23 07:39:00</td>\n",
       "      <td>220 12th St, San Francisco, CA 94016</td>\n",
       "    </tr>\n",
       "    <tr>\n",
       "      <th>373698</th>\n",
       "      <td>34in Ultrawide Monitor</td>\n",
       "      <td>1</td>\n",
       "      <td>379.99</td>\n",
       "      <td>2019-09-19 17:30:00</td>\n",
       "      <td>511 Forest St, San Francisco, CA 94016</td>\n",
       "    </tr>\n",
       "    <tr>\n",
       "      <th>373699</th>\n",
       "      <td>USB-C Charging Cable</td>\n",
       "      <td>1</td>\n",
       "      <td>11.95</td>\n",
       "      <td>2019-09-30 00:18:00</td>\n",
       "      <td>250 Meadow St, San Francisco, CA 94016</td>\n",
       "    </tr>\n",
       "  </tbody>\n",
       "</table>\n",
       "<p>371900 rows × 5 columns</p>\n",
       "</div>"
      ],
      "text/plain": [
       "                         Product Quantity Ordered Price Each  \\\n",
       "0                         iPhone                1        700   \n",
       "1       Lightning Charging Cable                1      14.95   \n",
       "2               Wired Headphones                2      11.99   \n",
       "3               27in FHD Monitor                1     149.99   \n",
       "4               Wired Headphones                1      11.99   \n",
       "...                          ...              ...        ...   \n",
       "373695    AAA Batteries (4-pack)                3       2.99   \n",
       "373696                    iPhone                1        700   \n",
       "373697                    iPhone                1        700   \n",
       "373698    34in Ultrawide Monitor                1     379.99   \n",
       "373699      USB-C Charging Cable                1      11.95   \n",
       "\n",
       "                 Order Date                         Purchase Address  \n",
       "0       2019-01-22 21:25:00          944 Walnut St, Boston, MA 02215  \n",
       "1       2019-01-28 14:15:00         185 Maple St, Portland, OR 97035  \n",
       "2       2019-01-17 13:33:00    538 Adams St, San Francisco, CA 94016  \n",
       "3       2019-01-05 20:33:00       738 10th St, Los Angeles, CA 90001  \n",
       "4       2019-01-25 11:59:00            387 10th St, Austin, TX 73301  \n",
       "...                     ...                                      ...  \n",
       "373695  2019-09-17 20:56:00   840 Highland St, Los Angeles, CA 90001  \n",
       "373696  2019-09-01 16:00:00  216 Dogwood St, San Francisco, CA 94016  \n",
       "373697  2019-09-23 07:39:00     220 12th St, San Francisco, CA 94016  \n",
       "373698  2019-09-19 17:30:00   511 Forest St, San Francisco, CA 94016  \n",
       "373699  2019-09-30 00:18:00   250 Meadow St, San Francisco, CA 94016  \n",
       "\n",
       "[371900 rows x 5 columns]"
      ]
     },
     "execution_count": 24,
     "metadata": {},
     "output_type": "execute_result"
    }
   ],
   "source": [
    "clean_retail"
   ]
  },
  {
   "cell_type": "markdown",
   "id": "d107c692",
   "metadata": {},
   "source": [
    "__Checking for duplicate rows if present like if there is any repetition of relevent entry so that we can remove it.__"
   ]
  },
  {
   "cell_type": "code",
   "execution_count": 25,
   "id": "61f1591a",
   "metadata": {},
   "outputs": [
    {
     "data": {
      "text/plain": [
       "0         False\n",
       "1         False\n",
       "2         False\n",
       "3         False\n",
       "4         False\n",
       "          ...  \n",
       "373695     True\n",
       "373696     True\n",
       "373697     True\n",
       "373698     True\n",
       "373699     True\n",
       "Length: 371900, dtype: bool"
      ]
     },
     "execution_count": 25,
     "metadata": {},
     "output_type": "execute_result"
    }
   ],
   "source": [
    "clean_retail.duplicated()"
   ]
  },
  {
   "cell_type": "code",
   "execution_count": null,
   "id": "263ce034",
   "metadata": {},
   "outputs": [],
   "source": []
  },
  {
   "cell_type": "code",
   "execution_count": 26,
   "id": "69b861ac",
   "metadata": {},
   "outputs": [
    {
     "data": {
      "text/plain": [
       "186214"
      ]
     },
     "execution_count": 26,
     "metadata": {},
     "output_type": "execute_result"
    }
   ],
   "source": [
    "clean_retail.duplicated().sum()"
   ]
  },
  {
   "cell_type": "code",
   "execution_count": 27,
   "id": "5442f25b",
   "metadata": {},
   "outputs": [],
   "source": [
    "clean_retail.drop_duplicates(inplace=True)"
   ]
  },
  {
   "cell_type": "markdown",
   "id": "2e33a811",
   "metadata": {},
   "source": [
    "\n",
    "\n",
    "\n",
    "__No in the Order Date column we can separate it into year month data and time features so that we can closely look at\n",
    "the scenerio of sales during a particular month,  year,  day or time.__"
   ]
  },
  {
   "cell_type": "markdown",
   "id": "f4ab330e",
   "metadata": {},
   "source": [
    "__Before that we must look at the datatype of this order date feature because in order to separate different time stamps\n",
    "this feature must be present in date time format__."
   ]
  },
  {
   "cell_type": "code",
   "execution_count": 28,
   "id": "60c1c7f9",
   "metadata": {},
   "outputs": [
    {
     "data": {
      "text/plain": [
       "dtype('O')"
      ]
     },
     "execution_count": 28,
     "metadata": {},
     "output_type": "execute_result"
    }
   ],
   "source": [
    "clean_retail['Order Date'].dtype"
   ]
  },
  {
   "cell_type": "markdown",
   "id": "505672f2",
   "metadata": {},
   "source": [
    "__so as we can see it is Object type......so we need to convert it into date time.__"
   ]
  },
  {
   "cell_type": "code",
   "execution_count": 29,
   "id": "78e2e7e3",
   "metadata": {},
   "outputs": [],
   "source": [
    "clean_retail['Order Date']= pd.to_datetime(clean_retail['Order Date'])"
   ]
  },
  {
   "cell_type": "code",
   "execution_count": 30,
   "id": "c861b375",
   "metadata": {},
   "outputs": [
    {
     "name": "stdout",
     "output_type": "stream",
     "text": [
      "<class 'pandas.core.frame.DataFrame'>\n",
      "Int64Index: 185686 entries, 0 to 186849\n",
      "Data columns (total 5 columns):\n",
      " #   Column            Non-Null Count   Dtype         \n",
      "---  ------            --------------   -----         \n",
      " 0   Product           185686 non-null  object        \n",
      " 1   Quantity Ordered  185686 non-null  object        \n",
      " 2   Price Each        185686 non-null  object        \n",
      " 3   Order Date        185686 non-null  datetime64[ns]\n",
      " 4   Purchase Address  185686 non-null  object        \n",
      "dtypes: datetime64[ns](1), object(4)\n",
      "memory usage: 8.5+ MB\n"
     ]
    }
   ],
   "source": [
    "clean_retail.info()  #Order Date converted into date time datatype."
   ]
  },
  {
   "cell_type": "code",
   "execution_count": 31,
   "id": "d8cf1833",
   "metadata": {},
   "outputs": [],
   "source": [
    "#Extracting Year from the order date if any\n",
    "\n",
    "clean_retail['Year'] = clean_retail['Order Date'].dt.year\n",
    "\n",
    "#Extracting month\n",
    "\n",
    "clean_retail['Month'] = clean_retail['Order Date'].dt.month\n",
    "\n",
    "#Extracting day from the Order date\n",
    "\n",
    "clean_retail['day'] = clean_retail['Order Date'].dt.day\n",
    "\n",
    "#Extracting Time\n",
    "\n",
    "clean_retail['Hour'] = clean_retail['Order Date'].dt.hour"
   ]
  },
  {
   "cell_type": "code",
   "execution_count": 32,
   "id": "6c5128fb",
   "metadata": {},
   "outputs": [
    {
     "data": {
      "text/html": [
       "<div>\n",
       "<style scoped>\n",
       "    .dataframe tbody tr th:only-of-type {\n",
       "        vertical-align: middle;\n",
       "    }\n",
       "\n",
       "    .dataframe tbody tr th {\n",
       "        vertical-align: top;\n",
       "    }\n",
       "\n",
       "    .dataframe thead th {\n",
       "        text-align: right;\n",
       "    }\n",
       "</style>\n",
       "<table border=\"1\" class=\"dataframe\">\n",
       "  <thead>\n",
       "    <tr style=\"text-align: right;\">\n",
       "      <th></th>\n",
       "      <th>Product</th>\n",
       "      <th>Quantity Ordered</th>\n",
       "      <th>Price Each</th>\n",
       "      <th>Order Date</th>\n",
       "      <th>Purchase Address</th>\n",
       "      <th>Year</th>\n",
       "      <th>Month</th>\n",
       "      <th>day</th>\n",
       "      <th>Hour</th>\n",
       "    </tr>\n",
       "  </thead>\n",
       "  <tbody>\n",
       "    <tr>\n",
       "      <th>0</th>\n",
       "      <td>iPhone</td>\n",
       "      <td>1</td>\n",
       "      <td>700</td>\n",
       "      <td>2019-01-22 21:25:00</td>\n",
       "      <td>944 Walnut St, Boston, MA 02215</td>\n",
       "      <td>2019</td>\n",
       "      <td>1</td>\n",
       "      <td>22</td>\n",
       "      <td>21</td>\n",
       "    </tr>\n",
       "    <tr>\n",
       "      <th>1</th>\n",
       "      <td>Lightning Charging Cable</td>\n",
       "      <td>1</td>\n",
       "      <td>14.95</td>\n",
       "      <td>2019-01-28 14:15:00</td>\n",
       "      <td>185 Maple St, Portland, OR 97035</td>\n",
       "      <td>2019</td>\n",
       "      <td>1</td>\n",
       "      <td>28</td>\n",
       "      <td>14</td>\n",
       "    </tr>\n",
       "    <tr>\n",
       "      <th>2</th>\n",
       "      <td>Wired Headphones</td>\n",
       "      <td>2</td>\n",
       "      <td>11.99</td>\n",
       "      <td>2019-01-17 13:33:00</td>\n",
       "      <td>538 Adams St, San Francisco, CA 94016</td>\n",
       "      <td>2019</td>\n",
       "      <td>1</td>\n",
       "      <td>17</td>\n",
       "      <td>13</td>\n",
       "    </tr>\n",
       "    <tr>\n",
       "      <th>3</th>\n",
       "      <td>27in FHD Monitor</td>\n",
       "      <td>1</td>\n",
       "      <td>149.99</td>\n",
       "      <td>2019-01-05 20:33:00</td>\n",
       "      <td>738 10th St, Los Angeles, CA 90001</td>\n",
       "      <td>2019</td>\n",
       "      <td>1</td>\n",
       "      <td>5</td>\n",
       "      <td>20</td>\n",
       "    </tr>\n",
       "    <tr>\n",
       "      <th>4</th>\n",
       "      <td>Wired Headphones</td>\n",
       "      <td>1</td>\n",
       "      <td>11.99</td>\n",
       "      <td>2019-01-25 11:59:00</td>\n",
       "      <td>387 10th St, Austin, TX 73301</td>\n",
       "      <td>2019</td>\n",
       "      <td>1</td>\n",
       "      <td>25</td>\n",
       "      <td>11</td>\n",
       "    </tr>\n",
       "  </tbody>\n",
       "</table>\n",
       "</div>"
      ],
      "text/plain": [
       "                    Product Quantity Ordered Price Each          Order Date  \\\n",
       "0                    iPhone                1        700 2019-01-22 21:25:00   \n",
       "1  Lightning Charging Cable                1      14.95 2019-01-28 14:15:00   \n",
       "2          Wired Headphones                2      11.99 2019-01-17 13:33:00   \n",
       "3          27in FHD Monitor                1     149.99 2019-01-05 20:33:00   \n",
       "4          Wired Headphones                1      11.99 2019-01-25 11:59:00   \n",
       "\n",
       "                        Purchase Address  Year  Month  day  Hour  \n",
       "0        944 Walnut St, Boston, MA 02215  2019      1   22    21  \n",
       "1       185 Maple St, Portland, OR 97035  2019      1   28    14  \n",
       "2  538 Adams St, San Francisco, CA 94016  2019      1   17    13  \n",
       "3     738 10th St, Los Angeles, CA 90001  2019      1    5    20  \n",
       "4          387 10th St, Austin, TX 73301  2019      1   25    11  "
      ]
     },
     "execution_count": 32,
     "metadata": {},
     "output_type": "execute_result"
    }
   ],
   "source": [
    "clean_retail.head()"
   ]
  },
  {
   "cell_type": "code",
   "execution_count": 33,
   "id": "a240cb50",
   "metadata": {},
   "outputs": [
    {
     "data": {
      "text/plain": [
       "array([2019, 2020], dtype=int64)"
      ]
     },
     "execution_count": 33,
     "metadata": {},
     "output_type": "execute_result"
    }
   ],
   "source": [
    "clean_retail['Year'].unique()        #So we have 2 years data only so we cannot drop this column"
   ]
  },
  {
   "cell_type": "markdown",
   "id": "e3e1febb",
   "metadata": {},
   "source": [
    "# Summarizing Cleaned Dataset"
   ]
  },
  {
   "cell_type": "code",
   "execution_count": 34,
   "id": "c63265ec",
   "metadata": {},
   "outputs": [
    {
     "name": "stderr",
     "output_type": "stream",
     "text": [
      "<ipython-input-34-47f8feba425e>:1: FutureWarning: Treating datetime data as categorical rather than numeric in `.describe` is deprecated and will be removed in a future version of pandas. Specify `datetime_is_numeric=True` to silence this warning and adopt the future behavior now.\n",
      "  clean_retail.describe(include = 'all')\n"
     ]
    },
    {
     "data": {
      "text/html": [
       "<div>\n",
       "<style scoped>\n",
       "    .dataframe tbody tr th:only-of-type {\n",
       "        vertical-align: middle;\n",
       "    }\n",
       "\n",
       "    .dataframe tbody tr th {\n",
       "        vertical-align: top;\n",
       "    }\n",
       "\n",
       "    .dataframe thead th {\n",
       "        text-align: right;\n",
       "    }\n",
       "</style>\n",
       "<table border=\"1\" class=\"dataframe\">\n",
       "  <thead>\n",
       "    <tr style=\"text-align: right;\">\n",
       "      <th></th>\n",
       "      <th>Product</th>\n",
       "      <th>Quantity Ordered</th>\n",
       "      <th>Price Each</th>\n",
       "      <th>Order Date</th>\n",
       "      <th>Purchase Address</th>\n",
       "      <th>Year</th>\n",
       "      <th>Month</th>\n",
       "      <th>day</th>\n",
       "      <th>Hour</th>\n",
       "    </tr>\n",
       "  </thead>\n",
       "  <tbody>\n",
       "    <tr>\n",
       "      <th>count</th>\n",
       "      <td>185686</td>\n",
       "      <td>185686</td>\n",
       "      <td>185686.00</td>\n",
       "      <td>185686</td>\n",
       "      <td>185686</td>\n",
       "      <td>185686.000000</td>\n",
       "      <td>185686.000000</td>\n",
       "      <td>185686.000000</td>\n",
       "      <td>185686.000000</td>\n",
       "    </tr>\n",
       "    <tr>\n",
       "      <th>unique</th>\n",
       "      <td>19</td>\n",
       "      <td>9</td>\n",
       "      <td>17.00</td>\n",
       "      <td>142395</td>\n",
       "      <td>140787</td>\n",
       "      <td>NaN</td>\n",
       "      <td>NaN</td>\n",
       "      <td>NaN</td>\n",
       "      <td>NaN</td>\n",
       "    </tr>\n",
       "    <tr>\n",
       "      <th>top</th>\n",
       "      <td>USB-C Charging Cable</td>\n",
       "      <td>1</td>\n",
       "      <td>11.95</td>\n",
       "      <td>2019-12-15 20:16:00</td>\n",
       "      <td>193 Forest St, San Francisco, CA 94016</td>\n",
       "      <td>NaN</td>\n",
       "      <td>NaN</td>\n",
       "      <td>NaN</td>\n",
       "      <td>NaN</td>\n",
       "    </tr>\n",
       "    <tr>\n",
       "      <th>freq</th>\n",
       "      <td>21859</td>\n",
       "      <td>168291</td>\n",
       "      <td>21859.00</td>\n",
       "      <td>8</td>\n",
       "      <td>9</td>\n",
       "      <td>NaN</td>\n",
       "      <td>NaN</td>\n",
       "      <td>NaN</td>\n",
       "      <td>NaN</td>\n",
       "    </tr>\n",
       "    <tr>\n",
       "      <th>first</th>\n",
       "      <td>NaN</td>\n",
       "      <td>NaN</td>\n",
       "      <td>NaN</td>\n",
       "      <td>2019-01-01 03:07:00</td>\n",
       "      <td>NaN</td>\n",
       "      <td>NaN</td>\n",
       "      <td>NaN</td>\n",
       "      <td>NaN</td>\n",
       "      <td>NaN</td>\n",
       "    </tr>\n",
       "    <tr>\n",
       "      <th>last</th>\n",
       "      <td>NaN</td>\n",
       "      <td>NaN</td>\n",
       "      <td>NaN</td>\n",
       "      <td>2020-01-01 05:13:00</td>\n",
       "      <td>NaN</td>\n",
       "      <td>NaN</td>\n",
       "      <td>NaN</td>\n",
       "      <td>NaN</td>\n",
       "      <td>NaN</td>\n",
       "    </tr>\n",
       "    <tr>\n",
       "      <th>mean</th>\n",
       "      <td>NaN</td>\n",
       "      <td>NaN</td>\n",
       "      <td>NaN</td>\n",
       "      <td>NaN</td>\n",
       "      <td>NaN</td>\n",
       "      <td>2019.000183</td>\n",
       "      <td>7.058653</td>\n",
       "      <td>15.758662</td>\n",
       "      <td>14.412934</td>\n",
       "    </tr>\n",
       "    <tr>\n",
       "      <th>std</th>\n",
       "      <td>NaN</td>\n",
       "      <td>NaN</td>\n",
       "      <td>NaN</td>\n",
       "      <td>NaN</td>\n",
       "      <td>NaN</td>\n",
       "      <td>0.013530</td>\n",
       "      <td>3.502932</td>\n",
       "      <td>8.782064</td>\n",
       "      <td>5.423329</td>\n",
       "    </tr>\n",
       "    <tr>\n",
       "      <th>min</th>\n",
       "      <td>NaN</td>\n",
       "      <td>NaN</td>\n",
       "      <td>NaN</td>\n",
       "      <td>NaN</td>\n",
       "      <td>NaN</td>\n",
       "      <td>2019.000000</td>\n",
       "      <td>1.000000</td>\n",
       "      <td>1.000000</td>\n",
       "      <td>0.000000</td>\n",
       "    </tr>\n",
       "    <tr>\n",
       "      <th>25%</th>\n",
       "      <td>NaN</td>\n",
       "      <td>NaN</td>\n",
       "      <td>NaN</td>\n",
       "      <td>NaN</td>\n",
       "      <td>NaN</td>\n",
       "      <td>2019.000000</td>\n",
       "      <td>4.000000</td>\n",
       "      <td>8.000000</td>\n",
       "      <td>11.000000</td>\n",
       "    </tr>\n",
       "    <tr>\n",
       "      <th>50%</th>\n",
       "      <td>NaN</td>\n",
       "      <td>NaN</td>\n",
       "      <td>NaN</td>\n",
       "      <td>NaN</td>\n",
       "      <td>NaN</td>\n",
       "      <td>2019.000000</td>\n",
       "      <td>7.000000</td>\n",
       "      <td>16.000000</td>\n",
       "      <td>15.000000</td>\n",
       "    </tr>\n",
       "    <tr>\n",
       "      <th>75%</th>\n",
       "      <td>NaN</td>\n",
       "      <td>NaN</td>\n",
       "      <td>NaN</td>\n",
       "      <td>NaN</td>\n",
       "      <td>NaN</td>\n",
       "      <td>2019.000000</td>\n",
       "      <td>10.000000</td>\n",
       "      <td>23.000000</td>\n",
       "      <td>19.000000</td>\n",
       "    </tr>\n",
       "    <tr>\n",
       "      <th>max</th>\n",
       "      <td>NaN</td>\n",
       "      <td>NaN</td>\n",
       "      <td>NaN</td>\n",
       "      <td>NaN</td>\n",
       "      <td>NaN</td>\n",
       "      <td>2020.000000</td>\n",
       "      <td>12.000000</td>\n",
       "      <td>31.000000</td>\n",
       "      <td>23.000000</td>\n",
       "    </tr>\n",
       "  </tbody>\n",
       "</table>\n",
       "</div>"
      ],
      "text/plain": [
       "                     Product Quantity Ordered  Price Each  \\\n",
       "count                 185686           185686   185686.00   \n",
       "unique                    19                9       17.00   \n",
       "top     USB-C Charging Cable                1       11.95   \n",
       "freq                   21859           168291    21859.00   \n",
       "first                    NaN              NaN         NaN   \n",
       "last                     NaN              NaN         NaN   \n",
       "mean                     NaN              NaN         NaN   \n",
       "std                      NaN              NaN         NaN   \n",
       "min                      NaN              NaN         NaN   \n",
       "25%                      NaN              NaN         NaN   \n",
       "50%                      NaN              NaN         NaN   \n",
       "75%                      NaN              NaN         NaN   \n",
       "max                      NaN              NaN         NaN   \n",
       "\n",
       "                 Order Date                        Purchase Address  \\\n",
       "count                185686                                  185686   \n",
       "unique               142395                                  140787   \n",
       "top     2019-12-15 20:16:00  193 Forest St, San Francisco, CA 94016   \n",
       "freq                      8                                       9   \n",
       "first   2019-01-01 03:07:00                                     NaN   \n",
       "last    2020-01-01 05:13:00                                     NaN   \n",
       "mean                    NaN                                     NaN   \n",
       "std                     NaN                                     NaN   \n",
       "min                     NaN                                     NaN   \n",
       "25%                     NaN                                     NaN   \n",
       "50%                     NaN                                     NaN   \n",
       "75%                     NaN                                     NaN   \n",
       "max                     NaN                                     NaN   \n",
       "\n",
       "                 Year          Month            day           Hour  \n",
       "count   185686.000000  185686.000000  185686.000000  185686.000000  \n",
       "unique            NaN            NaN            NaN            NaN  \n",
       "top               NaN            NaN            NaN            NaN  \n",
       "freq              NaN            NaN            NaN            NaN  \n",
       "first             NaN            NaN            NaN            NaN  \n",
       "last              NaN            NaN            NaN            NaN  \n",
       "mean      2019.000183       7.058653      15.758662      14.412934  \n",
       "std          0.013530       3.502932       8.782064       5.423329  \n",
       "min       2019.000000       1.000000       1.000000       0.000000  \n",
       "25%       2019.000000       4.000000       8.000000      11.000000  \n",
       "50%       2019.000000       7.000000      16.000000      15.000000  \n",
       "75%       2019.000000      10.000000      23.000000      19.000000  \n",
       "max       2020.000000      12.000000      31.000000      23.000000  "
      ]
     },
     "execution_count": 34,
     "metadata": {},
     "output_type": "execute_result"
    }
   ],
   "source": [
    "clean_retail.describe(include = 'all')"
   ]
  },
  {
   "cell_type": "code",
   "execution_count": 35,
   "id": "2e21380a",
   "metadata": {},
   "outputs": [],
   "source": [
    "clean_retail = clean_retail.rename(columns={'Quantity Ordered': 'Quantity', 'Price Each': 'Price', 'Purchase Address': 'Address'})"
   ]
  },
  {
   "cell_type": "code",
   "execution_count": 36,
   "id": "fdcfa0c6",
   "metadata": {},
   "outputs": [
    {
     "data": {
      "text/html": [
       "<div>\n",
       "<style scoped>\n",
       "    .dataframe tbody tr th:only-of-type {\n",
       "        vertical-align: middle;\n",
       "    }\n",
       "\n",
       "    .dataframe tbody tr th {\n",
       "        vertical-align: top;\n",
       "    }\n",
       "\n",
       "    .dataframe thead th {\n",
       "        text-align: right;\n",
       "    }\n",
       "</style>\n",
       "<table border=\"1\" class=\"dataframe\">\n",
       "  <thead>\n",
       "    <tr style=\"text-align: right;\">\n",
       "      <th></th>\n",
       "      <th>Product</th>\n",
       "      <th>Quantity</th>\n",
       "      <th>Price</th>\n",
       "      <th>Order Date</th>\n",
       "      <th>Address</th>\n",
       "      <th>Year</th>\n",
       "      <th>Month</th>\n",
       "      <th>day</th>\n",
       "      <th>Hour</th>\n",
       "    </tr>\n",
       "  </thead>\n",
       "  <tbody>\n",
       "    <tr>\n",
       "      <th>0</th>\n",
       "      <td>iPhone</td>\n",
       "      <td>1</td>\n",
       "      <td>700</td>\n",
       "      <td>2019-01-22 21:25:00</td>\n",
       "      <td>944 Walnut St, Boston, MA 02215</td>\n",
       "      <td>2019</td>\n",
       "      <td>1</td>\n",
       "      <td>22</td>\n",
       "      <td>21</td>\n",
       "    </tr>\n",
       "    <tr>\n",
       "      <th>1</th>\n",
       "      <td>Lightning Charging Cable</td>\n",
       "      <td>1</td>\n",
       "      <td>14.95</td>\n",
       "      <td>2019-01-28 14:15:00</td>\n",
       "      <td>185 Maple St, Portland, OR 97035</td>\n",
       "      <td>2019</td>\n",
       "      <td>1</td>\n",
       "      <td>28</td>\n",
       "      <td>14</td>\n",
       "    </tr>\n",
       "    <tr>\n",
       "      <th>2</th>\n",
       "      <td>Wired Headphones</td>\n",
       "      <td>2</td>\n",
       "      <td>11.99</td>\n",
       "      <td>2019-01-17 13:33:00</td>\n",
       "      <td>538 Adams St, San Francisco, CA 94016</td>\n",
       "      <td>2019</td>\n",
       "      <td>1</td>\n",
       "      <td>17</td>\n",
       "      <td>13</td>\n",
       "    </tr>\n",
       "    <tr>\n",
       "      <th>3</th>\n",
       "      <td>27in FHD Monitor</td>\n",
       "      <td>1</td>\n",
       "      <td>149.99</td>\n",
       "      <td>2019-01-05 20:33:00</td>\n",
       "      <td>738 10th St, Los Angeles, CA 90001</td>\n",
       "      <td>2019</td>\n",
       "      <td>1</td>\n",
       "      <td>5</td>\n",
       "      <td>20</td>\n",
       "    </tr>\n",
       "    <tr>\n",
       "      <th>4</th>\n",
       "      <td>Wired Headphones</td>\n",
       "      <td>1</td>\n",
       "      <td>11.99</td>\n",
       "      <td>2019-01-25 11:59:00</td>\n",
       "      <td>387 10th St, Austin, TX 73301</td>\n",
       "      <td>2019</td>\n",
       "      <td>1</td>\n",
       "      <td>25</td>\n",
       "      <td>11</td>\n",
       "    </tr>\n",
       "  </tbody>\n",
       "</table>\n",
       "</div>"
      ],
      "text/plain": [
       "                    Product Quantity   Price          Order Date  \\\n",
       "0                    iPhone        1     700 2019-01-22 21:25:00   \n",
       "1  Lightning Charging Cable        1   14.95 2019-01-28 14:15:00   \n",
       "2          Wired Headphones        2   11.99 2019-01-17 13:33:00   \n",
       "3          27in FHD Monitor        1  149.99 2019-01-05 20:33:00   \n",
       "4          Wired Headphones        1   11.99 2019-01-25 11:59:00   \n",
       "\n",
       "                                 Address  Year  Month  day  Hour  \n",
       "0        944 Walnut St, Boston, MA 02215  2019      1   22    21  \n",
       "1       185 Maple St, Portland, OR 97035  2019      1   28    14  \n",
       "2  538 Adams St, San Francisco, CA 94016  2019      1   17    13  \n",
       "3     738 10th St, Los Angeles, CA 90001  2019      1    5    20  \n",
       "4          387 10th St, Austin, TX 73301  2019      1   25    11  "
      ]
     },
     "execution_count": 36,
     "metadata": {},
     "output_type": "execute_result"
    }
   ],
   "source": [
    "clean_retail.head()"
   ]
  },
  {
   "cell_type": "code",
   "execution_count": 37,
   "id": "42b00685",
   "metadata": {},
   "outputs": [],
   "source": [
    "clean_retail['Price']= pd.to_numeric(clean_retail['Price'])\n",
    "clean_retail['Quantity']= pd.to_numeric(clean_retail['Quantity'])"
   ]
  },
  {
   "cell_type": "code",
   "execution_count": 38,
   "id": "8a903b59",
   "metadata": {},
   "outputs": [
    {
     "name": "stderr",
     "output_type": "stream",
     "text": [
      "<ipython-input-38-47f8feba425e>:1: FutureWarning: Treating datetime data as categorical rather than numeric in `.describe` is deprecated and will be removed in a future version of pandas. Specify `datetime_is_numeric=True` to silence this warning and adopt the future behavior now.\n",
      "  clean_retail.describe(include = 'all')\n"
     ]
    },
    {
     "data": {
      "text/html": [
       "<div>\n",
       "<style scoped>\n",
       "    .dataframe tbody tr th:only-of-type {\n",
       "        vertical-align: middle;\n",
       "    }\n",
       "\n",
       "    .dataframe tbody tr th {\n",
       "        vertical-align: top;\n",
       "    }\n",
       "\n",
       "    .dataframe thead th {\n",
       "        text-align: right;\n",
       "    }\n",
       "</style>\n",
       "<table border=\"1\" class=\"dataframe\">\n",
       "  <thead>\n",
       "    <tr style=\"text-align: right;\">\n",
       "      <th></th>\n",
       "      <th>Product</th>\n",
       "      <th>Quantity</th>\n",
       "      <th>Price</th>\n",
       "      <th>Order Date</th>\n",
       "      <th>Address</th>\n",
       "      <th>Year</th>\n",
       "      <th>Month</th>\n",
       "      <th>day</th>\n",
       "      <th>Hour</th>\n",
       "    </tr>\n",
       "  </thead>\n",
       "  <tbody>\n",
       "    <tr>\n",
       "      <th>count</th>\n",
       "      <td>185686</td>\n",
       "      <td>185686.000000</td>\n",
       "      <td>185686.000000</td>\n",
       "      <td>185686</td>\n",
       "      <td>185686</td>\n",
       "      <td>185686.000000</td>\n",
       "      <td>185686.000000</td>\n",
       "      <td>185686.000000</td>\n",
       "      <td>185686.000000</td>\n",
       "    </tr>\n",
       "    <tr>\n",
       "      <th>unique</th>\n",
       "      <td>19</td>\n",
       "      <td>NaN</td>\n",
       "      <td>NaN</td>\n",
       "      <td>142395</td>\n",
       "      <td>140787</td>\n",
       "      <td>NaN</td>\n",
       "      <td>NaN</td>\n",
       "      <td>NaN</td>\n",
       "      <td>NaN</td>\n",
       "    </tr>\n",
       "    <tr>\n",
       "      <th>top</th>\n",
       "      <td>USB-C Charging Cable</td>\n",
       "      <td>NaN</td>\n",
       "      <td>NaN</td>\n",
       "      <td>2019-12-15 20:16:00</td>\n",
       "      <td>193 Forest St, San Francisco, CA 94016</td>\n",
       "      <td>NaN</td>\n",
       "      <td>NaN</td>\n",
       "      <td>NaN</td>\n",
       "      <td>NaN</td>\n",
       "    </tr>\n",
       "    <tr>\n",
       "      <th>freq</th>\n",
       "      <td>21859</td>\n",
       "      <td>NaN</td>\n",
       "      <td>NaN</td>\n",
       "      <td>8</td>\n",
       "      <td>9</td>\n",
       "      <td>NaN</td>\n",
       "      <td>NaN</td>\n",
       "      <td>NaN</td>\n",
       "      <td>NaN</td>\n",
       "    </tr>\n",
       "    <tr>\n",
       "      <th>first</th>\n",
       "      <td>NaN</td>\n",
       "      <td>NaN</td>\n",
       "      <td>NaN</td>\n",
       "      <td>2019-01-01 03:07:00</td>\n",
       "      <td>NaN</td>\n",
       "      <td>NaN</td>\n",
       "      <td>NaN</td>\n",
       "      <td>NaN</td>\n",
       "      <td>NaN</td>\n",
       "    </tr>\n",
       "    <tr>\n",
       "      <th>last</th>\n",
       "      <td>NaN</td>\n",
       "      <td>NaN</td>\n",
       "      <td>NaN</td>\n",
       "      <td>2020-01-01 05:13:00</td>\n",
       "      <td>NaN</td>\n",
       "      <td>NaN</td>\n",
       "      <td>NaN</td>\n",
       "      <td>NaN</td>\n",
       "      <td>NaN</td>\n",
       "    </tr>\n",
       "    <tr>\n",
       "      <th>mean</th>\n",
       "      <td>NaN</td>\n",
       "      <td>1.124544</td>\n",
       "      <td>184.519255</td>\n",
       "      <td>NaN</td>\n",
       "      <td>NaN</td>\n",
       "      <td>2019.000183</td>\n",
       "      <td>7.058653</td>\n",
       "      <td>15.758662</td>\n",
       "      <td>14.412934</td>\n",
       "    </tr>\n",
       "    <tr>\n",
       "      <th>std</th>\n",
       "      <td>NaN</td>\n",
       "      <td>0.443069</td>\n",
       "      <td>332.843838</td>\n",
       "      <td>NaN</td>\n",
       "      <td>NaN</td>\n",
       "      <td>0.013530</td>\n",
       "      <td>3.502932</td>\n",
       "      <td>8.782064</td>\n",
       "      <td>5.423329</td>\n",
       "    </tr>\n",
       "    <tr>\n",
       "      <th>min</th>\n",
       "      <td>NaN</td>\n",
       "      <td>1.000000</td>\n",
       "      <td>2.990000</td>\n",
       "      <td>NaN</td>\n",
       "      <td>NaN</td>\n",
       "      <td>2019.000000</td>\n",
       "      <td>1.000000</td>\n",
       "      <td>1.000000</td>\n",
       "      <td>0.000000</td>\n",
       "    </tr>\n",
       "    <tr>\n",
       "      <th>25%</th>\n",
       "      <td>NaN</td>\n",
       "      <td>1.000000</td>\n",
       "      <td>11.950000</td>\n",
       "      <td>NaN</td>\n",
       "      <td>NaN</td>\n",
       "      <td>2019.000000</td>\n",
       "      <td>4.000000</td>\n",
       "      <td>8.000000</td>\n",
       "      <td>11.000000</td>\n",
       "    </tr>\n",
       "    <tr>\n",
       "      <th>50%</th>\n",
       "      <td>NaN</td>\n",
       "      <td>1.000000</td>\n",
       "      <td>14.950000</td>\n",
       "      <td>NaN</td>\n",
       "      <td>NaN</td>\n",
       "      <td>2019.000000</td>\n",
       "      <td>7.000000</td>\n",
       "      <td>16.000000</td>\n",
       "      <td>15.000000</td>\n",
       "    </tr>\n",
       "    <tr>\n",
       "      <th>75%</th>\n",
       "      <td>NaN</td>\n",
       "      <td>1.000000</td>\n",
       "      <td>150.000000</td>\n",
       "      <td>NaN</td>\n",
       "      <td>NaN</td>\n",
       "      <td>2019.000000</td>\n",
       "      <td>10.000000</td>\n",
       "      <td>23.000000</td>\n",
       "      <td>19.000000</td>\n",
       "    </tr>\n",
       "    <tr>\n",
       "      <th>max</th>\n",
       "      <td>NaN</td>\n",
       "      <td>9.000000</td>\n",
       "      <td>1700.000000</td>\n",
       "      <td>NaN</td>\n",
       "      <td>NaN</td>\n",
       "      <td>2020.000000</td>\n",
       "      <td>12.000000</td>\n",
       "      <td>31.000000</td>\n",
       "      <td>23.000000</td>\n",
       "    </tr>\n",
       "  </tbody>\n",
       "</table>\n",
       "</div>"
      ],
      "text/plain": [
       "                     Product       Quantity          Price  \\\n",
       "count                 185686  185686.000000  185686.000000   \n",
       "unique                    19            NaN            NaN   \n",
       "top     USB-C Charging Cable            NaN            NaN   \n",
       "freq                   21859            NaN            NaN   \n",
       "first                    NaN            NaN            NaN   \n",
       "last                     NaN            NaN            NaN   \n",
       "mean                     NaN       1.124544     184.519255   \n",
       "std                      NaN       0.443069     332.843838   \n",
       "min                      NaN       1.000000       2.990000   \n",
       "25%                      NaN       1.000000      11.950000   \n",
       "50%                      NaN       1.000000      14.950000   \n",
       "75%                      NaN       1.000000     150.000000   \n",
       "max                      NaN       9.000000    1700.000000   \n",
       "\n",
       "                 Order Date                                 Address  \\\n",
       "count                185686                                  185686   \n",
       "unique               142395                                  140787   \n",
       "top     2019-12-15 20:16:00  193 Forest St, San Francisco, CA 94016   \n",
       "freq                      8                                       9   \n",
       "first   2019-01-01 03:07:00                                     NaN   \n",
       "last    2020-01-01 05:13:00                                     NaN   \n",
       "mean                    NaN                                     NaN   \n",
       "std                     NaN                                     NaN   \n",
       "min                     NaN                                     NaN   \n",
       "25%                     NaN                                     NaN   \n",
       "50%                     NaN                                     NaN   \n",
       "75%                     NaN                                     NaN   \n",
       "max                     NaN                                     NaN   \n",
       "\n",
       "                 Year          Month            day           Hour  \n",
       "count   185686.000000  185686.000000  185686.000000  185686.000000  \n",
       "unique            NaN            NaN            NaN            NaN  \n",
       "top               NaN            NaN            NaN            NaN  \n",
       "freq              NaN            NaN            NaN            NaN  \n",
       "first             NaN            NaN            NaN            NaN  \n",
       "last              NaN            NaN            NaN            NaN  \n",
       "mean      2019.000183       7.058653      15.758662      14.412934  \n",
       "std          0.013530       3.502932       8.782064       5.423329  \n",
       "min       2019.000000       1.000000       1.000000       0.000000  \n",
       "25%       2019.000000       4.000000       8.000000      11.000000  \n",
       "50%       2019.000000       7.000000      16.000000      15.000000  \n",
       "75%       2019.000000      10.000000      23.000000      19.000000  \n",
       "max       2020.000000      12.000000      31.000000      23.000000  "
      ]
     },
     "execution_count": 38,
     "metadata": {},
     "output_type": "execute_result"
    }
   ],
   "source": [
    "clean_retail.describe(include = 'all')"
   ]
  },
  {
   "cell_type": "code",
   "execution_count": 39,
   "id": "aa934b73",
   "metadata": {},
   "outputs": [
    {
     "name": "stdout",
     "output_type": "stream",
     "text": [
      "<class 'pandas.core.frame.DataFrame'>\n",
      "Int64Index: 185686 entries, 0 to 186849\n",
      "Data columns (total 9 columns):\n",
      " #   Column      Non-Null Count   Dtype         \n",
      "---  ------      --------------   -----         \n",
      " 0   Product     185686 non-null  object        \n",
      " 1   Quantity    185686 non-null  int64         \n",
      " 2   Price       185686 non-null  float64       \n",
      " 3   Order Date  185686 non-null  datetime64[ns]\n",
      " 4   Address     185686 non-null  object        \n",
      " 5   Year        185686 non-null  int64         \n",
      " 6   Month       185686 non-null  int64         \n",
      " 7   day         185686 non-null  int64         \n",
      " 8   Hour        185686 non-null  int64         \n",
      "dtypes: datetime64[ns](1), float64(1), int64(5), object(2)\n",
      "memory usage: 14.2+ MB\n"
     ]
    }
   ],
   "source": [
    "clean_retail.info()"
   ]
  },
  {
   "cell_type": "code",
   "execution_count": 40,
   "id": "cd39e5e3",
   "metadata": {},
   "outputs": [
    {
     "name": "stdout",
     "output_type": "stream",
     "text": [
      "<class 'pandas.core.frame.DataFrame'>\n",
      "RangeIndex: 373700 entries, 0 to 373699\n",
      "Data columns (total 5 columns):\n",
      " #   Column            Non-Null Count   Dtype \n",
      "---  ------            --------------   ----- \n",
      " 0   Product           372610 non-null  object\n",
      " 1   Quantity Ordered  373700 non-null  object\n",
      " 2   Price Each        372610 non-null  object\n",
      " 3   Order Date        372610 non-null  object\n",
      " 4   Purchase Address  372610 non-null  object\n",
      "dtypes: object(5)\n",
      "memory usage: 14.3+ MB\n"
     ]
    }
   ],
   "source": [
    "retail.info()"
   ]
  },
  {
   "cell_type": "markdown",
   "id": "1e2907c1",
   "metadata": {},
   "source": [
    "__We can clearly differentiate the difference in the datatypes of the clean dataset and the raw dataset.\n",
    "Also the difference between the rows before and after removing the missing values, duplicates etc.\n",
    "Third, we have created some new columns also which can be useful to us in future.\n",
    "We are now done with Data cleaning and pre- processing.__"
   ]
  },
  {
   "cell_type": "markdown",
   "id": "0e84de90",
   "metadata": {},
   "source": [
    "# Distribution of Sales"
   ]
  },
  {
   "cell_type": "markdown",
   "id": "31f9b3b8",
   "metadata": {},
   "source": [
    "__We are provided with the quantity and price only so we need to calculate the sales by creating another column and using the formulae as per the availability of features.__\n",
    "\n",
    "\n",
    "__So we will use the formula as,  sales =  price * Quantity__"
   ]
  },
  {
   "cell_type": "code",
   "execution_count": 41,
   "id": "531b99c6",
   "metadata": {},
   "outputs": [],
   "source": [
    "clean_retail['Sales'] = clean_retail['Price']*clean_retail['Quantity']"
   ]
  },
  {
   "cell_type": "code",
   "execution_count": 42,
   "id": "5c66650c",
   "metadata": {
    "scrolled": true
   },
   "outputs": [
    {
     "data": {
      "text/html": [
       "<div>\n",
       "<style scoped>\n",
       "    .dataframe tbody tr th:only-of-type {\n",
       "        vertical-align: middle;\n",
       "    }\n",
       "\n",
       "    .dataframe tbody tr th {\n",
       "        vertical-align: top;\n",
       "    }\n",
       "\n",
       "    .dataframe thead th {\n",
       "        text-align: right;\n",
       "    }\n",
       "</style>\n",
       "<table border=\"1\" class=\"dataframe\">\n",
       "  <thead>\n",
       "    <tr style=\"text-align: right;\">\n",
       "      <th></th>\n",
       "      <th>Product</th>\n",
       "      <th>Quantity</th>\n",
       "      <th>Price</th>\n",
       "      <th>Order Date</th>\n",
       "      <th>Address</th>\n",
       "      <th>Year</th>\n",
       "      <th>Month</th>\n",
       "      <th>day</th>\n",
       "      <th>Hour</th>\n",
       "      <th>Sales</th>\n",
       "    </tr>\n",
       "  </thead>\n",
       "  <tbody>\n",
       "    <tr>\n",
       "      <th>0</th>\n",
       "      <td>iPhone</td>\n",
       "      <td>1</td>\n",
       "      <td>700.00</td>\n",
       "      <td>2019-01-22 21:25:00</td>\n",
       "      <td>944 Walnut St, Boston, MA 02215</td>\n",
       "      <td>2019</td>\n",
       "      <td>1</td>\n",
       "      <td>22</td>\n",
       "      <td>21</td>\n",
       "      <td>700.00</td>\n",
       "    </tr>\n",
       "    <tr>\n",
       "      <th>1</th>\n",
       "      <td>Lightning Charging Cable</td>\n",
       "      <td>1</td>\n",
       "      <td>14.95</td>\n",
       "      <td>2019-01-28 14:15:00</td>\n",
       "      <td>185 Maple St, Portland, OR 97035</td>\n",
       "      <td>2019</td>\n",
       "      <td>1</td>\n",
       "      <td>28</td>\n",
       "      <td>14</td>\n",
       "      <td>14.95</td>\n",
       "    </tr>\n",
       "    <tr>\n",
       "      <th>2</th>\n",
       "      <td>Wired Headphones</td>\n",
       "      <td>2</td>\n",
       "      <td>11.99</td>\n",
       "      <td>2019-01-17 13:33:00</td>\n",
       "      <td>538 Adams St, San Francisco, CA 94016</td>\n",
       "      <td>2019</td>\n",
       "      <td>1</td>\n",
       "      <td>17</td>\n",
       "      <td>13</td>\n",
       "      <td>23.98</td>\n",
       "    </tr>\n",
       "    <tr>\n",
       "      <th>3</th>\n",
       "      <td>27in FHD Monitor</td>\n",
       "      <td>1</td>\n",
       "      <td>149.99</td>\n",
       "      <td>2019-01-05 20:33:00</td>\n",
       "      <td>738 10th St, Los Angeles, CA 90001</td>\n",
       "      <td>2019</td>\n",
       "      <td>1</td>\n",
       "      <td>5</td>\n",
       "      <td>20</td>\n",
       "      <td>149.99</td>\n",
       "    </tr>\n",
       "    <tr>\n",
       "      <th>4</th>\n",
       "      <td>Wired Headphones</td>\n",
       "      <td>1</td>\n",
       "      <td>11.99</td>\n",
       "      <td>2019-01-25 11:59:00</td>\n",
       "      <td>387 10th St, Austin, TX 73301</td>\n",
       "      <td>2019</td>\n",
       "      <td>1</td>\n",
       "      <td>25</td>\n",
       "      <td>11</td>\n",
       "      <td>11.99</td>\n",
       "    </tr>\n",
       "    <tr>\n",
       "      <th>...</th>\n",
       "      <td>...</td>\n",
       "      <td>...</td>\n",
       "      <td>...</td>\n",
       "      <td>...</td>\n",
       "      <td>...</td>\n",
       "      <td>...</td>\n",
       "      <td>...</td>\n",
       "      <td>...</td>\n",
       "      <td>...</td>\n",
       "      <td>...</td>\n",
       "    </tr>\n",
       "    <tr>\n",
       "      <th>186845</th>\n",
       "      <td>Lightning Charging Cable</td>\n",
       "      <td>1</td>\n",
       "      <td>14.95</td>\n",
       "      <td>2019-12-11 20:58:00</td>\n",
       "      <td>14 Madison St, San Francisco, CA 94016</td>\n",
       "      <td>2019</td>\n",
       "      <td>12</td>\n",
       "      <td>11</td>\n",
       "      <td>20</td>\n",
       "      <td>14.95</td>\n",
       "    </tr>\n",
       "    <tr>\n",
       "      <th>186846</th>\n",
       "      <td>AA Batteries (4-pack)</td>\n",
       "      <td>2</td>\n",
       "      <td>3.84</td>\n",
       "      <td>2019-12-01 12:01:00</td>\n",
       "      <td>549 Willow St, Los Angeles, CA 90001</td>\n",
       "      <td>2019</td>\n",
       "      <td>12</td>\n",
       "      <td>1</td>\n",
       "      <td>12</td>\n",
       "      <td>7.68</td>\n",
       "    </tr>\n",
       "    <tr>\n",
       "      <th>186847</th>\n",
       "      <td>Vareebadd Phone</td>\n",
       "      <td>1</td>\n",
       "      <td>400.00</td>\n",
       "      <td>2019-12-09 06:43:00</td>\n",
       "      <td>273 Wilson St, Seattle, WA 98101</td>\n",
       "      <td>2019</td>\n",
       "      <td>12</td>\n",
       "      <td>9</td>\n",
       "      <td>6</td>\n",
       "      <td>400.00</td>\n",
       "    </tr>\n",
       "    <tr>\n",
       "      <th>186848</th>\n",
       "      <td>Wired Headphones</td>\n",
       "      <td>1</td>\n",
       "      <td>11.99</td>\n",
       "      <td>2019-12-03 10:39:00</td>\n",
       "      <td>778 River St, Dallas, TX 75001</td>\n",
       "      <td>2019</td>\n",
       "      <td>12</td>\n",
       "      <td>3</td>\n",
       "      <td>10</td>\n",
       "      <td>11.99</td>\n",
       "    </tr>\n",
       "    <tr>\n",
       "      <th>186849</th>\n",
       "      <td>Bose SoundSport Headphones</td>\n",
       "      <td>1</td>\n",
       "      <td>99.99</td>\n",
       "      <td>2019-12-21 21:45:00</td>\n",
       "      <td>747 Chestnut St, Los Angeles, CA 90001</td>\n",
       "      <td>2019</td>\n",
       "      <td>12</td>\n",
       "      <td>21</td>\n",
       "      <td>21</td>\n",
       "      <td>99.99</td>\n",
       "    </tr>\n",
       "  </tbody>\n",
       "</table>\n",
       "<p>185686 rows × 10 columns</p>\n",
       "</div>"
      ],
      "text/plain": [
       "                           Product  Quantity   Price          Order Date  \\\n",
       "0                           iPhone         1  700.00 2019-01-22 21:25:00   \n",
       "1         Lightning Charging Cable         1   14.95 2019-01-28 14:15:00   \n",
       "2                 Wired Headphones         2   11.99 2019-01-17 13:33:00   \n",
       "3                 27in FHD Monitor         1  149.99 2019-01-05 20:33:00   \n",
       "4                 Wired Headphones         1   11.99 2019-01-25 11:59:00   \n",
       "...                            ...       ...     ...                 ...   \n",
       "186845    Lightning Charging Cable         1   14.95 2019-12-11 20:58:00   \n",
       "186846       AA Batteries (4-pack)         2    3.84 2019-12-01 12:01:00   \n",
       "186847             Vareebadd Phone         1  400.00 2019-12-09 06:43:00   \n",
       "186848            Wired Headphones         1   11.99 2019-12-03 10:39:00   \n",
       "186849  Bose SoundSport Headphones         1   99.99 2019-12-21 21:45:00   \n",
       "\n",
       "                                       Address  Year  Month  day  Hour   Sales  \n",
       "0              944 Walnut St, Boston, MA 02215  2019      1   22    21  700.00  \n",
       "1             185 Maple St, Portland, OR 97035  2019      1   28    14   14.95  \n",
       "2        538 Adams St, San Francisco, CA 94016  2019      1   17    13   23.98  \n",
       "3           738 10th St, Los Angeles, CA 90001  2019      1    5    20  149.99  \n",
       "4                387 10th St, Austin, TX 73301  2019      1   25    11   11.99  \n",
       "...                                        ...   ...    ...  ...   ...     ...  \n",
       "186845  14 Madison St, San Francisco, CA 94016  2019     12   11    20   14.95  \n",
       "186846    549 Willow St, Los Angeles, CA 90001  2019     12    1    12    7.68  \n",
       "186847        273 Wilson St, Seattle, WA 98101  2019     12    9     6  400.00  \n",
       "186848          778 River St, Dallas, TX 75001  2019     12    3    10   11.99  \n",
       "186849  747 Chestnut St, Los Angeles, CA 90001  2019     12   21    21   99.99  \n",
       "\n",
       "[185686 rows x 10 columns]"
      ]
     },
     "execution_count": 42,
     "metadata": {},
     "output_type": "execute_result"
    }
   ],
   "source": [
    "clean_retail"
   ]
  },
  {
   "cell_type": "markdown",
   "id": "21abf1d2",
   "metadata": {},
   "source": [
    "# We are now ready to go with distribution of sales\n",
    "\n",
    "__Distribution Month wise__\n",
    "\n"
   ]
  },
  {
   "cell_type": "code",
   "execution_count": 43,
   "id": "c670b403",
   "metadata": {},
   "outputs": [
    {
     "name": "stderr",
     "output_type": "stream",
     "text": [
      "C:\\Users\\Bakul anmol\\anaconda3\\lib\\site-packages\\seaborn\\distributions.py:2557: FutureWarning: `distplot` is a deprecated function and will be removed in a future version. Please adapt your code to use either `displot` (a figure-level function with similar flexibility) or `histplot` (an axes-level function for histograms).\n",
      "  warnings.warn(msg, FutureWarning)\n"
     ]
    },
    {
     "data": {
      "text/plain": [
       "<matplotlib.legend.Legend at 0x18205671e20>"
      ]
     },
     "execution_count": 43,
     "metadata": {},
     "output_type": "execute_result"
    },
    {
     "data": {
      "image/png": "[encoded data removed]",
      "text/plain": [
       "<Figure size 432x288 with 1 Axes>"
      ]
     },
     "metadata": {
      "needs_background": "light"
     },
     "output_type": "display_data"
    }
   ],
   "source": [
    "sns.distplot(clean_retail.Sales)\n",
    "plt.axvline(x = clean_retail.Sales.mean(), color = 'red', alpha = 1, label = \"Mean\")\n",
    "plt.axvline(x = clean_retail.Sales.median(), color = 'black', alpha = 1, label = \"Median\")\n",
    "plt.legend()"
   ]
  },
  {
   "cell_type": "markdown",
   "id": "12bc3432",
   "metadata": {},
   "source": [
    "As we can see the sales distribution is Positively skewed (Right skewed). Let's measure the extent of skewness now."
   ]
  },
  {
   "cell_type": "code",
   "execution_count": 44,
   "id": "2fe8179b",
   "metadata": {},
   "outputs": [
    {
     "data": {
      "text/plain": [
       "2.880375571745305"
      ]
     },
     "execution_count": 44,
     "metadata": {},
     "output_type": "execute_result"
    }
   ],
   "source": [
    "clean_retail['Sales'].skew()"
   ]
  },
  {
   "cell_type": "markdown",
   "id": "e7d7597e",
   "metadata": {},
   "source": [
    "__This Feature is highly skewed so we need to transform it into a normal form.__\n",
    "\n",
    "\n",
    "__So now we will apply different transformation methods and then will go with the best suited one__"
   ]
  },
  {
   "cell_type": "code",
   "execution_count": 45,
   "id": "ca6b2e86",
   "metadata": {},
   "outputs": [],
   "source": [
    "import numpy as np"
   ]
  },
  {
   "cell_type": "code",
   "execution_count": 46,
   "id": "1456596f",
   "metadata": {},
   "outputs": [
    {
     "name": "stderr",
     "output_type": "stream",
     "text": [
      "C:\\Users\\Bakul anmol\\anaconda3\\lib\\site-packages\\seaborn\\_decorators.py:36: FutureWarning: Pass the following variable as a keyword arg: x. From version 0.12, the only valid positional argument will be `data`, and passing other arguments without an explicit keyword will result in an error or misinterpretation.\n",
      "  warnings.warn(\n"
     ]
    },
    {
     "data": {
      "text/plain": [
       "<AxesSubplot:xlabel='Sales'>"
      ]
     },
     "execution_count": 46,
     "metadata": {},
     "output_type": "execute_result"
    },
    {
     "data": {
      "image/png": "[encoded data removed]",
      "text/plain": [
       "<Figure size 432x288 with 1 Axes>"
      ]
     },
     "metadata": {
      "needs_background": "light"
     },
     "output_type": "display_data"
    }
   ],
   "source": [
    "sns.boxplot(clean_retail.Sales)"
   ]
  },
  {
   "cell_type": "code",
   "execution_count": 47,
   "id": "1d97d945",
   "metadata": {},
   "outputs": [
    {
     "data": {
      "text/plain": [
       "2.880375571745305"
      ]
     },
     "execution_count": 47,
     "metadata": {},
     "output_type": "execute_result"
    }
   ],
   "source": [
    "clean_retail['Sales'].skew()"
   ]
  },
  {
   "cell_type": "code",
   "execution_count": 48,
   "id": "86dd8c75",
   "metadata": {},
   "outputs": [
    {
     "data": {
      "text/html": [
       "<div>\n",
       "<style scoped>\n",
       "    .dataframe tbody tr th:only-of-type {\n",
       "        vertical-align: middle;\n",
       "    }\n",
       "\n",
       "    .dataframe tbody tr th {\n",
       "        vertical-align: top;\n",
       "    }\n",
       "\n",
       "    .dataframe thead th {\n",
       "        text-align: right;\n",
       "    }\n",
       "</style>\n",
       "<table border=\"1\" class=\"dataframe\">\n",
       "  <thead>\n",
       "    <tr style=\"text-align: right;\">\n",
       "      <th></th>\n",
       "      <th>sqrt</th>\n",
       "      <th>log</th>\n",
       "    </tr>\n",
       "  </thead>\n",
       "  <tbody>\n",
       "    <tr>\n",
       "      <th>0</th>\n",
       "      <td>26.457513</td>\n",
       "      <td>6.551080</td>\n",
       "    </tr>\n",
       "    <tr>\n",
       "      <th>1</th>\n",
       "      <td>3.866523</td>\n",
       "      <td>2.704711</td>\n",
       "    </tr>\n",
       "    <tr>\n",
       "      <th>2</th>\n",
       "      <td>4.896938</td>\n",
       "      <td>3.177220</td>\n",
       "    </tr>\n",
       "    <tr>\n",
       "      <th>3</th>\n",
       "      <td>12.247040</td>\n",
       "      <td>5.010569</td>\n",
       "    </tr>\n",
       "    <tr>\n",
       "      <th>4</th>\n",
       "      <td>3.462658</td>\n",
       "      <td>2.484073</td>\n",
       "    </tr>\n",
       "    <tr>\n",
       "      <th>...</th>\n",
       "      <td>...</td>\n",
       "      <td>...</td>\n",
       "    </tr>\n",
       "    <tr>\n",
       "      <th>186845</th>\n",
       "      <td>3.866523</td>\n",
       "      <td>2.704711</td>\n",
       "    </tr>\n",
       "    <tr>\n",
       "      <th>186846</th>\n",
       "      <td>2.771281</td>\n",
       "      <td>2.038620</td>\n",
       "    </tr>\n",
       "    <tr>\n",
       "      <th>186847</th>\n",
       "      <td>20.000000</td>\n",
       "      <td>5.991465</td>\n",
       "    </tr>\n",
       "    <tr>\n",
       "      <th>186848</th>\n",
       "      <td>3.462658</td>\n",
       "      <td>2.484073</td>\n",
       "    </tr>\n",
       "    <tr>\n",
       "      <th>186849</th>\n",
       "      <td>9.999500</td>\n",
       "      <td>4.605070</td>\n",
       "    </tr>\n",
       "  </tbody>\n",
       "</table>\n",
       "<p>185686 rows × 2 columns</p>\n",
       "</div>"
      ],
      "text/plain": [
       "             sqrt       log\n",
       "0       26.457513  6.551080\n",
       "1        3.866523  2.704711\n",
       "2        4.896938  3.177220\n",
       "3       12.247040  5.010569\n",
       "4        3.462658  2.484073\n",
       "...           ...       ...\n",
       "186845   3.866523  2.704711\n",
       "186846   2.771281  2.038620\n",
       "186847  20.000000  5.991465\n",
       "186848   3.462658  2.484073\n",
       "186849   9.999500  4.605070\n",
       "\n",
       "[185686 rows x 2 columns]"
      ]
     },
     "execution_count": 48,
     "metadata": {},
     "output_type": "execute_result"
    }
   ],
   "source": [
    "retail_transform = clean_retail['Sales'].transform([np.sqrt, np.log])\n",
    "retail_transform"
   ]
  },
  {
   "cell_type": "code",
   "execution_count": 49,
   "id": "d48f5922",
   "metadata": {},
   "outputs": [
    {
     "data": {
      "image/png": "[encoded data removed]",
      "text/plain": [
       "<Figure size 720x576 with 4 Axes>"
      ]
     },
     "metadata": {
      "needs_background": "light"
     },
     "output_type": "display_data"
    }
   ],
   "source": [
    "retail_transform.hist(bins = 20, layout = (2,2), edgecolor = 'k', figsize = (10,8))\n",
    "plt.show()"
   ]
  },
  {
   "cell_type": "code",
   "execution_count": 50,
   "id": "18ff99d3",
   "metadata": {},
   "outputs": [
    {
     "name": "stderr",
     "output_type": "stream",
     "text": [
      "C:\\Users\\Bakul anmol\\anaconda3\\lib\\site-packages\\seaborn\\distributions.py:2557: FutureWarning: `distplot` is a deprecated function and will be removed in a future version. Please adapt your code to use either `displot` (a figure-level function with similar flexibility) or `histplot` (an axes-level function for histograms).\n",
      "  warnings.warn(msg, FutureWarning)\n"
     ]
    },
    {
     "data": {
      "text/plain": [
       "<matplotlib.legend.Legend at 0x1820584dd00>"
      ]
     },
     "execution_count": 50,
     "metadata": {},
     "output_type": "execute_result"
    },
    {
     "data": {
      "image/png": "[encoded data removed]",
      "text/plain": [
       "<Figure size 432x288 with 1 Axes>"
      ]
     },
     "metadata": {
      "needs_background": "light"
     },
     "output_type": "display_data"
    }
   ],
   "source": [
    "clean_retail['Sales_log'] = np.log(clean_retail['Sales'])\n",
    "sns.distplot(clean_retail.Sales)\n",
    "plt.axvline(x = clean_retail.Sales.mean(), color = 'red', alpha = 1, label = \"Mean\")\n",
    "plt.axvline(x = clean_retail.Sales.median(), color = 'black', alpha = 1, label = \"Median\")\n",
    "plt.legend()\n",
    "\n"
   ]
  },
  {
   "cell_type": "code",
   "execution_count": 51,
   "id": "5be0188c",
   "metadata": {},
   "outputs": [
    {
     "data": {
      "text/plain": [
       "0.3104760455552074"
      ]
     },
     "execution_count": 51,
     "metadata": {},
     "output_type": "execute_result"
    }
   ],
   "source": [
    "clean_retail['Sales_log'].skew()"
   ]
  },
  {
   "cell_type": "code",
   "execution_count": 52,
   "id": "bdfa5c57",
   "metadata": {},
   "outputs": [
    {
     "name": "stderr",
     "output_type": "stream",
     "text": [
      "C:\\Users\\Bakul anmol\\anaconda3\\lib\\site-packages\\seaborn\\distributions.py:2557: FutureWarning: `distplot` is a deprecated function and will be removed in a future version. Please adapt your code to use either `displot` (a figure-level function with similar flexibility) or `histplot` (an axes-level function for histograms).\n",
      "  warnings.warn(msg, FutureWarning)\n"
     ]
    },
    {
     "data": {
      "text/plain": [
       "<matplotlib.legend.Legend at 0x18203904a90>"
      ]
     },
     "execution_count": 52,
     "metadata": {},
     "output_type": "execute_result"
    },
    {
     "data": {
      "image/png": "[encoded data removed]",
      "text/plain": [
       "<Figure size 432x288 with 1 Axes>"
      ]
     },
     "metadata": {
      "needs_background": "light"
     },
     "output_type": "display_data"
    }
   ],
   "source": [
    "clean_retail['Sales_sqrt'] = np.sqrt(clean_retail['Sales'])\n",
    "sns.distplot(clean_retail.Sales)\n",
    "plt.axvline(x = clean_retail.Sales.mean(), color = 'red', alpha = 1, label = \"Mean\")\n",
    "plt.axvline(x = clean_retail.Sales.median(), color = 'black', alpha = 1, label = \"Median\")\n",
    "plt.legend()\n"
   ]
  },
  {
   "cell_type": "code",
   "execution_count": 53,
   "id": "fec2b9ac",
   "metadata": {},
   "outputs": [
    {
     "data": {
      "text/plain": [
       "1.4434663802723438"
      ]
     },
     "execution_count": 53,
     "metadata": {},
     "output_type": "execute_result"
    }
   ],
   "source": [
    "clean_retail['Sales_sqrt'].skew()"
   ]
  },
  {
   "cell_type": "markdown",
   "id": "e0db1727",
   "metadata": {},
   "source": [
    "Log transformation worked better so we will go with it."
   ]
  },
  {
   "cell_type": "code",
   "execution_count": 54,
   "id": "f574f7d7",
   "metadata": {},
   "outputs": [
    {
     "name": "stderr",
     "output_type": "stream",
     "text": [
      "C:\\Users\\Bakul anmol\\anaconda3\\lib\\site-packages\\seaborn\\_decorators.py:36: FutureWarning: Pass the following variable as a keyword arg: x. From version 0.12, the only valid positional argument will be `data`, and passing other arguments without an explicit keyword will result in an error or misinterpretation.\n",
      "  warnings.warn(\n"
     ]
    },
    {
     "data": {
      "text/plain": [
       "<AxesSubplot:xlabel='Sales_log'>"
      ]
     },
     "execution_count": 54,
     "metadata": {},
     "output_type": "execute_result"
    },
    {
     "data": {
      "image/png": "[encoded data removed]",
      "text/plain": [
       "<Figure size 432x288 with 1 Axes>"
      ]
     },
     "metadata": {
      "needs_background": "light"
     },
     "output_type": "display_data"
    }
   ],
   "source": [
    "sns.boxplot(clean_retail.Sales_log, showmeans = True)"
   ]
  },
  {
   "cell_type": "code",
   "execution_count": 55,
   "id": "cbc7907a",
   "metadata": {},
   "outputs": [
    {
     "name": "stderr",
     "output_type": "stream",
     "text": [
      "C:\\Users\\Bakul anmol\\anaconda3\\lib\\site-packages\\seaborn\\_decorators.py:36: FutureWarning: Pass the following variable as a keyword arg: x. From version 0.12, the only valid positional argument will be `data`, and passing other arguments without an explicit keyword will result in an error or misinterpretation.\n",
      "  warnings.warn(\n"
     ]
    },
    {
     "data": {
      "text/plain": [
       "<AxesSubplot:xlabel='Sales_sqrt'>"
      ]
     },
     "execution_count": 55,
     "metadata": {},
     "output_type": "execute_result"
    },
    {
     "data": {
      "image/png": "[encoded data removed]",
      "text/plain": [
       "<Figure size 432x288 with 1 Axes>"
      ]
     },
     "metadata": {
      "needs_background": "light"
     },
     "output_type": "display_data"
    }
   ],
   "source": [
    "sns.boxplot(clean_retail.Sales_sqrt, showmeans = True)"
   ]
  },
  {
   "cell_type": "code",
   "execution_count": 56,
   "id": "208ad9a8",
   "metadata": {},
   "outputs": [
    {
     "data": {
      "text/plain": [
       "<AxesSubplot:xlabel='Month', ylabel='Sales'>"
      ]
     },
     "execution_count": 56,
     "metadata": {},
     "output_type": "execute_result"
    },
    {
     "data": {
      "image/png": "[encoded data removed]",
      "text/plain": [
       "<Figure size 432x288 with 1 Axes>"
      ]
     },
     "metadata": {
      "needs_background": "light"
     },
     "output_type": "display_data"
    }
   ],
   "source": [
    "sns.boxplot(x = 'Month', y = 'Sales', data = clean_retail)"
   ]
  },
  {
   "cell_type": "markdown",
   "id": "46445073",
   "metadata": {},
   "source": [
    "Square root transformed"
   ]
  },
  {
   "cell_type": "code",
   "execution_count": 57,
   "id": "28fe97de",
   "metadata": {},
   "outputs": [
    {
     "data": {
      "text/plain": [
       "<AxesSubplot:xlabel='Month', ylabel='Sales_sqrt'>"
      ]
     },
     "execution_count": 57,
     "metadata": {},
     "output_type": "execute_result"
    },
    {
     "data": {
      "image/png": "[encoded data removed]",
      "text/plain": [
       "<Figure size 432x288 with 1 Axes>"
      ]
     },
     "metadata": {
      "needs_background": "light"
     },
     "output_type": "display_data"
    }
   ],
   "source": [
    "sns.boxplot(x = 'Month', y = 'Sales_sqrt', data = clean_retail)"
   ]
  },
  {
   "cell_type": "markdown",
   "id": "2fcc7439",
   "metadata": {},
   "source": [
    "# Distribution of sales Month wise"
   ]
  },
  {
   "cell_type": "markdown",
   "id": "e1fd14f7",
   "metadata": {},
   "source": [
    "Log transformed"
   ]
  },
  {
   "cell_type": "code",
   "execution_count": 251,
   "id": "a9ef82e9",
   "metadata": {},
   "outputs": [
    {
     "data": {
      "text/plain": [
       "<AxesSubplot:xlabel='Month', ylabel='Sales_log'>"
      ]
     },
     "execution_count": 251,
     "metadata": {},
     "output_type": "execute_result"
    },
    {
     "data": {
      "image/png": "[encoded data removed]",
      "text/plain": [
       "<Figure size 2160x1440 with 1 Axes>"
      ]
     },
     "metadata": {},
     "output_type": "display_data"
    }
   ],
   "source": [
    "sns.boxplot(x = 'Month', y = 'Sales_log', data = clean_retail)"
   ]
  },
  {
   "cell_type": "code",
   "execution_count": 252,
   "id": "15199a64",
   "metadata": {},
   "outputs": [
    {
     "data": {
      "text/plain": [
       "Month\n",
       "12    91899.143921\n",
       "10    74349.703195\n",
       "4     67393.196697\n",
       "11    64365.978305\n",
       "5     61155.735203\n",
       "3     56017.900826\n",
       "7     52849.180532\n",
       "6     50429.766465\n",
       "8     44258.240149\n",
       "2     44190.667441\n",
       "9     42515.915781\n",
       "1     35987.162920\n",
       "Name: Sales_log, dtype: float64"
      ]
     },
     "execution_count": 252,
     "metadata": {},
     "output_type": "execute_result"
    }
   ],
   "source": [
    "monthwisesale = clean_retail.groupby('Month')['Sales_log'].sum()\n",
    "monthwisesale.sort_values(ascending = False)"
   ]
  },
  {
   "cell_type": "code",
   "execution_count": null,
   "id": "4cd700a5",
   "metadata": {},
   "outputs": [],
   "source": []
  },
  {
   "cell_type": "code",
   "execution_count": 61,
   "id": "7f13e1b2",
   "metadata": {},
   "outputs": [
    {
     "name": "stderr",
     "output_type": "stream",
     "text": [
      "C:\\Users\\Bakul anmol\\anaconda3\\lib\\site-packages\\seaborn\\_decorators.py:36: FutureWarning: Pass the following variable as a keyword arg: x. From version 0.12, the only valid positional argument will be `data`, and passing other arguments without an explicit keyword will result in an error or misinterpretation.\n",
      "  warnings.warn(\n"
     ]
    },
    {
     "data": {
      "text/plain": [
       "<AxesSubplot:xlabel='Sales_log'>"
      ]
     },
     "execution_count": 61,
     "metadata": {},
     "output_type": "execute_result"
    },
    {
     "data": {
      "image/png": "[encoded data removed]",
      "text/plain": [
       "<Figure size 432x288 with 1 Axes>"
      ]
     },
     "metadata": {
      "needs_background": "light"
     },
     "output_type": "display_data"
    }
   ],
   "source": [
    "sns.boxplot(monthwisesale)"
   ]
  },
  {
   "cell_type": "code",
   "execution_count": 62,
   "id": "bb0f1abf",
   "metadata": {},
   "outputs": [
    {
     "name": "stderr",
     "output_type": "stream",
     "text": [
      "<ipython-input-62-0b1aaabeb979>:1: FutureWarning: Indexing with multiple keys (implicitly converted to a tuple of keys) will be deprecated, use a list instead.\n",
      "  productwisesale = clean_retail.groupby('Product')['Quantity','Sales'].sum()\n"
     ]
    },
    {
     "data": {
      "text/html": [
       "<div>\n",
       "<style scoped>\n",
       "    .dataframe tbody tr th:only-of-type {\n",
       "        vertical-align: middle;\n",
       "    }\n",
       "\n",
       "    .dataframe tbody tr th {\n",
       "        vertical-align: top;\n",
       "    }\n",
       "\n",
       "    .dataframe thead th {\n",
       "        text-align: right;\n",
       "    }\n",
       "</style>\n",
       "<table border=\"1\" class=\"dataframe\">\n",
       "  <thead>\n",
       "    <tr style=\"text-align: right;\">\n",
       "      <th></th>\n",
       "      <th>Quantity</th>\n",
       "      <th>Sales</th>\n",
       "    </tr>\n",
       "    <tr>\n",
       "      <th>Product</th>\n",
       "      <th></th>\n",
       "      <th></th>\n",
       "    </tr>\n",
       "  </thead>\n",
       "  <tbody>\n",
       "    <tr>\n",
       "      <th>Macbook Pro Laptop</th>\n",
       "      <td>4725</td>\n",
       "      <td>8032500.00</td>\n",
       "    </tr>\n",
       "    <tr>\n",
       "      <th>iPhone</th>\n",
       "      <td>6847</td>\n",
       "      <td>4792900.00</td>\n",
       "    </tr>\n",
       "    <tr>\n",
       "      <th>ThinkPad Laptop</th>\n",
       "      <td>4128</td>\n",
       "      <td>4127958.72</td>\n",
       "    </tr>\n",
       "    <tr>\n",
       "      <th>Google Phone</th>\n",
       "      <td>5529</td>\n",
       "      <td>3317400.00</td>\n",
       "    </tr>\n",
       "    <tr>\n",
       "      <th>27in 4K Gaming Monitor</th>\n",
       "      <td>6239</td>\n",
       "      <td>2433147.61</td>\n",
       "    </tr>\n",
       "    <tr>\n",
       "      <th>34in Ultrawide Monitor</th>\n",
       "      <td>6192</td>\n",
       "      <td>2352898.08</td>\n",
       "    </tr>\n",
       "    <tr>\n",
       "      <th>Apple Airpods Headphones</th>\n",
       "      <td>15637</td>\n",
       "      <td>2345550.00</td>\n",
       "    </tr>\n",
       "    <tr>\n",
       "      <th>Flatscreen TV</th>\n",
       "      <td>4813</td>\n",
       "      <td>1443900.00</td>\n",
       "    </tr>\n",
       "    <tr>\n",
       "      <th>Bose SoundSport Headphones</th>\n",
       "      <td>13430</td>\n",
       "      <td>1342865.70</td>\n",
       "    </tr>\n",
       "    <tr>\n",
       "      <th>27in FHD Monitor</th>\n",
       "      <td>7541</td>\n",
       "      <td>1131074.59</td>\n",
       "    </tr>\n",
       "    <tr>\n",
       "      <th>Vareebadd Phone</th>\n",
       "      <td>2068</td>\n",
       "      <td>827200.00</td>\n",
       "    </tr>\n",
       "    <tr>\n",
       "      <th>20in Monitor</th>\n",
       "      <td>4126</td>\n",
       "      <td>453818.74</td>\n",
       "    </tr>\n",
       "    <tr>\n",
       "      <th>LG Washing Machine</th>\n",
       "      <td>666</td>\n",
       "      <td>399600.00</td>\n",
       "    </tr>\n",
       "    <tr>\n",
       "      <th>LG Dryer</th>\n",
       "      <td>646</td>\n",
       "      <td>387600.00</td>\n",
       "    </tr>\n",
       "    <tr>\n",
       "      <th>Lightning Charging Cable</th>\n",
       "      <td>23169</td>\n",
       "      <td>346376.55</td>\n",
       "    </tr>\n",
       "    <tr>\n",
       "      <th>USB-C Charging Cable</th>\n",
       "      <td>23931</td>\n",
       "      <td>285975.45</td>\n",
       "    </tr>\n",
       "    <tr>\n",
       "      <th>Wired Headphones</th>\n",
       "      <td>20524</td>\n",
       "      <td>246082.76</td>\n",
       "    </tr>\n",
       "    <tr>\n",
       "      <th>AA Batteries (4-pack)</th>\n",
       "      <td>27615</td>\n",
       "      <td>106041.60</td>\n",
       "    </tr>\n",
       "    <tr>\n",
       "      <th>AAA Batteries (4-pack)</th>\n",
       "      <td>30986</td>\n",
       "      <td>92648.14</td>\n",
       "    </tr>\n",
       "  </tbody>\n",
       "</table>\n",
       "</div>"
      ],
      "text/plain": [
       "                            Quantity       Sales\n",
       "Product                                         \n",
       "Macbook Pro Laptop              4725  8032500.00\n",
       "iPhone                          6847  4792900.00\n",
       "ThinkPad Laptop                 4128  4127958.72\n",
       "Google Phone                    5529  3317400.00\n",
       "27in 4K Gaming Monitor          6239  2433147.61\n",
       "34in Ultrawide Monitor          6192  2352898.08\n",
       "Apple Airpods Headphones       15637  2345550.00\n",
       "Flatscreen TV                   4813  1443900.00\n",
       "Bose SoundSport Headphones     13430  1342865.70\n",
       "27in FHD Monitor                7541  1131074.59\n",
       "Vareebadd Phone                 2068   827200.00\n",
       "20in Monitor                    4126   453818.74\n",
       "LG Washing Machine               666   399600.00\n",
       "LG Dryer                         646   387600.00\n",
       "Lightning Charging Cable       23169   346376.55\n",
       "USB-C Charging Cable           23931   285975.45\n",
       "Wired Headphones               20524   246082.76\n",
       "AA Batteries (4-pack)          27615   106041.60\n",
       "AAA Batteries (4-pack)         30986    92648.14"
      ]
     },
     "execution_count": 62,
     "metadata": {},
     "output_type": "execute_result"
    }
   ],
   "source": [
    "productwisesale = clean_retail.groupby('Product')['Quantity','Sales'].sum()\n",
    "\n",
    "pd.DataFrame(productwisesale).sort_values(by = 'Sales', ascending = False)\n"
   ]
  },
  {
   "cell_type": "markdown",
   "id": "4613f383",
   "metadata": {},
   "source": [
    "__Macbook Pro Laptop is hsowing highest sales but it basically due to its High prices. So we should also look for its quantity distribution as well.__"
   ]
  },
  {
   "cell_type": "code",
   "execution_count": 63,
   "id": "92c2efff",
   "metadata": {},
   "outputs": [
    {
     "name": "stderr",
     "output_type": "stream",
     "text": [
      "<ipython-input-63-4d8fd4e5943e>:1: FutureWarning: Indexing with multiple keys (implicitly converted to a tuple of keys) will be deprecated, use a list instead.\n",
      "  productwisesale = clean_retail.groupby('Product')['Quantity','Sales'].sum()\n"
     ]
    },
    {
     "data": {
      "text/html": [
       "<div>\n",
       "<style scoped>\n",
       "    .dataframe tbody tr th:only-of-type {\n",
       "        vertical-align: middle;\n",
       "    }\n",
       "\n",
       "    .dataframe tbody tr th {\n",
       "        vertical-align: top;\n",
       "    }\n",
       "\n",
       "    .dataframe thead th {\n",
       "        text-align: right;\n",
       "    }\n",
       "</style>\n",
       "<table border=\"1\" class=\"dataframe\">\n",
       "  <thead>\n",
       "    <tr style=\"text-align: right;\">\n",
       "      <th></th>\n",
       "      <th>Quantity</th>\n",
       "      <th>Sales</th>\n",
       "    </tr>\n",
       "    <tr>\n",
       "      <th>Product</th>\n",
       "      <th></th>\n",
       "      <th></th>\n",
       "    </tr>\n",
       "  </thead>\n",
       "  <tbody>\n",
       "    <tr>\n",
       "      <th>AAA Batteries (4-pack)</th>\n",
       "      <td>30986</td>\n",
       "      <td>92648.14</td>\n",
       "    </tr>\n",
       "    <tr>\n",
       "      <th>AA Batteries (4-pack)</th>\n",
       "      <td>27615</td>\n",
       "      <td>106041.60</td>\n",
       "    </tr>\n",
       "    <tr>\n",
       "      <th>USB-C Charging Cable</th>\n",
       "      <td>23931</td>\n",
       "      <td>285975.45</td>\n",
       "    </tr>\n",
       "    <tr>\n",
       "      <th>Lightning Charging Cable</th>\n",
       "      <td>23169</td>\n",
       "      <td>346376.55</td>\n",
       "    </tr>\n",
       "    <tr>\n",
       "      <th>Wired Headphones</th>\n",
       "      <td>20524</td>\n",
       "      <td>246082.76</td>\n",
       "    </tr>\n",
       "    <tr>\n",
       "      <th>Apple Airpods Headphones</th>\n",
       "      <td>15637</td>\n",
       "      <td>2345550.00</td>\n",
       "    </tr>\n",
       "    <tr>\n",
       "      <th>Bose SoundSport Headphones</th>\n",
       "      <td>13430</td>\n",
       "      <td>1342865.70</td>\n",
       "    </tr>\n",
       "    <tr>\n",
       "      <th>27in FHD Monitor</th>\n",
       "      <td>7541</td>\n",
       "      <td>1131074.59</td>\n",
       "    </tr>\n",
       "    <tr>\n",
       "      <th>iPhone</th>\n",
       "      <td>6847</td>\n",
       "      <td>4792900.00</td>\n",
       "    </tr>\n",
       "    <tr>\n",
       "      <th>27in 4K Gaming Monitor</th>\n",
       "      <td>6239</td>\n",
       "      <td>2433147.61</td>\n",
       "    </tr>\n",
       "    <tr>\n",
       "      <th>34in Ultrawide Monitor</th>\n",
       "      <td>6192</td>\n",
       "      <td>2352898.08</td>\n",
       "    </tr>\n",
       "    <tr>\n",
       "      <th>Google Phone</th>\n",
       "      <td>5529</td>\n",
       "      <td>3317400.00</td>\n",
       "    </tr>\n",
       "    <tr>\n",
       "      <th>Flatscreen TV</th>\n",
       "      <td>4813</td>\n",
       "      <td>1443900.00</td>\n",
       "    </tr>\n",
       "    <tr>\n",
       "      <th>Macbook Pro Laptop</th>\n",
       "      <td>4725</td>\n",
       "      <td>8032500.00</td>\n",
       "    </tr>\n",
       "    <tr>\n",
       "      <th>ThinkPad Laptop</th>\n",
       "      <td>4128</td>\n",
       "      <td>4127958.72</td>\n",
       "    </tr>\n",
       "    <tr>\n",
       "      <th>20in Monitor</th>\n",
       "      <td>4126</td>\n",
       "      <td>453818.74</td>\n",
       "    </tr>\n",
       "    <tr>\n",
       "      <th>Vareebadd Phone</th>\n",
       "      <td>2068</td>\n",
       "      <td>827200.00</td>\n",
       "    </tr>\n",
       "    <tr>\n",
       "      <th>LG Washing Machine</th>\n",
       "      <td>666</td>\n",
       "      <td>399600.00</td>\n",
       "    </tr>\n",
       "    <tr>\n",
       "      <th>LG Dryer</th>\n",
       "      <td>646</td>\n",
       "      <td>387600.00</td>\n",
       "    </tr>\n",
       "  </tbody>\n",
       "</table>\n",
       "</div>"
      ],
      "text/plain": [
       "                            Quantity       Sales\n",
       "Product                                         \n",
       "AAA Batteries (4-pack)         30986    92648.14\n",
       "AA Batteries (4-pack)          27615   106041.60\n",
       "USB-C Charging Cable           23931   285975.45\n",
       "Lightning Charging Cable       23169   346376.55\n",
       "Wired Headphones               20524   246082.76\n",
       "Apple Airpods Headphones       15637  2345550.00\n",
       "Bose SoundSport Headphones     13430  1342865.70\n",
       "27in FHD Monitor                7541  1131074.59\n",
       "iPhone                          6847  4792900.00\n",
       "27in 4K Gaming Monitor          6239  2433147.61\n",
       "34in Ultrawide Monitor          6192  2352898.08\n",
       "Google Phone                    5529  3317400.00\n",
       "Flatscreen TV                   4813  1443900.00\n",
       "Macbook Pro Laptop              4725  8032500.00\n",
       "ThinkPad Laptop                 4128  4127958.72\n",
       "20in Monitor                    4126   453818.74\n",
       "Vareebadd Phone                 2068   827200.00\n",
       "LG Washing Machine               666   399600.00\n",
       "LG Dryer                         646   387600.00"
      ]
     },
     "execution_count": 63,
     "metadata": {},
     "output_type": "execute_result"
    }
   ],
   "source": [
    "productwisesale = clean_retail.groupby('Product')['Quantity','Sales'].sum()\n",
    "\n",
    "pd.DataFrame(productwisesale).sort_values(by = 'Quantity', ascending = False)\n"
   ]
  },
  {
   "cell_type": "markdown",
   "id": "1ece84cf",
   "metadata": {},
   "source": [
    "__In terms of quantity AAA Batteries (4-pack) is having highest sale so We should Go with the Middle ones \n",
    "like the products showing good sales price  as well as quantity.__\n",
    "__In that case we will find that Headphones here are taking the lead performing fairly in terms of both Quantity and sales.__"
   ]
  },
  {
   "cell_type": "code",
   "execution_count": 64,
   "id": "82c7c150",
   "metadata": {},
   "outputs": [
    {
     "data": {
      "text/html": [
       "<div>\n",
       "<style scoped>\n",
       "    .dataframe tbody tr th:only-of-type {\n",
       "        vertical-align: middle;\n",
       "    }\n",
       "\n",
       "    .dataframe tbody tr th {\n",
       "        vertical-align: top;\n",
       "    }\n",
       "\n",
       "    .dataframe thead th {\n",
       "        text-align: right;\n",
       "    }\n",
       "</style>\n",
       "<table border=\"1\" class=\"dataframe\">\n",
       "  <thead>\n",
       "    <tr style=\"text-align: right;\">\n",
       "      <th></th>\n",
       "      <th>Product</th>\n",
       "      <th>Quantity</th>\n",
       "      <th>Price</th>\n",
       "      <th>Order Date</th>\n",
       "      <th>Address</th>\n",
       "      <th>Year</th>\n",
       "      <th>Month</th>\n",
       "      <th>day</th>\n",
       "      <th>Hour</th>\n",
       "      <th>Sales</th>\n",
       "      <th>Sales_log</th>\n",
       "      <th>Sales_sqrt</th>\n",
       "    </tr>\n",
       "  </thead>\n",
       "  <tbody>\n",
       "    <tr>\n",
       "      <th>0</th>\n",
       "      <td>iPhone</td>\n",
       "      <td>1</td>\n",
       "      <td>700.00</td>\n",
       "      <td>2019-01-22 21:25:00</td>\n",
       "      <td>944 Walnut St, Boston, MA 02215</td>\n",
       "      <td>2019</td>\n",
       "      <td>1</td>\n",
       "      <td>22</td>\n",
       "      <td>21</td>\n",
       "      <td>700.00</td>\n",
       "      <td>6.551080</td>\n",
       "      <td>26.457513</td>\n",
       "    </tr>\n",
       "    <tr>\n",
       "      <th>1</th>\n",
       "      <td>Lightning Charging Cable</td>\n",
       "      <td>1</td>\n",
       "      <td>14.95</td>\n",
       "      <td>2019-01-28 14:15:00</td>\n",
       "      <td>185 Maple St, Portland, OR 97035</td>\n",
       "      <td>2019</td>\n",
       "      <td>1</td>\n",
       "      <td>28</td>\n",
       "      <td>14</td>\n",
       "      <td>14.95</td>\n",
       "      <td>2.704711</td>\n",
       "      <td>3.866523</td>\n",
       "    </tr>\n",
       "    <tr>\n",
       "      <th>2</th>\n",
       "      <td>Wired Headphones</td>\n",
       "      <td>2</td>\n",
       "      <td>11.99</td>\n",
       "      <td>2019-01-17 13:33:00</td>\n",
       "      <td>538 Adams St, San Francisco, CA 94016</td>\n",
       "      <td>2019</td>\n",
       "      <td>1</td>\n",
       "      <td>17</td>\n",
       "      <td>13</td>\n",
       "      <td>23.98</td>\n",
       "      <td>3.177220</td>\n",
       "      <td>4.896938</td>\n",
       "    </tr>\n",
       "    <tr>\n",
       "      <th>3</th>\n",
       "      <td>27in FHD Monitor</td>\n",
       "      <td>1</td>\n",
       "      <td>149.99</td>\n",
       "      <td>2019-01-05 20:33:00</td>\n",
       "      <td>738 10th St, Los Angeles, CA 90001</td>\n",
       "      <td>2019</td>\n",
       "      <td>1</td>\n",
       "      <td>5</td>\n",
       "      <td>20</td>\n",
       "      <td>149.99</td>\n",
       "      <td>5.010569</td>\n",
       "      <td>12.247040</td>\n",
       "    </tr>\n",
       "    <tr>\n",
       "      <th>4</th>\n",
       "      <td>Wired Headphones</td>\n",
       "      <td>1</td>\n",
       "      <td>11.99</td>\n",
       "      <td>2019-01-25 11:59:00</td>\n",
       "      <td>387 10th St, Austin, TX 73301</td>\n",
       "      <td>2019</td>\n",
       "      <td>1</td>\n",
       "      <td>25</td>\n",
       "      <td>11</td>\n",
       "      <td>11.99</td>\n",
       "      <td>2.484073</td>\n",
       "      <td>3.462658</td>\n",
       "    </tr>\n",
       "  </tbody>\n",
       "</table>\n",
       "</div>"
      ],
      "text/plain": [
       "                    Product  Quantity   Price          Order Date  \\\n",
       "0                    iPhone         1  700.00 2019-01-22 21:25:00   \n",
       "1  Lightning Charging Cable         1   14.95 2019-01-28 14:15:00   \n",
       "2          Wired Headphones         2   11.99 2019-01-17 13:33:00   \n",
       "3          27in FHD Monitor         1  149.99 2019-01-05 20:33:00   \n",
       "4          Wired Headphones         1   11.99 2019-01-25 11:59:00   \n",
       "\n",
       "                                 Address  Year  Month  day  Hour   Sales  \\\n",
       "0        944 Walnut St, Boston, MA 02215  2019      1   22    21  700.00   \n",
       "1       185 Maple St, Portland, OR 97035  2019      1   28    14   14.95   \n",
       "2  538 Adams St, San Francisco, CA 94016  2019      1   17    13   23.98   \n",
       "3     738 10th St, Los Angeles, CA 90001  2019      1    5    20  149.99   \n",
       "4          387 10th St, Austin, TX 73301  2019      1   25    11   11.99   \n",
       "\n",
       "   Sales_log  Sales_sqrt  \n",
       "0   6.551080   26.457513  \n",
       "1   2.704711    3.866523  \n",
       "2   3.177220    4.896938  \n",
       "3   5.010569   12.247040  \n",
       "4   2.484073    3.462658  "
      ]
     },
     "execution_count": 64,
     "metadata": {},
     "output_type": "execute_result"
    }
   ],
   "source": [
    "clean_retail.head()"
   ]
  },
  {
   "cell_type": "code",
   "execution_count": 65,
   "id": "30e71516",
   "metadata": {},
   "outputs": [
    {
     "data": {
      "text/plain": [
       "0                [944 Walnut St, Boston, MA 02215]\n",
       "1               [185 Maple St, Portland, OR 97035]\n",
       "2          [538 Adams St, San Francisco, CA 94016]\n",
       "3             [738 10th St, Los Angeles, CA 90001]\n",
       "4                  [387 10th St, Austin, TX 73301]\n",
       "                            ...                   \n",
       "186845    [14 Madison St, San Francisco, CA 94016]\n",
       "186846      [549 Willow St, Los Angeles, CA 90001]\n",
       "186847          [273 Wilson St, Seattle, WA 98101]\n",
       "186848            [778 River St, Dallas, TX 75001]\n",
       "186849    [747 Chestnut St, Los Angeles, CA 90001]\n",
       "Name: Address, Length: 185686, dtype: object"
      ]
     },
     "execution_count": 65,
     "metadata": {},
     "output_type": "execute_result"
    }
   ],
   "source": [
    "clean_retail['Address'].str.split(', ', n= 1)"
   ]
  },
  {
   "cell_type": "code",
   "execution_count": 66,
   "id": "58df7eb9",
   "metadata": {},
   "outputs": [
    {
     "data": {
      "text/html": [
       "<div>\n",
       "<style scoped>\n",
       "    .dataframe tbody tr th:only-of-type {\n",
       "        vertical-align: middle;\n",
       "    }\n",
       "\n",
       "    .dataframe tbody tr th {\n",
       "        vertical-align: top;\n",
       "    }\n",
       "\n",
       "    .dataframe thead th {\n",
       "        text-align: right;\n",
       "    }\n",
       "</style>\n",
       "<table border=\"1\" class=\"dataframe\">\n",
       "  <thead>\n",
       "    <tr style=\"text-align: right;\">\n",
       "      <th></th>\n",
       "      <th>0</th>\n",
       "      <th>1</th>\n",
       "      <th>2</th>\n",
       "    </tr>\n",
       "  </thead>\n",
       "  <tbody>\n",
       "    <tr>\n",
       "      <th>0</th>\n",
       "      <td>944 Walnut St</td>\n",
       "      <td>Boston</td>\n",
       "      <td>MA 02215</td>\n",
       "    </tr>\n",
       "    <tr>\n",
       "      <th>1</th>\n",
       "      <td>185 Maple St</td>\n",
       "      <td>Portland</td>\n",
       "      <td>OR 97035</td>\n",
       "    </tr>\n",
       "    <tr>\n",
       "      <th>2</th>\n",
       "      <td>538 Adams St</td>\n",
       "      <td>San Francisco</td>\n",
       "      <td>CA 94016</td>\n",
       "    </tr>\n",
       "    <tr>\n",
       "      <th>3</th>\n",
       "      <td>738 10th St</td>\n",
       "      <td>Los Angeles</td>\n",
       "      <td>CA 90001</td>\n",
       "    </tr>\n",
       "    <tr>\n",
       "      <th>4</th>\n",
       "      <td>387 10th St</td>\n",
       "      <td>Austin</td>\n",
       "      <td>TX 73301</td>\n",
       "    </tr>\n",
       "    <tr>\n",
       "      <th>...</th>\n",
       "      <td>...</td>\n",
       "      <td>...</td>\n",
       "      <td>...</td>\n",
       "    </tr>\n",
       "    <tr>\n",
       "      <th>186845</th>\n",
       "      <td>14 Madison St</td>\n",
       "      <td>San Francisco</td>\n",
       "      <td>CA 94016</td>\n",
       "    </tr>\n",
       "    <tr>\n",
       "      <th>186846</th>\n",
       "      <td>549 Willow St</td>\n",
       "      <td>Los Angeles</td>\n",
       "      <td>CA 90001</td>\n",
       "    </tr>\n",
       "    <tr>\n",
       "      <th>186847</th>\n",
       "      <td>273 Wilson St</td>\n",
       "      <td>Seattle</td>\n",
       "      <td>WA 98101</td>\n",
       "    </tr>\n",
       "    <tr>\n",
       "      <th>186848</th>\n",
       "      <td>778 River St</td>\n",
       "      <td>Dallas</td>\n",
       "      <td>TX 75001</td>\n",
       "    </tr>\n",
       "    <tr>\n",
       "      <th>186849</th>\n",
       "      <td>747 Chestnut St</td>\n",
       "      <td>Los Angeles</td>\n",
       "      <td>CA 90001</td>\n",
       "    </tr>\n",
       "  </tbody>\n",
       "</table>\n",
       "<p>185686 rows × 3 columns</p>\n",
       "</div>"
      ],
      "text/plain": [
       "                      0               1          2\n",
       "0         944 Walnut St          Boston   MA 02215\n",
       "1          185 Maple St        Portland   OR 97035\n",
       "2          538 Adams St   San Francisco   CA 94016\n",
       "3           738 10th St     Los Angeles   CA 90001\n",
       "4           387 10th St          Austin   TX 73301\n",
       "...                 ...             ...        ...\n",
       "186845    14 Madison St   San Francisco   CA 94016\n",
       "186846    549 Willow St     Los Angeles   CA 90001\n",
       "186847    273 Wilson St         Seattle   WA 98101\n",
       "186848     778 River St          Dallas   TX 75001\n",
       "186849  747 Chestnut St     Los Angeles   CA 90001\n",
       "\n",
       "[185686 rows x 3 columns]"
      ]
     },
     "execution_count": 66,
     "metadata": {},
     "output_type": "execute_result"
    }
   ],
   "source": [
    "split_address = clean_retail['Address'].str.split(',', expand = True)\n",
    "split_address"
   ]
  },
  {
   "cell_type": "code",
   "execution_count": 67,
   "id": "0a4afc1f",
   "metadata": {},
   "outputs": [],
   "source": [
    "split_address.rename(columns = {1: 'City'}, inplace = True)"
   ]
  },
  {
   "cell_type": "code",
   "execution_count": 68,
   "id": "47d6f138",
   "metadata": {},
   "outputs": [
    {
     "data": {
      "text/html": [
       "<div>\n",
       "<style scoped>\n",
       "    .dataframe tbody tr th:only-of-type {\n",
       "        vertical-align: middle;\n",
       "    }\n",
       "\n",
       "    .dataframe tbody tr th {\n",
       "        vertical-align: top;\n",
       "    }\n",
       "\n",
       "    .dataframe thead th {\n",
       "        text-align: right;\n",
       "    }\n",
       "</style>\n",
       "<table border=\"1\" class=\"dataframe\">\n",
       "  <thead>\n",
       "    <tr style=\"text-align: right;\">\n",
       "      <th></th>\n",
       "      <th>City</th>\n",
       "    </tr>\n",
       "  </thead>\n",
       "  <tbody>\n",
       "    <tr>\n",
       "      <th>0</th>\n",
       "      <td>Boston</td>\n",
       "    </tr>\n",
       "    <tr>\n",
       "      <th>1</th>\n",
       "      <td>Portland</td>\n",
       "    </tr>\n",
       "    <tr>\n",
       "      <th>2</th>\n",
       "      <td>San Francisco</td>\n",
       "    </tr>\n",
       "    <tr>\n",
       "      <th>3</th>\n",
       "      <td>Los Angeles</td>\n",
       "    </tr>\n",
       "    <tr>\n",
       "      <th>4</th>\n",
       "      <td>Austin</td>\n",
       "    </tr>\n",
       "    <tr>\n",
       "      <th>...</th>\n",
       "      <td>...</td>\n",
       "    </tr>\n",
       "    <tr>\n",
       "      <th>186845</th>\n",
       "      <td>San Francisco</td>\n",
       "    </tr>\n",
       "    <tr>\n",
       "      <th>186846</th>\n",
       "      <td>Los Angeles</td>\n",
       "    </tr>\n",
       "    <tr>\n",
       "      <th>186847</th>\n",
       "      <td>Seattle</td>\n",
       "    </tr>\n",
       "    <tr>\n",
       "      <th>186848</th>\n",
       "      <td>Dallas</td>\n",
       "    </tr>\n",
       "    <tr>\n",
       "      <th>186849</th>\n",
       "      <td>Los Angeles</td>\n",
       "    </tr>\n",
       "  </tbody>\n",
       "</table>\n",
       "<p>185686 rows × 1 columns</p>\n",
       "</div>"
      ],
      "text/plain": [
       "                  City\n",
       "0               Boston\n",
       "1             Portland\n",
       "2        San Francisco\n",
       "3          Los Angeles\n",
       "4               Austin\n",
       "...                ...\n",
       "186845   San Francisco\n",
       "186846     Los Angeles\n",
       "186847         Seattle\n",
       "186848          Dallas\n",
       "186849     Los Angeles\n",
       "\n",
       "[185686 rows x 1 columns]"
      ]
     },
     "execution_count": 68,
     "metadata": {},
     "output_type": "execute_result"
    }
   ],
   "source": [
    "city = split_address['City']\n",
    "pd.DataFrame(city)"
   ]
  },
  {
   "cell_type": "code",
   "execution_count": 69,
   "id": "5e49bbc7",
   "metadata": {},
   "outputs": [],
   "source": [
    "clean_retail = clean_retail.join(city)"
   ]
  },
  {
   "cell_type": "code",
   "execution_count": 70,
   "id": "e6536515",
   "metadata": {},
   "outputs": [
    {
     "data": {
      "text/html": [
       "<div>\n",
       "<style scoped>\n",
       "    .dataframe tbody tr th:only-of-type {\n",
       "        vertical-align: middle;\n",
       "    }\n",
       "\n",
       "    .dataframe tbody tr th {\n",
       "        vertical-align: top;\n",
       "    }\n",
       "\n",
       "    .dataframe thead th {\n",
       "        text-align: right;\n",
       "    }\n",
       "</style>\n",
       "<table border=\"1\" class=\"dataframe\">\n",
       "  <thead>\n",
       "    <tr style=\"text-align: right;\">\n",
       "      <th></th>\n",
       "      <th>Product</th>\n",
       "      <th>Quantity</th>\n",
       "      <th>Price</th>\n",
       "      <th>Order Date</th>\n",
       "      <th>Address</th>\n",
       "      <th>Year</th>\n",
       "      <th>Month</th>\n",
       "      <th>day</th>\n",
       "      <th>Hour</th>\n",
       "      <th>Sales</th>\n",
       "      <th>Sales_log</th>\n",
       "      <th>Sales_sqrt</th>\n",
       "      <th>City</th>\n",
       "    </tr>\n",
       "  </thead>\n",
       "  <tbody>\n",
       "    <tr>\n",
       "      <th>0</th>\n",
       "      <td>iPhone</td>\n",
       "      <td>1</td>\n",
       "      <td>700.00</td>\n",
       "      <td>2019-01-22 21:25:00</td>\n",
       "      <td>944 Walnut St, Boston, MA 02215</td>\n",
       "      <td>2019</td>\n",
       "      <td>1</td>\n",
       "      <td>22</td>\n",
       "      <td>21</td>\n",
       "      <td>700.00</td>\n",
       "      <td>6.551080</td>\n",
       "      <td>26.457513</td>\n",
       "      <td>Boston</td>\n",
       "    </tr>\n",
       "    <tr>\n",
       "      <th>1</th>\n",
       "      <td>Lightning Charging Cable</td>\n",
       "      <td>1</td>\n",
       "      <td>14.95</td>\n",
       "      <td>2019-01-28 14:15:00</td>\n",
       "      <td>185 Maple St, Portland, OR 97035</td>\n",
       "      <td>2019</td>\n",
       "      <td>1</td>\n",
       "      <td>28</td>\n",
       "      <td>14</td>\n",
       "      <td>14.95</td>\n",
       "      <td>2.704711</td>\n",
       "      <td>3.866523</td>\n",
       "      <td>Portland</td>\n",
       "    </tr>\n",
       "    <tr>\n",
       "      <th>2</th>\n",
       "      <td>Wired Headphones</td>\n",
       "      <td>2</td>\n",
       "      <td>11.99</td>\n",
       "      <td>2019-01-17 13:33:00</td>\n",
       "      <td>538 Adams St, San Francisco, CA 94016</td>\n",
       "      <td>2019</td>\n",
       "      <td>1</td>\n",
       "      <td>17</td>\n",
       "      <td>13</td>\n",
       "      <td>23.98</td>\n",
       "      <td>3.177220</td>\n",
       "      <td>4.896938</td>\n",
       "      <td>San Francisco</td>\n",
       "    </tr>\n",
       "    <tr>\n",
       "      <th>3</th>\n",
       "      <td>27in FHD Monitor</td>\n",
       "      <td>1</td>\n",
       "      <td>149.99</td>\n",
       "      <td>2019-01-05 20:33:00</td>\n",
       "      <td>738 10th St, Los Angeles, CA 90001</td>\n",
       "      <td>2019</td>\n",
       "      <td>1</td>\n",
       "      <td>5</td>\n",
       "      <td>20</td>\n",
       "      <td>149.99</td>\n",
       "      <td>5.010569</td>\n",
       "      <td>12.247040</td>\n",
       "      <td>Los Angeles</td>\n",
       "    </tr>\n",
       "    <tr>\n",
       "      <th>4</th>\n",
       "      <td>Wired Headphones</td>\n",
       "      <td>1</td>\n",
       "      <td>11.99</td>\n",
       "      <td>2019-01-25 11:59:00</td>\n",
       "      <td>387 10th St, Austin, TX 73301</td>\n",
       "      <td>2019</td>\n",
       "      <td>1</td>\n",
       "      <td>25</td>\n",
       "      <td>11</td>\n",
       "      <td>11.99</td>\n",
       "      <td>2.484073</td>\n",
       "      <td>3.462658</td>\n",
       "      <td>Austin</td>\n",
       "    </tr>\n",
       "  </tbody>\n",
       "</table>\n",
       "</div>"
      ],
      "text/plain": [
       "                    Product  Quantity   Price          Order Date  \\\n",
       "0                    iPhone         1  700.00 2019-01-22 21:25:00   \n",
       "1  Lightning Charging Cable         1   14.95 2019-01-28 14:15:00   \n",
       "2          Wired Headphones         2   11.99 2019-01-17 13:33:00   \n",
       "3          27in FHD Monitor         1  149.99 2019-01-05 20:33:00   \n",
       "4          Wired Headphones         1   11.99 2019-01-25 11:59:00   \n",
       "\n",
       "                                 Address  Year  Month  day  Hour   Sales  \\\n",
       "0        944 Walnut St, Boston, MA 02215  2019      1   22    21  700.00   \n",
       "1       185 Maple St, Portland, OR 97035  2019      1   28    14   14.95   \n",
       "2  538 Adams St, San Francisco, CA 94016  2019      1   17    13   23.98   \n",
       "3     738 10th St, Los Angeles, CA 90001  2019      1    5    20  149.99   \n",
       "4          387 10th St, Austin, TX 73301  2019      1   25    11   11.99   \n",
       "\n",
       "   Sales_log  Sales_sqrt            City  \n",
       "0   6.551080   26.457513          Boston  \n",
       "1   2.704711    3.866523        Portland  \n",
       "2   3.177220    4.896938   San Francisco  \n",
       "3   5.010569   12.247040     Los Angeles  \n",
       "4   2.484073    3.462658          Austin  "
      ]
     },
     "execution_count": 70,
     "metadata": {},
     "output_type": "execute_result"
    }
   ],
   "source": [
    "clean_retail.head()"
   ]
  },
  {
   "cell_type": "code",
   "execution_count": 196,
   "id": "35db63be",
   "metadata": {},
   "outputs": [
    {
     "data": {
      "text/html": [
       "<div>\n",
       "<style scoped>\n",
       "    .dataframe tbody tr th:only-of-type {\n",
       "        vertical-align: middle;\n",
       "    }\n",
       "\n",
       "    .dataframe tbody tr th {\n",
       "        vertical-align: top;\n",
       "    }\n",
       "\n",
       "    .dataframe thead th {\n",
       "        text-align: right;\n",
       "    }\n",
       "</style>\n",
       "<table border=\"1\" class=\"dataframe\">\n",
       "  <thead>\n",
       "    <tr style=\"text-align: right;\">\n",
       "      <th></th>\n",
       "      <th>Sales</th>\n",
       "    </tr>\n",
       "    <tr>\n",
       "      <th>Month</th>\n",
       "      <th></th>\n",
       "    </tr>\n",
       "  </thead>\n",
       "  <tbody>\n",
       "    <tr>\n",
       "      <th>12</th>\n",
       "      <td>4.608296e+06</td>\n",
       "    </tr>\n",
       "    <tr>\n",
       "      <th>10</th>\n",
       "      <td>3.734778e+06</td>\n",
       "    </tr>\n",
       "    <tr>\n",
       "      <th>4</th>\n",
       "      <td>3.389218e+06</td>\n",
       "    </tr>\n",
       "    <tr>\n",
       "      <th>11</th>\n",
       "      <td>3.197875e+06</td>\n",
       "    </tr>\n",
       "    <tr>\n",
       "      <th>5</th>\n",
       "      <td>3.150616e+06</td>\n",
       "    </tr>\n",
       "    <tr>\n",
       "      <th>3</th>\n",
       "      <td>2.804973e+06</td>\n",
       "    </tr>\n",
       "    <tr>\n",
       "      <th>7</th>\n",
       "      <td>2.646461e+06</td>\n",
       "    </tr>\n",
       "    <tr>\n",
       "      <th>6</th>\n",
       "      <td>2.576280e+06</td>\n",
       "    </tr>\n",
       "    <tr>\n",
       "      <th>8</th>\n",
       "      <td>2.241083e+06</td>\n",
       "    </tr>\n",
       "    <tr>\n",
       "      <th>2</th>\n",
       "      <td>2.200078e+06</td>\n",
       "    </tr>\n",
       "    <tr>\n",
       "      <th>9</th>\n",
       "      <td>2.094466e+06</td>\n",
       "    </tr>\n",
       "    <tr>\n",
       "      <th>1</th>\n",
       "      <td>1.821413e+06</td>\n",
       "    </tr>\n",
       "  </tbody>\n",
       "</table>\n",
       "</div>"
      ],
      "text/plain": [
       "              Sales\n",
       "Month              \n",
       "12     4.608296e+06\n",
       "10     3.734778e+06\n",
       "4      3.389218e+06\n",
       "11     3.197875e+06\n",
       "5      3.150616e+06\n",
       "3      2.804973e+06\n",
       "7      2.646461e+06\n",
       "6      2.576280e+06\n",
       "8      2.241083e+06\n",
       "2      2.200078e+06\n",
       "9      2.094466e+06\n",
       "1      1.821413e+06"
      ]
     },
     "execution_count": 196,
     "metadata": {},
     "output_type": "execute_result"
    }
   ],
   "source": [
    "sales = clean_retail.groupby('Month')['Sales'].sum()\n",
    "pd.DataFrame(sales).sort_values(by = 'Sales', ascending = False)"
   ]
  },
  {
   "cell_type": "code",
   "execution_count": 71,
   "id": "7f543887",
   "metadata": {},
   "outputs": [
    {
     "data": {
      "text/html": [
       "<div>\n",
       "<style scoped>\n",
       "    .dataframe tbody tr th:only-of-type {\n",
       "        vertical-align: middle;\n",
       "    }\n",
       "\n",
       "    .dataframe tbody tr th {\n",
       "        vertical-align: top;\n",
       "    }\n",
       "\n",
       "    .dataframe thead th {\n",
       "        text-align: right;\n",
       "    }\n",
       "</style>\n",
       "<table border=\"1\" class=\"dataframe\">\n",
       "  <thead>\n",
       "    <tr style=\"text-align: right;\">\n",
       "      <th></th>\n",
       "      <th></th>\n",
       "      <th>Sales</th>\n",
       "    </tr>\n",
       "    <tr>\n",
       "      <th>Month</th>\n",
       "      <th>City</th>\n",
       "      <th></th>\n",
       "    </tr>\n",
       "  </thead>\n",
       "  <tbody>\n",
       "    <tr>\n",
       "      <th>12</th>\n",
       "      <th>San Francisco</th>\n",
       "      <td>1105582.13</td>\n",
       "    </tr>\n",
       "    <tr>\n",
       "      <th>10</th>\n",
       "      <th>San Francisco</th>\n",
       "      <td>865800.33</td>\n",
       "    </tr>\n",
       "    <tr>\n",
       "      <th>4</th>\n",
       "      <th>San Francisco</th>\n",
       "      <td>812387.30</td>\n",
       "    </tr>\n",
       "    <tr>\n",
       "      <th>5</th>\n",
       "      <th>San Francisco</th>\n",
       "      <td>774967.54</td>\n",
       "    </tr>\n",
       "    <tr>\n",
       "      <th>11</th>\n",
       "      <th>San Francisco</th>\n",
       "      <td>764502.40</td>\n",
       "    </tr>\n",
       "    <tr>\n",
       "      <th>...</th>\n",
       "      <th>...</th>\n",
       "      <td>...</td>\n",
       "    </tr>\n",
       "    <tr>\n",
       "      <th>8</th>\n",
       "      <th>Austin</th>\n",
       "      <td>125563.62</td>\n",
       "    </tr>\n",
       "    <tr>\n",
       "      <th>1</th>\n",
       "      <th>Portland</th>\n",
       "      <td>114985.56</td>\n",
       "    </tr>\n",
       "    <tr>\n",
       "      <th>2</th>\n",
       "      <th>Austin</th>\n",
       "      <td>108358.52</td>\n",
       "    </tr>\n",
       "    <tr>\n",
       "      <th>9</th>\n",
       "      <th>Austin</th>\n",
       "      <td>106333.70</td>\n",
       "    </tr>\n",
       "    <tr>\n",
       "      <th>1</th>\n",
       "      <th>Austin</th>\n",
       "      <td>88087.06</td>\n",
       "    </tr>\n",
       "  </tbody>\n",
       "</table>\n",
       "<p>108 rows × 1 columns</p>\n",
       "</div>"
      ],
      "text/plain": [
       "                           Sales\n",
       "Month City                      \n",
       "12     San Francisco  1105582.13\n",
       "10     San Francisco   865800.33\n",
       "4      San Francisco   812387.30\n",
       "5      San Francisco   774967.54\n",
       "11     San Francisco   764502.40\n",
       "...                          ...\n",
       "8      Austin          125563.62\n",
       "1      Portland        114985.56\n",
       "2      Austin          108358.52\n",
       "9      Austin          106333.70\n",
       "1      Austin           88087.06\n",
       "\n",
       "[108 rows x 1 columns]"
      ]
     },
     "execution_count": 71,
     "metadata": {},
     "output_type": "execute_result"
    }
   ],
   "source": [
    "salesdist = clean_retail.groupby(['Month', 'City'])['Sales'].sum()\n",
    "pd.DataFrame(salesdist).sort_values(by = 'Sales', ascending = False) "
   ]
  },
  {
   "cell_type": "code",
   "execution_count": null,
   "id": "71e574ed",
   "metadata": {},
   "outputs": [],
   "source": []
  },
  {
   "cell_type": "markdown",
   "id": "8ef409f7",
   "metadata": {},
   "source": [
    "__Highest sales were recorded in San Francisco in the 12th month that is December__."
   ]
  },
  {
   "cell_type": "markdown",
   "id": "b476b008",
   "metadata": {},
   "source": [
    "__San Francisco is showing highest sales overall__."
   ]
  },
  {
   "cell_type": "markdown",
   "id": "dad941bb",
   "metadata": {},
   "source": [
    "# Distribution of Sales City wise"
   ]
  },
  {
   "cell_type": "code",
   "execution_count": 72,
   "id": "1af7c7d9",
   "metadata": {},
   "outputs": [
    {
     "data": {
      "text/plain": [
       "<AxesSubplot:xlabel='City', ylabel='Sales_log'>"
      ]
     },
     "execution_count": 72,
     "metadata": {},
     "output_type": "execute_result"
    },
    {
     "data": {
      "image/png": "[encoded data removed]",
      "text/plain": [
       "<Figure size 720x720 with 1 Axes>"
      ]
     },
     "metadata": {},
     "output_type": "display_data"
    }
   ],
   "source": [
    "sns.set(rc={\"figure.figsize\":(10, 10)})\n",
    "sns.boxplot(x = 'City', y = 'Sales_log', data = clean_retail,  showmeans = True)"
   ]
  },
  {
   "cell_type": "code",
   "execution_count": null,
   "id": "90ce9d0d",
   "metadata": {},
   "outputs": [],
   "source": []
  },
  {
   "cell_type": "markdown",
   "id": "7bdaeddf",
   "metadata": {},
   "source": [
    "# Most brought products city wise"
   ]
  },
  {
   "cell_type": "code",
   "execution_count": 73,
   "id": "53ea427b",
   "metadata": {
    "scrolled": false
   },
   "outputs": [
    {
     "data": {
      "text/plain": [
       "<AxesSubplot:xlabel='City', ylabel='count'>"
      ]
     },
     "execution_count": 73,
     "metadata": {},
     "output_type": "execute_result"
    },
    {
     "data": {
      "image/png": "[encoded data removed]",
      "text/plain": [
       "<Figure size 3960x2160 with 1 Axes>"
      ]
     },
     "metadata": {},
     "output_type": "display_data"
    }
   ],
   "source": [
    "\n",
    "sns.set(rc={\"figure.figsize\":(55, 30)})\n",
    "sns.countplot(x = 'City', hue = 'Product', data = clean_retail)"
   ]
  },
  {
   "cell_type": "code",
   "execution_count": 197,
   "id": "4f5bf597",
   "metadata": {},
   "outputs": [
    {
     "data": {
      "text/plain": [
       "City\n",
       " Atlanta          14863\n",
       " Austin            9890\n",
       " Boston           19901\n",
       " Dallas           14797\n",
       " Los Angeles      29564\n",
       " New York City    24847\n",
       " Portland         12449\n",
       " San Francisco    44662\n",
       " Seattle          14713\n",
       "Name: Product, dtype: int64"
      ]
     },
     "execution_count": 197,
     "metadata": {},
     "output_type": "execute_result"
    }
   ],
   "source": [
    "clean_retail.groupby('City')['Product'].count()"
   ]
  },
  {
   "cell_type": "markdown",
   "id": "60413674",
   "metadata": {},
   "source": [
    "Atlanta showed the highest quantity sold."
   ]
  },
  {
   "cell_type": "code",
   "execution_count": 215,
   "id": "1f335aa8",
   "metadata": {},
   "outputs": [
    {
     "name": "stderr",
     "output_type": "stream",
     "text": [
      "<ipython-input-215-5fd23431aab6>:1: FutureWarning: Indexing with multiple keys (implicitly converted to a tuple of keys) will be deprecated, use a list instead.\n",
      "  df1 = clean_retail.groupby(['City','Product'])['Product','Quantity'].count()\n"
     ]
    },
    {
     "data": {
      "text/html": [
       "<div>\n",
       "<style scoped>\n",
       "    .dataframe tbody tr th:only-of-type {\n",
       "        vertical-align: middle;\n",
       "    }\n",
       "\n",
       "    .dataframe tbody tr th {\n",
       "        vertical-align: top;\n",
       "    }\n",
       "\n",
       "    .dataframe thead th {\n",
       "        text-align: right;\n",
       "    }\n",
       "</style>\n",
       "<table border=\"1\" class=\"dataframe\">\n",
       "  <thead>\n",
       "    <tr style=\"text-align: right;\">\n",
       "      <th></th>\n",
       "      <th></th>\n",
       "      <th>Product</th>\n",
       "      <th>Quantity</th>\n",
       "    </tr>\n",
       "    <tr>\n",
       "      <th>City</th>\n",
       "      <th>Product</th>\n",
       "      <th></th>\n",
       "      <th></th>\n",
       "    </tr>\n",
       "  </thead>\n",
       "  <tbody>\n",
       "    <tr>\n",
       "      <th rowspan=\"5\" valign=\"top\">San Francisco</th>\n",
       "      <th>USB-C Charging Cable</th>\n",
       "      <td>5357</td>\n",
       "      <td>5357</td>\n",
       "    </tr>\n",
       "    <tr>\n",
       "      <th>Lightning Charging Cable</th>\n",
       "      <td>5157</td>\n",
       "      <td>5157</td>\n",
       "    </tr>\n",
       "    <tr>\n",
       "      <th>AAA Batteries (4-pack)</th>\n",
       "      <td>4928</td>\n",
       "      <td>4928</td>\n",
       "    </tr>\n",
       "    <tr>\n",
       "      <th>AA Batteries (4-pack)</th>\n",
       "      <td>4897</td>\n",
       "      <td>4897</td>\n",
       "    </tr>\n",
       "    <tr>\n",
       "      <th>Wired Headphones</th>\n",
       "      <td>4582</td>\n",
       "      <td>4582</td>\n",
       "    </tr>\n",
       "    <tr>\n",
       "      <th>...</th>\n",
       "      <th>...</th>\n",
       "      <td>...</td>\n",
       "      <td>...</td>\n",
       "    </tr>\n",
       "    <tr>\n",
       "      <th rowspan=\"2\" valign=\"top\">Dallas</th>\n",
       "      <th>LG Washing Machine</th>\n",
       "      <td>51</td>\n",
       "      <td>51</td>\n",
       "    </tr>\n",
       "    <tr>\n",
       "      <th>LG Dryer</th>\n",
       "      <td>44</td>\n",
       "      <td>44</td>\n",
       "    </tr>\n",
       "    <tr>\n",
       "      <th rowspan=\"2\" valign=\"top\">Portland</th>\n",
       "      <th>LG Dryer</th>\n",
       "      <td>37</td>\n",
       "      <td>37</td>\n",
       "    </tr>\n",
       "    <tr>\n",
       "      <th>LG Washing Machine</th>\n",
       "      <td>37</td>\n",
       "      <td>37</td>\n",
       "    </tr>\n",
       "    <tr>\n",
       "      <th>Austin</th>\n",
       "      <th>LG Washing Machine</th>\n",
       "      <td>26</td>\n",
       "      <td>26</td>\n",
       "    </tr>\n",
       "  </tbody>\n",
       "</table>\n",
       "<p>171 rows × 2 columns</p>\n",
       "</div>"
      ],
      "text/plain": [
       "                                         Product  Quantity\n",
       "City           Product                                    \n",
       " San Francisco USB-C Charging Cable         5357      5357\n",
       "               Lightning Charging Cable     5157      5157\n",
       "               AAA Batteries (4-pack)       4928      4928\n",
       "               AA Batteries (4-pack)        4897      4897\n",
       "               Wired Headphones             4582      4582\n",
       "...                                          ...       ...\n",
       " Dallas        LG Washing Machine             51        51\n",
       "               LG Dryer                       44        44\n",
       " Portland      LG Dryer                       37        37\n",
       "               LG Washing Machine             37        37\n",
       " Austin        LG Washing Machine             26        26\n",
       "\n",
       "[171 rows x 2 columns]"
      ]
     },
     "execution_count": 215,
     "metadata": {},
     "output_type": "execute_result"
    }
   ],
   "source": [
    "df1 = clean_retail.groupby(['City','Product'])['Product','Quantity'].count()\n",
    "pd.DataFrame(df1).sort_values(by = 'Quantity', ascending = False)"
   ]
  },
  {
   "cell_type": "code",
   "execution_count": null,
   "id": "a1ac9d05",
   "metadata": {},
   "outputs": [],
   "source": []
  },
  {
   "cell_type": "code",
   "execution_count": null,
   "id": "399b2908",
   "metadata": {},
   "outputs": [],
   "source": []
  },
  {
   "cell_type": "markdown",
   "id": "5926c1a0",
   "metadata": {},
   "source": [
    "Most Bought products in each city:\n",
    " USB-c- charging cable is the most sold product as we can see from the graph.\n",
    " \n"
   ]
  },
  {
   "cell_type": "code",
   "execution_count": 74,
   "id": "d2baf7c3",
   "metadata": {},
   "outputs": [
    {
     "data": {
      "text/html": [
       "<div>\n",
       "<style scoped>\n",
       "    .dataframe tbody tr th:only-of-type {\n",
       "        vertical-align: middle;\n",
       "    }\n",
       "\n",
       "    .dataframe tbody tr th {\n",
       "        vertical-align: top;\n",
       "    }\n",
       "\n",
       "    .dataframe thead th {\n",
       "        text-align: right;\n",
       "    }\n",
       "</style>\n",
       "<table border=\"1\" class=\"dataframe\">\n",
       "  <thead>\n",
       "    <tr style=\"text-align: right;\">\n",
       "      <th></th>\n",
       "      <th>Product</th>\n",
       "      <th>Quantity</th>\n",
       "      <th>Price</th>\n",
       "      <th>Order Date</th>\n",
       "      <th>Address</th>\n",
       "      <th>Year</th>\n",
       "      <th>Month</th>\n",
       "      <th>day</th>\n",
       "      <th>Hour</th>\n",
       "      <th>Sales</th>\n",
       "      <th>Sales_log</th>\n",
       "      <th>Sales_sqrt</th>\n",
       "      <th>City</th>\n",
       "    </tr>\n",
       "  </thead>\n",
       "  <tbody>\n",
       "    <tr>\n",
       "      <th>0</th>\n",
       "      <td>iPhone</td>\n",
       "      <td>1</td>\n",
       "      <td>700.00</td>\n",
       "      <td>2019-01-22 21:25:00</td>\n",
       "      <td>944 Walnut St, Boston, MA 02215</td>\n",
       "      <td>2019</td>\n",
       "      <td>1</td>\n",
       "      <td>22</td>\n",
       "      <td>21</td>\n",
       "      <td>700.00</td>\n",
       "      <td>6.551080</td>\n",
       "      <td>26.457513</td>\n",
       "      <td>Boston</td>\n",
       "    </tr>\n",
       "    <tr>\n",
       "      <th>1</th>\n",
       "      <td>Lightning Charging Cable</td>\n",
       "      <td>1</td>\n",
       "      <td>14.95</td>\n",
       "      <td>2019-01-28 14:15:00</td>\n",
       "      <td>185 Maple St, Portland, OR 97035</td>\n",
       "      <td>2019</td>\n",
       "      <td>1</td>\n",
       "      <td>28</td>\n",
       "      <td>14</td>\n",
       "      <td>14.95</td>\n",
       "      <td>2.704711</td>\n",
       "      <td>3.866523</td>\n",
       "      <td>Portland</td>\n",
       "    </tr>\n",
       "    <tr>\n",
       "      <th>2</th>\n",
       "      <td>Wired Headphones</td>\n",
       "      <td>2</td>\n",
       "      <td>11.99</td>\n",
       "      <td>2019-01-17 13:33:00</td>\n",
       "      <td>538 Adams St, San Francisco, CA 94016</td>\n",
       "      <td>2019</td>\n",
       "      <td>1</td>\n",
       "      <td>17</td>\n",
       "      <td>13</td>\n",
       "      <td>23.98</td>\n",
       "      <td>3.177220</td>\n",
       "      <td>4.896938</td>\n",
       "      <td>San Francisco</td>\n",
       "    </tr>\n",
       "    <tr>\n",
       "      <th>3</th>\n",
       "      <td>27in FHD Monitor</td>\n",
       "      <td>1</td>\n",
       "      <td>149.99</td>\n",
       "      <td>2019-01-05 20:33:00</td>\n",
       "      <td>738 10th St, Los Angeles, CA 90001</td>\n",
       "      <td>2019</td>\n",
       "      <td>1</td>\n",
       "      <td>5</td>\n",
       "      <td>20</td>\n",
       "      <td>149.99</td>\n",
       "      <td>5.010569</td>\n",
       "      <td>12.247040</td>\n",
       "      <td>Los Angeles</td>\n",
       "    </tr>\n",
       "    <tr>\n",
       "      <th>4</th>\n",
       "      <td>Wired Headphones</td>\n",
       "      <td>1</td>\n",
       "      <td>11.99</td>\n",
       "      <td>2019-01-25 11:59:00</td>\n",
       "      <td>387 10th St, Austin, TX 73301</td>\n",
       "      <td>2019</td>\n",
       "      <td>1</td>\n",
       "      <td>25</td>\n",
       "      <td>11</td>\n",
       "      <td>11.99</td>\n",
       "      <td>2.484073</td>\n",
       "      <td>3.462658</td>\n",
       "      <td>Austin</td>\n",
       "    </tr>\n",
       "  </tbody>\n",
       "</table>\n",
       "</div>"
      ],
      "text/plain": [
       "                    Product  Quantity   Price          Order Date  \\\n",
       "0                    iPhone         1  700.00 2019-01-22 21:25:00   \n",
       "1  Lightning Charging Cable         1   14.95 2019-01-28 14:15:00   \n",
       "2          Wired Headphones         2   11.99 2019-01-17 13:33:00   \n",
       "3          27in FHD Monitor         1  149.99 2019-01-05 20:33:00   \n",
       "4          Wired Headphones         1   11.99 2019-01-25 11:59:00   \n",
       "\n",
       "                                 Address  Year  Month  day  Hour   Sales  \\\n",
       "0        944 Walnut St, Boston, MA 02215  2019      1   22    21  700.00   \n",
       "1       185 Maple St, Portland, OR 97035  2019      1   28    14   14.95   \n",
       "2  538 Adams St, San Francisco, CA 94016  2019      1   17    13   23.98   \n",
       "3     738 10th St, Los Angeles, CA 90001  2019      1    5    20  149.99   \n",
       "4          387 10th St, Austin, TX 73301  2019      1   25    11   11.99   \n",
       "\n",
       "   Sales_log  Sales_sqrt            City  \n",
       "0   6.551080   26.457513          Boston  \n",
       "1   2.704711    3.866523        Portland  \n",
       "2   3.177220    4.896938   San Francisco  \n",
       "3   5.010569   12.247040     Los Angeles  \n",
       "4   2.484073    3.462658          Austin  "
      ]
     },
     "execution_count": 74,
     "metadata": {},
     "output_type": "execute_result"
    }
   ],
   "source": [
    "clean_retail.head()"
   ]
  },
  {
   "cell_type": "code",
   "execution_count": 90,
   "id": "c52fe4d2",
   "metadata": {},
   "outputs": [
    {
     "data": {
      "text/html": [
       "<div>\n",
       "<style scoped>\n",
       "    .dataframe tbody tr th:only-of-type {\n",
       "        vertical-align: middle;\n",
       "    }\n",
       "\n",
       "    .dataframe tbody tr th {\n",
       "        vertical-align: top;\n",
       "    }\n",
       "\n",
       "    .dataframe thead th {\n",
       "        text-align: right;\n",
       "    }\n",
       "</style>\n",
       "<table border=\"1\" class=\"dataframe\">\n",
       "  <thead>\n",
       "    <tr style=\"text-align: right;\">\n",
       "      <th></th>\n",
       "      <th></th>\n",
       "      <th>Quantity</th>\n",
       "    </tr>\n",
       "    <tr>\n",
       "      <th>City</th>\n",
       "      <th>Product</th>\n",
       "      <th></th>\n",
       "    </tr>\n",
       "  </thead>\n",
       "  <tbody>\n",
       "    <tr>\n",
       "      <th rowspan=\"4\" valign=\"top\">San Francisco</th>\n",
       "      <th>AAA Batteries (4-pack)</th>\n",
       "      <td>7404</td>\n",
       "    </tr>\n",
       "    <tr>\n",
       "      <th>AA Batteries (4-pack)</th>\n",
       "      <td>6549</td>\n",
       "    </tr>\n",
       "    <tr>\n",
       "      <th>USB-C Charging Cable</th>\n",
       "      <td>5883</td>\n",
       "    </tr>\n",
       "    <tr>\n",
       "      <th>Lightning Charging Cable</th>\n",
       "      <td>5540</td>\n",
       "    </tr>\n",
       "    <tr>\n",
       "      <th>Los Angeles</th>\n",
       "      <th>AAA Batteries (4-pack)</th>\n",
       "      <td>4958</td>\n",
       "    </tr>\n",
       "    <tr>\n",
       "      <th>...</th>\n",
       "      <th>...</th>\n",
       "      <td>...</td>\n",
       "    </tr>\n",
       "    <tr>\n",
       "      <th rowspan=\"2\" valign=\"top\">Dallas</th>\n",
       "      <th>LG Washing Machine</th>\n",
       "      <td>51</td>\n",
       "    </tr>\n",
       "    <tr>\n",
       "      <th>LG Dryer</th>\n",
       "      <td>44</td>\n",
       "    </tr>\n",
       "    <tr>\n",
       "      <th rowspan=\"2\" valign=\"top\">Portland</th>\n",
       "      <th>LG Dryer</th>\n",
       "      <td>37</td>\n",
       "    </tr>\n",
       "    <tr>\n",
       "      <th>LG Washing Machine</th>\n",
       "      <td>37</td>\n",
       "    </tr>\n",
       "    <tr>\n",
       "      <th>Austin</th>\n",
       "      <th>LG Washing Machine</th>\n",
       "      <td>26</td>\n",
       "    </tr>\n",
       "  </tbody>\n",
       "</table>\n",
       "<p>171 rows × 1 columns</p>\n",
       "</div>"
      ],
      "text/plain": [
       "                                         Quantity\n",
       "City           Product                           \n",
       " San Francisco AAA Batteries (4-pack)        7404\n",
       "               AA Batteries (4-pack)         6549\n",
       "               USB-C Charging Cable          5883\n",
       "               Lightning Charging Cable      5540\n",
       " Los Angeles   AAA Batteries (4-pack)        4958\n",
       "...                                           ...\n",
       " Dallas        LG Washing Machine              51\n",
       "               LG Dryer                        44\n",
       " Portland      LG Dryer                        37\n",
       "               LG Washing Machine              37\n",
       " Austin        LG Washing Machine              26\n",
       "\n",
       "[171 rows x 1 columns]"
      ]
     },
     "execution_count": 90,
     "metadata": {},
     "output_type": "execute_result"
    }
   ],
   "source": [
    "p = clean_retail.groupby(['City','Product'])['Quantity'].sum()\n",
    "pd.DataFrame(p).sort_values(by = 'Quantity', ascending = False)\n",
    "\n"
   ]
  },
  {
   "cell_type": "code",
   "execution_count": null,
   "id": "fc4460f6",
   "metadata": {},
   "outputs": [],
   "source": [
    "Most bought products per city.\n",
    "Based on your analysis, suggest a city for establishing a new branch for the retail store backed with proper reasoning.\n",
    "\n",
    "Find out the distribution of sales over different times of the day (Morning, Afternoon, Evening, Night)"
   ]
  },
  {
   "cell_type": "code",
   "execution_count": 102,
   "id": "b4629c9c",
   "metadata": {},
   "outputs": [],
   "source": [
    "#df = clean_retail[(clean_retail['City'] == 'Boston')]\n",
    "#df"
   ]
  },
  {
   "cell_type": "code",
   "execution_count": 83,
   "id": "b35e514d",
   "metadata": {},
   "outputs": [
    {
     "data": {
      "text/html": [
       "<div>\n",
       "<style scoped>\n",
       "    .dataframe tbody tr th:only-of-type {\n",
       "        vertical-align: middle;\n",
       "    }\n",
       "\n",
       "    .dataframe tbody tr th {\n",
       "        vertical-align: top;\n",
       "    }\n",
       "\n",
       "    .dataframe thead th {\n",
       "        text-align: right;\n",
       "    }\n",
       "</style>\n",
       "<table border=\"1\" class=\"dataframe\">\n",
       "  <thead>\n",
       "    <tr style=\"text-align: right;\">\n",
       "      <th></th>\n",
       "      <th>Product</th>\n",
       "      <th>Quantity</th>\n",
       "      <th>Price</th>\n",
       "      <th>Order Date</th>\n",
       "      <th>Address</th>\n",
       "      <th>Year</th>\n",
       "      <th>Month</th>\n",
       "      <th>day</th>\n",
       "      <th>Hour</th>\n",
       "      <th>Sales</th>\n",
       "      <th>Sales_log</th>\n",
       "      <th>Sales_sqrt</th>\n",
       "      <th>City</th>\n",
       "    </tr>\n",
       "  </thead>\n",
       "  <tbody>\n",
       "    <tr>\n",
       "      <th>0</th>\n",
       "      <td>iPhone</td>\n",
       "      <td>1</td>\n",
       "      <td>700.00</td>\n",
       "      <td>2019-01-22 21:25:00</td>\n",
       "      <td>944 Walnut St, Boston, MA 02215</td>\n",
       "      <td>2019</td>\n",
       "      <td>1</td>\n",
       "      <td>22</td>\n",
       "      <td>21</td>\n",
       "      <td>700.00</td>\n",
       "      <td>6.551080</td>\n",
       "      <td>26.457513</td>\n",
       "      <td>Boston</td>\n",
       "    </tr>\n",
       "    <tr>\n",
       "      <th>1</th>\n",
       "      <td>Lightning Charging Cable</td>\n",
       "      <td>1</td>\n",
       "      <td>14.95</td>\n",
       "      <td>2019-01-28 14:15:00</td>\n",
       "      <td>185 Maple St, Portland, OR 97035</td>\n",
       "      <td>2019</td>\n",
       "      <td>1</td>\n",
       "      <td>28</td>\n",
       "      <td>14</td>\n",
       "      <td>14.95</td>\n",
       "      <td>2.704711</td>\n",
       "      <td>3.866523</td>\n",
       "      <td>Portland</td>\n",
       "    </tr>\n",
       "    <tr>\n",
       "      <th>2</th>\n",
       "      <td>Wired Headphones</td>\n",
       "      <td>2</td>\n",
       "      <td>11.99</td>\n",
       "      <td>2019-01-17 13:33:00</td>\n",
       "      <td>538 Adams St, San Francisco, CA 94016</td>\n",
       "      <td>2019</td>\n",
       "      <td>1</td>\n",
       "      <td>17</td>\n",
       "      <td>13</td>\n",
       "      <td>23.98</td>\n",
       "      <td>3.177220</td>\n",
       "      <td>4.896938</td>\n",
       "      <td>San Francisco</td>\n",
       "    </tr>\n",
       "    <tr>\n",
       "      <th>3</th>\n",
       "      <td>27in FHD Monitor</td>\n",
       "      <td>1</td>\n",
       "      <td>149.99</td>\n",
       "      <td>2019-01-05 20:33:00</td>\n",
       "      <td>738 10th St, Los Angeles, CA 90001</td>\n",
       "      <td>2019</td>\n",
       "      <td>1</td>\n",
       "      <td>5</td>\n",
       "      <td>20</td>\n",
       "      <td>149.99</td>\n",
       "      <td>5.010569</td>\n",
       "      <td>12.247040</td>\n",
       "      <td>Los Angeles</td>\n",
       "    </tr>\n",
       "    <tr>\n",
       "      <th>4</th>\n",
       "      <td>Wired Headphones</td>\n",
       "      <td>1</td>\n",
       "      <td>11.99</td>\n",
       "      <td>2019-01-25 11:59:00</td>\n",
       "      <td>387 10th St, Austin, TX 73301</td>\n",
       "      <td>2019</td>\n",
       "      <td>1</td>\n",
       "      <td>25</td>\n",
       "      <td>11</td>\n",
       "      <td>11.99</td>\n",
       "      <td>2.484073</td>\n",
       "      <td>3.462658</td>\n",
       "      <td>Austin</td>\n",
       "    </tr>\n",
       "  </tbody>\n",
       "</table>\n",
       "</div>"
      ],
      "text/plain": [
       "                    Product  Quantity   Price          Order Date  \\\n",
       "0                    iPhone         1  700.00 2019-01-22 21:25:00   \n",
       "1  Lightning Charging Cable         1   14.95 2019-01-28 14:15:00   \n",
       "2          Wired Headphones         2   11.99 2019-01-17 13:33:00   \n",
       "3          27in FHD Monitor         1  149.99 2019-01-05 20:33:00   \n",
       "4          Wired Headphones         1   11.99 2019-01-25 11:59:00   \n",
       "\n",
       "                                 Address  Year  Month  day  Hour   Sales  \\\n",
       "0        944 Walnut St, Boston, MA 02215  2019      1   22    21  700.00   \n",
       "1       185 Maple St, Portland, OR 97035  2019      1   28    14   14.95   \n",
       "2  538 Adams St, San Francisco, CA 94016  2019      1   17    13   23.98   \n",
       "3     738 10th St, Los Angeles, CA 90001  2019      1    5    20  149.99   \n",
       "4          387 10th St, Austin, TX 73301  2019      1   25    11   11.99   \n",
       "\n",
       "   Sales_log  Sales_sqrt            City  \n",
       "0   6.551080   26.457513          Boston  \n",
       "1   2.704711    3.866523        Portland  \n",
       "2   3.177220    4.896938   San Francisco  \n",
       "3   5.010569   12.247040     Los Angeles  \n",
       "4   2.484073    3.462658          Austin  "
      ]
     },
     "execution_count": 83,
     "metadata": {},
     "output_type": "execute_result"
    }
   ],
   "source": [
    "clean_retail.head()"
   ]
  },
  {
   "cell_type": "markdown",
   "id": "fc016db5",
   "metadata": {},
   "source": [
    "__Which time of day has the most sales?\n",
    "Based on your analysis, suggest the best working hours and the best products for the retail stores in each city.__"
   ]
  },
  {
   "cell_type": "code",
   "execution_count": 103,
   "id": "0ba686d3",
   "metadata": {},
   "outputs": [
    {
     "name": "stdout",
     "output_type": "stream",
     "text": [
      "   number           bins\n",
      "0      56   (40.0, 60.0]\n",
      "1      19    (1.0, 20.0]\n",
      "2      37   (20.0, 40.0]\n",
      "3      87  (80.0, 100.0]\n",
      "4      17    (1.0, 20.0]\n",
      "5      14    (1.0, 20.0]\n",
      "6      62   (60.0, 80.0]\n",
      "7       1            NaN\n",
      "8      15    (1.0, 20.0]\n",
      "9       4    (1.0, 20.0]\n"
     ]
    }
   ],
   "source": [
    "df= pd.DataFrame({'number': np.random.randint(1, 100, 10)})\n",
    "df['bins'] = pd.cut(x=df['number'], bins=[1, 20, 40, 60,\n",
    "                                          80, 100])\n",
    "print(df)"
   ]
  },
  {
   "cell_type": "code",
   "execution_count": 104,
   "id": "08687a97",
   "metadata": {},
   "outputs": [],
   "source": [
    "\n",
    "clean_retail['Timing'] = pd.cut(x = clean_retail['Hour'], bins = [0,12,16,19,23],labels = ['Morning', 'Aftenoon', 'Evening', 'Night'])"
   ]
  },
  {
   "cell_type": "code",
   "execution_count": 105,
   "id": "90080ffd",
   "metadata": {},
   "outputs": [
    {
     "data": {
      "text/html": [
       "<div>\n",
       "<style scoped>\n",
       "    .dataframe tbody tr th:only-of-type {\n",
       "        vertical-align: middle;\n",
       "    }\n",
       "\n",
       "    .dataframe tbody tr th {\n",
       "        vertical-align: top;\n",
       "    }\n",
       "\n",
       "    .dataframe thead th {\n",
       "        text-align: right;\n",
       "    }\n",
       "</style>\n",
       "<table border=\"1\" class=\"dataframe\">\n",
       "  <thead>\n",
       "    <tr style=\"text-align: right;\">\n",
       "      <th></th>\n",
       "      <th>Product</th>\n",
       "      <th>Quantity</th>\n",
       "      <th>Price</th>\n",
       "      <th>Order Date</th>\n",
       "      <th>Address</th>\n",
       "      <th>Year</th>\n",
       "      <th>Month</th>\n",
       "      <th>day</th>\n",
       "      <th>Hour</th>\n",
       "      <th>Sales</th>\n",
       "      <th>Sales_log</th>\n",
       "      <th>Sales_sqrt</th>\n",
       "      <th>City</th>\n",
       "      <th>Timing</th>\n",
       "    </tr>\n",
       "  </thead>\n",
       "  <tbody>\n",
       "    <tr>\n",
       "      <th>0</th>\n",
       "      <td>iPhone</td>\n",
       "      <td>1</td>\n",
       "      <td>700.00</td>\n",
       "      <td>2019-01-22 21:25:00</td>\n",
       "      <td>944 Walnut St, Boston, MA 02215</td>\n",
       "      <td>2019</td>\n",
       "      <td>1</td>\n",
       "      <td>22</td>\n",
       "      <td>21</td>\n",
       "      <td>700.00</td>\n",
       "      <td>6.551080</td>\n",
       "      <td>26.457513</td>\n",
       "      <td>Boston</td>\n",
       "      <td>Night</td>\n",
       "    </tr>\n",
       "    <tr>\n",
       "      <th>1</th>\n",
       "      <td>Lightning Charging Cable</td>\n",
       "      <td>1</td>\n",
       "      <td>14.95</td>\n",
       "      <td>2019-01-28 14:15:00</td>\n",
       "      <td>185 Maple St, Portland, OR 97035</td>\n",
       "      <td>2019</td>\n",
       "      <td>1</td>\n",
       "      <td>28</td>\n",
       "      <td>14</td>\n",
       "      <td>14.95</td>\n",
       "      <td>2.704711</td>\n",
       "      <td>3.866523</td>\n",
       "      <td>Portland</td>\n",
       "      <td>Aftenoon</td>\n",
       "    </tr>\n",
       "    <tr>\n",
       "      <th>2</th>\n",
       "      <td>Wired Headphones</td>\n",
       "      <td>2</td>\n",
       "      <td>11.99</td>\n",
       "      <td>2019-01-17 13:33:00</td>\n",
       "      <td>538 Adams St, San Francisco, CA 94016</td>\n",
       "      <td>2019</td>\n",
       "      <td>1</td>\n",
       "      <td>17</td>\n",
       "      <td>13</td>\n",
       "      <td>23.98</td>\n",
       "      <td>3.177220</td>\n",
       "      <td>4.896938</td>\n",
       "      <td>San Francisco</td>\n",
       "      <td>Aftenoon</td>\n",
       "    </tr>\n",
       "    <tr>\n",
       "      <th>3</th>\n",
       "      <td>27in FHD Monitor</td>\n",
       "      <td>1</td>\n",
       "      <td>149.99</td>\n",
       "      <td>2019-01-05 20:33:00</td>\n",
       "      <td>738 10th St, Los Angeles, CA 90001</td>\n",
       "      <td>2019</td>\n",
       "      <td>1</td>\n",
       "      <td>5</td>\n",
       "      <td>20</td>\n",
       "      <td>149.99</td>\n",
       "      <td>5.010569</td>\n",
       "      <td>12.247040</td>\n",
       "      <td>Los Angeles</td>\n",
       "      <td>Night</td>\n",
       "    </tr>\n",
       "    <tr>\n",
       "      <th>4</th>\n",
       "      <td>Wired Headphones</td>\n",
       "      <td>1</td>\n",
       "      <td>11.99</td>\n",
       "      <td>2019-01-25 11:59:00</td>\n",
       "      <td>387 10th St, Austin, TX 73301</td>\n",
       "      <td>2019</td>\n",
       "      <td>1</td>\n",
       "      <td>25</td>\n",
       "      <td>11</td>\n",
       "      <td>11.99</td>\n",
       "      <td>2.484073</td>\n",
       "      <td>3.462658</td>\n",
       "      <td>Austin</td>\n",
       "      <td>Morning</td>\n",
       "    </tr>\n",
       "  </tbody>\n",
       "</table>\n",
       "</div>"
      ],
      "text/plain": [
       "                    Product  Quantity   Price          Order Date  \\\n",
       "0                    iPhone         1  700.00 2019-01-22 21:25:00   \n",
       "1  Lightning Charging Cable         1   14.95 2019-01-28 14:15:00   \n",
       "2          Wired Headphones         2   11.99 2019-01-17 13:33:00   \n",
       "3          27in FHD Monitor         1  149.99 2019-01-05 20:33:00   \n",
       "4          Wired Headphones         1   11.99 2019-01-25 11:59:00   \n",
       "\n",
       "                                 Address  Year  Month  day  Hour   Sales  \\\n",
       "0        944 Walnut St, Boston, MA 02215  2019      1   22    21  700.00   \n",
       "1       185 Maple St, Portland, OR 97035  2019      1   28    14   14.95   \n",
       "2  538 Adams St, San Francisco, CA 94016  2019      1   17    13   23.98   \n",
       "3     738 10th St, Los Angeles, CA 90001  2019      1    5    20  149.99   \n",
       "4          387 10th St, Austin, TX 73301  2019      1   25    11   11.99   \n",
       "\n",
       "   Sales_log  Sales_sqrt            City    Timing  \n",
       "0   6.551080   26.457513          Boston     Night  \n",
       "1   2.704711    3.866523        Portland  Aftenoon  \n",
       "2   3.177220    4.896938   San Francisco  Aftenoon  \n",
       "3   5.010569   12.247040     Los Angeles     Night  \n",
       "4   2.484073    3.462658          Austin   Morning  "
      ]
     },
     "execution_count": 105,
     "metadata": {},
     "output_type": "execute_result"
    }
   ],
   "source": [
    "clean_retail.head()"
   ]
  },
  {
   "cell_type": "code",
   "execution_count": 166,
   "id": "ac8c0a15",
   "metadata": {},
   "outputs": [
    {
     "data": {
      "text/plain": [
       "<AxesSubplot:xlabel='Timing', ylabel='Sales_log'>"
      ]
     },
     "execution_count": 166,
     "metadata": {},
     "output_type": "execute_result"
    },
    {
     "data": {
      "image/png": "[encoded data removed]",
      "text/plain": [
       "<Figure size 720x720 with 1 Axes>"
      ]
     },
     "metadata": {},
     "output_type": "display_data"
    }
   ],
   "source": [
    "sns.set(rc={\"figure.figsize\":(10, 10)})\n",
    "\n",
    "sns.boxplot(data = clean_retail, x = 'Timing', y = 'Sales_log', showmeans = True)"
   ]
  },
  {
   "cell_type": "code",
   "execution_count": 117,
   "id": "520b71e5",
   "metadata": {},
   "outputs": [
    {
     "data": {
      "text/html": [
       "<div>\n",
       "<style scoped>\n",
       "    .dataframe tbody tr th:only-of-type {\n",
       "        vertical-align: middle;\n",
       "    }\n",
       "\n",
       "    .dataframe tbody tr th {\n",
       "        vertical-align: top;\n",
       "    }\n",
       "\n",
       "    .dataframe thead th {\n",
       "        text-align: right;\n",
       "    }\n",
       "</style>\n",
       "<table border=\"1\" class=\"dataframe\">\n",
       "  <thead>\n",
       "    <tr style=\"text-align: right;\">\n",
       "      <th></th>\n",
       "      <th>Sales</th>\n",
       "    </tr>\n",
       "    <tr>\n",
       "      <th>Timing</th>\n",
       "      <th></th>\n",
       "    </tr>\n",
       "  </thead>\n",
       "  <tbody>\n",
       "    <tr>\n",
       "      <th>Morning</th>\n",
       "      <td>1.181145e+07</td>\n",
       "    </tr>\n",
       "    <tr>\n",
       "      <th>Aftenoon</th>\n",
       "      <td>8.078030e+06</td>\n",
       "    </tr>\n",
       "    <tr>\n",
       "      <th>Night</th>\n",
       "      <td>7.105612e+06</td>\n",
       "    </tr>\n",
       "    <tr>\n",
       "      <th>Evening</th>\n",
       "      <td>6.756899e+06</td>\n",
       "    </tr>\n",
       "  </tbody>\n",
       "</table>\n",
       "</div>"
      ],
      "text/plain": [
       "                 Sales\n",
       "Timing                \n",
       "Morning   1.181145e+07\n",
       "Aftenoon  8.078030e+06\n",
       "Night     7.105612e+06\n",
       "Evening   6.756899e+06"
      ]
     },
     "execution_count": 117,
     "metadata": {},
     "output_type": "execute_result"
    }
   ],
   "source": [
    "x = clean_retail.groupby('Timing')['Sales'].sum()\n",
    "pd.DataFrame(x).sort_values(by = 'Sales', ascending = False)\n"
   ]
  },
  {
   "cell_type": "code",
   "execution_count": 248,
   "id": "1d54d205",
   "metadata": {},
   "outputs": [
    {
     "data": {
      "text/html": [
       "<div>\n",
       "<style scoped>\n",
       "    .dataframe tbody tr th:only-of-type {\n",
       "        vertical-align: middle;\n",
       "    }\n",
       "\n",
       "    .dataframe tbody tr th {\n",
       "        vertical-align: top;\n",
       "    }\n",
       "\n",
       "    .dataframe thead th {\n",
       "        text-align: right;\n",
       "    }\n",
       "</style>\n",
       "<table border=\"1\" class=\"dataframe\">\n",
       "  <thead>\n",
       "    <tr style=\"text-align: right;\">\n",
       "      <th></th>\n",
       "      <th></th>\n",
       "      <th>Sales</th>\n",
       "    </tr>\n",
       "    <tr>\n",
       "      <th>Timing</th>\n",
       "      <th>Product</th>\n",
       "      <th></th>\n",
       "    </tr>\n",
       "  </thead>\n",
       "  <tbody>\n",
       "    <tr>\n",
       "      <th>Morning</th>\n",
       "      <th>Macbook Pro Laptop</th>\n",
       "      <td>2738700.00</td>\n",
       "    </tr>\n",
       "    <tr>\n",
       "      <th>Aftenoon</th>\n",
       "      <th>Macbook Pro Laptop</th>\n",
       "      <td>1871700.00</td>\n",
       "    </tr>\n",
       "    <tr>\n",
       "      <th>Morning</th>\n",
       "      <th>iPhone</th>\n",
       "      <td>1684200.00</td>\n",
       "    </tr>\n",
       "    <tr>\n",
       "      <th>Night</th>\n",
       "      <th>Macbook Pro Laptop</th>\n",
       "      <td>1659200.00</td>\n",
       "    </tr>\n",
       "    <tr>\n",
       "      <th>Evening</th>\n",
       "      <th>Macbook Pro Laptop</th>\n",
       "      <td>1615000.00</td>\n",
       "    </tr>\n",
       "    <tr>\n",
       "      <th>...</th>\n",
       "      <th>...</th>\n",
       "      <td>...</td>\n",
       "    </tr>\n",
       "    <tr>\n",
       "      <th>Night</th>\n",
       "      <th>AA Batteries (4-pack)</th>\n",
       "      <td>22663.68</td>\n",
       "    </tr>\n",
       "    <tr>\n",
       "      <th>Aftenoon</th>\n",
       "      <th>AAA Batteries (4-pack)</th>\n",
       "      <td>21288.80</td>\n",
       "    </tr>\n",
       "    <tr>\n",
       "      <th>Evening</th>\n",
       "      <th>AA Batteries (4-pack)</th>\n",
       "      <td>19933.44</td>\n",
       "    </tr>\n",
       "    <tr>\n",
       "      <th>Night</th>\n",
       "      <th>AAA Batteries (4-pack)</th>\n",
       "      <td>18717.40</td>\n",
       "    </tr>\n",
       "    <tr>\n",
       "      <th>Evening</th>\n",
       "      <th>AAA Batteries (4-pack)</th>\n",
       "      <td>18424.38</td>\n",
       "    </tr>\n",
       "  </tbody>\n",
       "</table>\n",
       "<p>76 rows × 1 columns</p>\n",
       "</div>"
      ],
      "text/plain": [
       "                                      Sales\n",
       "Timing   Product                           \n",
       "Morning  Macbook Pro Laptop      2738700.00\n",
       "Aftenoon Macbook Pro Laptop      1871700.00\n",
       "Morning  iPhone                  1684200.00\n",
       "Night    Macbook Pro Laptop      1659200.00\n",
       "Evening  Macbook Pro Laptop      1615000.00\n",
       "...                                     ...\n",
       "Night    AA Batteries (4-pack)     22663.68\n",
       "Aftenoon AAA Batteries (4-pack)    21288.80\n",
       "Evening  AA Batteries (4-pack)     19933.44\n",
       "Night    AAA Batteries (4-pack)    18717.40\n",
       "Evening  AAA Batteries (4-pack)    18424.38\n",
       "\n",
       "[76 rows x 1 columns]"
      ]
     },
     "execution_count": 248,
     "metadata": {},
     "output_type": "execute_result"
    }
   ],
   "source": [
    "product_sales = clean_retail.groupby(['Timing','Product'])['Sales'].sum()\n",
    "pd.DataFrame(product_sales).sort_values(by = 'Sales', ascending = False)"
   ]
  },
  {
   "cell_type": "code",
   "execution_count": 249,
   "id": "453ca6bb",
   "metadata": {},
   "outputs": [
    {
     "data": {
      "text/html": [
       "<div>\n",
       "<style scoped>\n",
       "    .dataframe tbody tr th:only-of-type {\n",
       "        vertical-align: middle;\n",
       "    }\n",
       "\n",
       "    .dataframe tbody tr th {\n",
       "        vertical-align: top;\n",
       "    }\n",
       "\n",
       "    .dataframe thead th {\n",
       "        text-align: right;\n",
       "    }\n",
       "</style>\n",
       "<table border=\"1\" class=\"dataframe\">\n",
       "  <thead>\n",
       "    <tr style=\"text-align: right;\">\n",
       "      <th></th>\n",
       "      <th></th>\n",
       "      <th>Quantity</th>\n",
       "    </tr>\n",
       "    <tr>\n",
       "      <th>Timing</th>\n",
       "      <th>Product</th>\n",
       "      <th></th>\n",
       "    </tr>\n",
       "  </thead>\n",
       "  <tbody>\n",
       "    <tr>\n",
       "      <th rowspan=\"4\" valign=\"top\">Morning</th>\n",
       "      <th>AAA Batteries (4-pack)</th>\n",
       "      <td>10732</td>\n",
       "    </tr>\n",
       "    <tr>\n",
       "      <th>AA Batteries (4-pack)</th>\n",
       "      <td>9423</td>\n",
       "    </tr>\n",
       "    <tr>\n",
       "      <th>USB-C Charging Cable</th>\n",
       "      <td>8347</td>\n",
       "    </tr>\n",
       "    <tr>\n",
       "      <th>Lightning Charging Cable</th>\n",
       "      <td>8050</td>\n",
       "    </tr>\n",
       "    <tr>\n",
       "      <th rowspan=\"3\" valign=\"top\">Aftenoon</th>\n",
       "      <th>AAA Batteries (4-pack)</th>\n",
       "      <td>7120</td>\n",
       "    </tr>\n",
       "    <tr>\n",
       "      <th>...</th>\n",
       "      <td>...</td>\n",
       "    </tr>\n",
       "    <tr>\n",
       "      <th>LG Dryer</th>\n",
       "      <td>164</td>\n",
       "    </tr>\n",
       "    <tr>\n",
       "      <th>Evening</th>\n",
       "      <th>LG Washing Machine</th>\n",
       "      <td>139</td>\n",
       "    </tr>\n",
       "    <tr>\n",
       "      <th rowspan=\"2\" valign=\"top\">Night</th>\n",
       "      <th>LG Dryer</th>\n",
       "      <td>136</td>\n",
       "    </tr>\n",
       "    <tr>\n",
       "      <th>LG Washing Machine</th>\n",
       "      <td>128</td>\n",
       "    </tr>\n",
       "    <tr>\n",
       "      <th>Evening</th>\n",
       "      <th>LG Dryer</th>\n",
       "      <td>119</td>\n",
       "    </tr>\n",
       "  </tbody>\n",
       "</table>\n",
       "<p>76 rows × 1 columns</p>\n",
       "</div>"
      ],
      "text/plain": [
       "                                   Quantity\n",
       "Timing   Product                           \n",
       "Morning  AAA Batteries (4-pack)       10732\n",
       "         AA Batteries (4-pack)         9423\n",
       "         USB-C Charging Cable          8347\n",
       "         Lightning Charging Cable      8050\n",
       "Aftenoon AAA Batteries (4-pack)        7120\n",
       "...                                     ...\n",
       "         LG Dryer                       164\n",
       "Evening  LG Washing Machine             139\n",
       "Night    LG Dryer                       136\n",
       "         LG Washing Machine             128\n",
       "Evening  LG Dryer                       119\n",
       "\n",
       "[76 rows x 1 columns]"
      ]
     },
     "execution_count": 249,
     "metadata": {},
     "output_type": "execute_result"
    }
   ],
   "source": [
    "product_sales = clean_retail.groupby(['Timing','Product'])['Quantity'].sum()\n",
    "pd.DataFrame(product_sales).sort_values(by = 'Quantity', ascending = False)"
   ]
  },
  {
   "cell_type": "markdown",
   "id": "1fa05a50",
   "metadata": {},
   "source": [
    "Sales as we can see are __maximum__ during the __morning__  and are __minimum__ during the __Evening__.\n",
    "\n",
    "So the best suited time for opening the store should be Moring we should try to open the store early in the morning and\n",
    "should increase the timing limit  to keep the store open at night.\n",
    "\n",
    "We can probably choose evening time for the break and can close the store for some time in the evening like we can compensate that time of night with the evening.\n"
   ]
  },
  {
   "cell_type": "markdown",
   "id": "168bed52",
   "metadata": {},
   "source": [
    "__Before moving on to check the which products are mostly sold we need to look at the distribution of quantity.__"
   ]
  },
  {
   "cell_type": "code",
   "execution_count": 169,
   "id": "f6354423",
   "metadata": {},
   "outputs": [
    {
     "name": "stderr",
     "output_type": "stream",
     "text": [
      "C:\\Users\\Bakul anmol\\anaconda3\\lib\\site-packages\\seaborn\\distributions.py:2557: FutureWarning: `distplot` is a deprecated function and will be removed in a future version. Please adapt your code to use either `displot` (a figure-level function with similar flexibility) or `histplot` (an axes-level function for histograms).\n",
      "  warnings.warn(msg, FutureWarning)\n"
     ]
    },
    {
     "data": {
      "text/plain": [
       "<matplotlib.lines.Line2D at 0x1821c898130>"
      ]
     },
     "execution_count": 169,
     "metadata": {},
     "output_type": "execute_result"
    },
    {
     "data": {
      "image/png": "[encoded data removed]",
      "text/plain": [
       "<Figure size 720x360 with 1 Axes>"
      ]
     },
     "metadata": {},
     "output_type": "display_data"
    }
   ],
   "source": [
    "sns.set(rc={\"figure.figsize\":(10, 5)})\n",
    "\n",
    "sns.distplot(clean_retail.Quantity)\n",
    "plt.axvline(x = clean_retail.Quantity.mean(), color = 'red', alpha = 1,label = 'Mean')\n",
    "plt.axvline(x = clean_retail.Quantity.median(), color = 'green', alpha = 1,label = 'Median')"
   ]
  },
  {
   "cell_type": "code",
   "execution_count": 170,
   "id": "6b1d96f4",
   "metadata": {},
   "outputs": [
    {
     "data": {
      "text/plain": [
       "4.82981115204352"
      ]
     },
     "execution_count": 170,
     "metadata": {},
     "output_type": "execute_result"
    }
   ],
   "source": [
    "clean_retail['Quantity'].skew()"
   ]
  },
  {
   "cell_type": "code",
   "execution_count": 171,
   "id": "b2bbaadc",
   "metadata": {},
   "outputs": [
    {
     "name": "stderr",
     "output_type": "stream",
     "text": [
      "C:\\Users\\Bakul anmol\\anaconda3\\lib\\site-packages\\seaborn\\distributions.py:2557: FutureWarning: `distplot` is a deprecated function and will be removed in a future version. Please adapt your code to use either `displot` (a figure-level function with similar flexibility) or `histplot` (an axes-level function for histograms).\n",
      "  warnings.warn(msg, FutureWarning)\n"
     ]
    },
    {
     "data": {
      "text/plain": [
       "<matplotlib.legend.Legend at 0x1821c84a0d0>"
      ]
     },
     "execution_count": 171,
     "metadata": {},
     "output_type": "execute_result"
    },
    {
     "data": {
      "image/png": "[encoded data removed]",
      "text/plain": [
       "<Figure size 720x360 with 1 Axes>"
      ]
     },
     "metadata": {},
     "output_type": "display_data"
    }
   ],
   "source": [
    "clean_retail['Quantity_sqrt'] = np.sqrt(clean_retail['Quantity'])\n",
    "sns.distplot(clean_retail.Quantity_sqrt)\n",
    "plt.axvline(x = clean_retail.Quantity_sqrt.mean(), color = 'red', alpha = 1,label = 'Mean')\n",
    "plt.axvline(x = clean_retail.Quantity_sqrt.median(), color = 'green', alpha = 1,label = 'Median')\n",
    "plt.legend()"
   ]
  },
  {
   "cell_type": "code",
   "execution_count": 172,
   "id": "24b9dc2b",
   "metadata": {},
   "outputs": [
    {
     "data": {
      "text/plain": [
       "3.864870969270003"
      ]
     },
     "execution_count": 172,
     "metadata": {},
     "output_type": "execute_result"
    }
   ],
   "source": [
    "clean_retail['Quantity_sqrt'].skew()"
   ]
  },
  {
   "cell_type": "code",
   "execution_count": 173,
   "id": "1f75a7fd",
   "metadata": {},
   "outputs": [
    {
     "name": "stderr",
     "output_type": "stream",
     "text": [
      "C:\\Users\\Bakul anmol\\anaconda3\\lib\\site-packages\\seaborn\\distributions.py:2557: FutureWarning: `distplot` is a deprecated function and will be removed in a future version. Please adapt your code to use either `displot` (a figure-level function with similar flexibility) or `histplot` (an axes-level function for histograms).\n",
      "  warnings.warn(msg, FutureWarning)\n"
     ]
    },
    {
     "data": {
      "text/plain": [
       "<matplotlib.legend.Legend at 0x18222d2dbe0>"
      ]
     },
     "execution_count": 173,
     "metadata": {},
     "output_type": "execute_result"
    },
    {
     "data": {
      "image/png": "[encoded data removed]",
      "text/plain": [
       "<Figure size 720x360 with 1 Axes>"
      ]
     },
     "metadata": {},
     "output_type": "display_data"
    }
   ],
   "source": [
    "clean_retail['Quantity_log'] = np.log(clean_retail['Quantity'])\n",
    "sns.distplot(clean_retail.Quantity_log)\n",
    "plt.axvline(x = clean_retail.Quantity_log.mean(), color = 'red', alpha = 1,label = 'Mean')\n",
    "plt.axvline(x = clean_retail.Quantity_log.median(), color = 'green', alpha = 1,label = 'Median')\n",
    "plt.legend()"
   ]
  },
  {
   "cell_type": "code",
   "execution_count": 174,
   "id": "f3bab126",
   "metadata": {},
   "outputs": [
    {
     "data": {
      "text/plain": [
       "3.3558315980614446"
      ]
     },
     "execution_count": 174,
     "metadata": {},
     "output_type": "execute_result"
    }
   ],
   "source": [
    "clean_retail['Quantity_log'].skew()"
   ]
  },
  {
   "cell_type": "code",
   "execution_count": 175,
   "id": "36b0278b",
   "metadata": {},
   "outputs": [],
   "source": [
    "#from scipy.stats import boxcox\n",
    "#from sklearn.preprocessing import PowerTransformer"
   ]
  },
  {
   "cell_type": "code",
   "execution_count": null,
   "id": "d0af636e",
   "metadata": {},
   "outputs": [],
   "source": []
  },
  {
   "cell_type": "code",
   "execution_count": null,
   "id": "6126c30c",
   "metadata": {},
   "outputs": [],
   "source": []
  },
  {
   "cell_type": "code",
   "execution_count": null,
   "id": "b73336fa",
   "metadata": {},
   "outputs": [],
   "source": []
  },
  {
   "cell_type": "code",
   "execution_count": 219,
   "id": "4bee8fe4",
   "metadata": {},
   "outputs": [
    {
     "data": {
      "text/html": [
       "<div>\n",
       "<style scoped>\n",
       "    .dataframe tbody tr th:only-of-type {\n",
       "        vertical-align: middle;\n",
       "    }\n",
       "\n",
       "    .dataframe tbody tr th {\n",
       "        vertical-align: top;\n",
       "    }\n",
       "\n",
       "    .dataframe thead th {\n",
       "        text-align: right;\n",
       "    }\n",
       "</style>\n",
       "<table border=\"1\" class=\"dataframe\">\n",
       "  <thead>\n",
       "    <tr style=\"text-align: right;\">\n",
       "      <th></th>\n",
       "      <th></th>\n",
       "      <th>Quantity</th>\n",
       "    </tr>\n",
       "    <tr>\n",
       "      <th>Timing</th>\n",
       "      <th>Product</th>\n",
       "      <th></th>\n",
       "    </tr>\n",
       "  </thead>\n",
       "  <tbody>\n",
       "    <tr>\n",
       "      <th rowspan=\"4\" valign=\"top\">Morning</th>\n",
       "      <th>AAA Batteries (4-pack)</th>\n",
       "      <td>10732</td>\n",
       "    </tr>\n",
       "    <tr>\n",
       "      <th>AA Batteries (4-pack)</th>\n",
       "      <td>9423</td>\n",
       "    </tr>\n",
       "    <tr>\n",
       "      <th>USB-C Charging Cable</th>\n",
       "      <td>8347</td>\n",
       "    </tr>\n",
       "    <tr>\n",
       "      <th>Lightning Charging Cable</th>\n",
       "      <td>8050</td>\n",
       "    </tr>\n",
       "    <tr>\n",
       "      <th rowspan=\"3\" valign=\"top\">Aftenoon</th>\n",
       "      <th>AAA Batteries (4-pack)</th>\n",
       "      <td>7120</td>\n",
       "    </tr>\n",
       "    <tr>\n",
       "      <th>...</th>\n",
       "      <td>...</td>\n",
       "    </tr>\n",
       "    <tr>\n",
       "      <th>LG Dryer</th>\n",
       "      <td>164</td>\n",
       "    </tr>\n",
       "    <tr>\n",
       "      <th>Evening</th>\n",
       "      <th>LG Washing Machine</th>\n",
       "      <td>139</td>\n",
       "    </tr>\n",
       "    <tr>\n",
       "      <th rowspan=\"2\" valign=\"top\">Night</th>\n",
       "      <th>LG Dryer</th>\n",
       "      <td>136</td>\n",
       "    </tr>\n",
       "    <tr>\n",
       "      <th>LG Washing Machine</th>\n",
       "      <td>128</td>\n",
       "    </tr>\n",
       "    <tr>\n",
       "      <th>Evening</th>\n",
       "      <th>LG Dryer</th>\n",
       "      <td>119</td>\n",
       "    </tr>\n",
       "  </tbody>\n",
       "</table>\n",
       "<p>76 rows × 1 columns</p>\n",
       "</div>"
      ],
      "text/plain": [
       "                                   Quantity\n",
       "Timing   Product                           \n",
       "Morning  AAA Batteries (4-pack)       10732\n",
       "         AA Batteries (4-pack)         9423\n",
       "         USB-C Charging Cable          8347\n",
       "         Lightning Charging Cable      8050\n",
       "Aftenoon AAA Batteries (4-pack)        7120\n",
       "...                                     ...\n",
       "         LG Dryer                       164\n",
       "Evening  LG Washing Machine             139\n",
       "Night    LG Dryer                       136\n",
       "         LG Washing Machine             128\n",
       "Evening  LG Dryer                       119\n",
       "\n",
       "[76 rows x 1 columns]"
      ]
     },
     "execution_count": 219,
     "metadata": {},
     "output_type": "execute_result"
    }
   ],
   "source": [
    "t = clean_retail.groupby(['Timing', 'Product'])['Quantity'].sum()\n",
    "u = pd.DataFrame(t).sort_values(by = 'Quantity', ascending = False)\n",
    "u\n"
   ]
  },
  {
   "cell_type": "code",
   "execution_count": 217,
   "id": "45b39ef0",
   "metadata": {},
   "outputs": [
    {
     "data": {
      "text/plain": [
       "Timing\n",
       "Morning     63960\n",
       "Aftenoon    43598\n",
       "Evening     36033\n",
       "Night       38193\n",
       "Name: Product, dtype: int64"
      ]
     },
     "execution_count": 217,
     "metadata": {},
     "output_type": "execute_result"
    }
   ],
   "source": [
    "clean_retail.groupby('Timing')['Product'].count()"
   ]
  },
  {
   "cell_type": "markdown",
   "id": "d32322df",
   "metadata": {},
   "source": [
    "__Sales are maximum during the Morning .__"
   ]
  },
  {
   "cell_type": "code",
   "execution_count": 190,
   "id": "086a0bf5",
   "metadata": {},
   "outputs": [
    {
     "data": {
      "text/plain": [
       "<AxesSubplot:xlabel='Product', ylabel='Quantity'>"
      ]
     },
     "execution_count": 190,
     "metadata": {},
     "output_type": "execute_result"
    },
    {
     "data": {
      "image/png": "[encoded data removed]",
      "text/plain": [
       "<Figure size 2160x1440 with 1 Axes>"
      ]
     },
     "metadata": {},
     "output_type": "display_data"
    }
   ],
   "source": [
    "sns.set(rc={\"figure.figsize\":(30, 20)})\n",
    "\n",
    "sns.barplot(x = 'Product', y = 'Quantity', data = clean_retail)"
   ]
  },
  {
   "cell_type": "code",
   "execution_count": 191,
   "id": "7cd46873",
   "metadata": {},
   "outputs": [
    {
     "data": {
      "image/png": "[encoded data removed]",
      "text/plain": [
       "<Figure size 2160x1440 with 1 Axes>"
      ]
     },
     "metadata": {},
     "output_type": "display_data"
    }
   ],
   "source": [
    "product = clean_retail['Product']\n",
    "Quantity = clean_retail['Quantity']\n",
    "plt.bar(product, Quantity, color ='maroon',\n",
    "        width = 0.4)\n",
    " \n",
    "plt.xlabel(\"Product Name\")\n",
    "plt.ylabel(\"Quantity Sold\")\n",
    "plt.title(\"Produt Quantity wise\")\n",
    "plt.show()"
   ]
  },
  {
   "cell_type": "code",
   "execution_count": null,
   "id": "ba3cc66d",
   "metadata": {},
   "outputs": [],
   "source": []
  },
  {
   "cell_type": "code",
   "execution_count": 238,
   "id": "baa84d9d",
   "metadata": {},
   "outputs": [
    {
     "name": "stderr",
     "output_type": "stream",
     "text": [
      "<ipython-input-238-4ddadf7fe671>:2: FutureWarning: Indexing with multiple keys (implicitly converted to a tuple of keys) will be deprecated, use a list instead.\n",
      "  m = M.groupby('City')[\"Product\",  \"Quantity\"].count()\n"
     ]
    },
    {
     "data": {
      "text/html": [
       "<div>\n",
       "<style scoped>\n",
       "    .dataframe tbody tr th:only-of-type {\n",
       "        vertical-align: middle;\n",
       "    }\n",
       "\n",
       "    .dataframe tbody tr th {\n",
       "        vertical-align: top;\n",
       "    }\n",
       "\n",
       "    .dataframe thead th {\n",
       "        text-align: right;\n",
       "    }\n",
       "</style>\n",
       "<table border=\"1\" class=\"dataframe\">\n",
       "  <thead>\n",
       "    <tr style=\"text-align: right;\">\n",
       "      <th></th>\n",
       "      <th>Product</th>\n",
       "      <th>Quantity</th>\n",
       "    </tr>\n",
       "    <tr>\n",
       "      <th>City</th>\n",
       "      <th></th>\n",
       "      <th></th>\n",
       "    </tr>\n",
       "  </thead>\n",
       "  <tbody>\n",
       "    <tr>\n",
       "      <th>San Francisco</th>\n",
       "      <td>15455</td>\n",
       "      <td>15455</td>\n",
       "    </tr>\n",
       "    <tr>\n",
       "      <th>Los Angeles</th>\n",
       "      <td>10162</td>\n",
       "      <td>10162</td>\n",
       "    </tr>\n",
       "    <tr>\n",
       "      <th>New York City</th>\n",
       "      <td>8545</td>\n",
       "      <td>8545</td>\n",
       "    </tr>\n",
       "    <tr>\n",
       "      <th>Boston</th>\n",
       "      <td>6768</td>\n",
       "      <td>6768</td>\n",
       "    </tr>\n",
       "    <tr>\n",
       "      <th>Atlanta</th>\n",
       "      <td>5133</td>\n",
       "      <td>5133</td>\n",
       "    </tr>\n",
       "    <tr>\n",
       "      <th>Seattle</th>\n",
       "      <td>5077</td>\n",
       "      <td>5077</td>\n",
       "    </tr>\n",
       "    <tr>\n",
       "      <th>Dallas</th>\n",
       "      <td>5052</td>\n",
       "      <td>5052</td>\n",
       "    </tr>\n",
       "    <tr>\n",
       "      <th>Portland</th>\n",
       "      <td>4263</td>\n",
       "      <td>4263</td>\n",
       "    </tr>\n",
       "    <tr>\n",
       "      <th>Austin</th>\n",
       "      <td>3505</td>\n",
       "      <td>3505</td>\n",
       "    </tr>\n",
       "  </tbody>\n",
       "</table>\n",
       "</div>"
      ],
      "text/plain": [
       "                Product  Quantity\n",
       "City                             \n",
       " San Francisco    15455     15455\n",
       " Los Angeles      10162     10162\n",
       " New York City     8545      8545\n",
       " Boston            6768      6768\n",
       " Atlanta           5133      5133\n",
       " Seattle           5077      5077\n",
       " Dallas            5052      5052\n",
       " Portland          4263      4263\n",
       " Austin            3505      3505"
      ]
     },
     "execution_count": 238,
     "metadata": {},
     "output_type": "execute_result"
    }
   ],
   "source": [
    "M =  clean_retail[(clean_retail['Timing'] == 'Morning')]\n",
    "m = M.groupby('City')[\"Product\",  \"Quantity\"].count()\n",
    "pd.DataFrame(m).sort_values(by = 'Quantity', ascending = False)"
   ]
  },
  {
   "cell_type": "markdown",
   "id": "afa0d06e",
   "metadata": {},
   "source": [
    "__During the Morning Most products are sold at Austin__."
   ]
  },
  {
   "cell_type": "code",
   "execution_count": 239,
   "id": "32d805d1",
   "metadata": {},
   "outputs": [
    {
     "name": "stderr",
     "output_type": "stream",
     "text": [
      "<ipython-input-239-fc64240c019f>:2: FutureWarning: Indexing with multiple keys (implicitly converted to a tuple of keys) will be deprecated, use a list instead.\n",
      "  a = A.groupby('City')[\"Product\",  \"Quantity\"].count()\n"
     ]
    },
    {
     "data": {
      "text/html": [
       "<div>\n",
       "<style scoped>\n",
       "    .dataframe tbody tr th:only-of-type {\n",
       "        vertical-align: middle;\n",
       "    }\n",
       "\n",
       "    .dataframe tbody tr th {\n",
       "        vertical-align: top;\n",
       "    }\n",
       "\n",
       "    .dataframe thead th {\n",
       "        text-align: right;\n",
       "    }\n",
       "</style>\n",
       "<table border=\"1\" class=\"dataframe\">\n",
       "  <thead>\n",
       "    <tr style=\"text-align: right;\">\n",
       "      <th></th>\n",
       "      <th>Product</th>\n",
       "      <th>Quantity</th>\n",
       "    </tr>\n",
       "    <tr>\n",
       "      <th>City</th>\n",
       "      <th></th>\n",
       "      <th></th>\n",
       "    </tr>\n",
       "  </thead>\n",
       "  <tbody>\n",
       "    <tr>\n",
       "      <th>San Francisco</th>\n",
       "      <td>10457</td>\n",
       "      <td>10457</td>\n",
       "    </tr>\n",
       "    <tr>\n",
       "      <th>Los Angeles</th>\n",
       "      <td>6863</td>\n",
       "      <td>6863</td>\n",
       "    </tr>\n",
       "    <tr>\n",
       "      <th>New York City</th>\n",
       "      <td>5861</td>\n",
       "      <td>5861</td>\n",
       "    </tr>\n",
       "    <tr>\n",
       "      <th>Boston</th>\n",
       "      <td>4698</td>\n",
       "      <td>4698</td>\n",
       "    </tr>\n",
       "    <tr>\n",
       "      <th>Dallas</th>\n",
       "      <td>3544</td>\n",
       "      <td>3544</td>\n",
       "    </tr>\n",
       "    <tr>\n",
       "      <th>Atlanta</th>\n",
       "      <td>3461</td>\n",
       "      <td>3461</td>\n",
       "    </tr>\n",
       "    <tr>\n",
       "      <th>Seattle</th>\n",
       "      <td>3432</td>\n",
       "      <td>3432</td>\n",
       "    </tr>\n",
       "    <tr>\n",
       "      <th>Portland</th>\n",
       "      <td>2946</td>\n",
       "      <td>2946</td>\n",
       "    </tr>\n",
       "    <tr>\n",
       "      <th>Austin</th>\n",
       "      <td>2336</td>\n",
       "      <td>2336</td>\n",
       "    </tr>\n",
       "  </tbody>\n",
       "</table>\n",
       "</div>"
      ],
      "text/plain": [
       "                Product  Quantity\n",
       "City                             \n",
       " San Francisco    10457     10457\n",
       " Los Angeles       6863      6863\n",
       " New York City     5861      5861\n",
       " Boston            4698      4698\n",
       " Dallas            3544      3544\n",
       " Atlanta           3461      3461\n",
       " Seattle           3432      3432\n",
       " Portland          2946      2946\n",
       " Austin            2336      2336"
      ]
     },
     "execution_count": 239,
     "metadata": {},
     "output_type": "execute_result"
    }
   ],
   "source": [
    "A =  clean_retail[(clean_retail['Timing'] == 'Aftenoon')]\n",
    "a = A.groupby('City')[\"Product\",  \"Quantity\"].count()\n",
    "pd.DataFrame(a).sort_values(by = 'Quantity', ascending = False)"
   ]
  },
  {
   "cell_type": "code",
   "execution_count": 240,
   "id": "903fdef8",
   "metadata": {},
   "outputs": [
    {
     "name": "stderr",
     "output_type": "stream",
     "text": [
      "<ipython-input-240-38a494b82282>:2: FutureWarning: Indexing with multiple keys (implicitly converted to a tuple of keys) will be deprecated, use a list instead.\n",
      "  n = N.groupby('City')[\"Product\",  \"Quantity\"].count()\n"
     ]
    },
    {
     "data": {
      "text/html": [
       "<div>\n",
       "<style scoped>\n",
       "    .dataframe tbody tr th:only-of-type {\n",
       "        vertical-align: middle;\n",
       "    }\n",
       "\n",
       "    .dataframe tbody tr th {\n",
       "        vertical-align: top;\n",
       "    }\n",
       "\n",
       "    .dataframe thead th {\n",
       "        text-align: right;\n",
       "    }\n",
       "</style>\n",
       "<table border=\"1\" class=\"dataframe\">\n",
       "  <thead>\n",
       "    <tr style=\"text-align: right;\">\n",
       "      <th></th>\n",
       "      <th>Product</th>\n",
       "      <th>Quantity</th>\n",
       "    </tr>\n",
       "    <tr>\n",
       "      <th>City</th>\n",
       "      <th></th>\n",
       "      <th></th>\n",
       "    </tr>\n",
       "  </thead>\n",
       "  <tbody>\n",
       "    <tr>\n",
       "      <th>San Francisco</th>\n",
       "      <td>9096</td>\n",
       "      <td>9096</td>\n",
       "    </tr>\n",
       "    <tr>\n",
       "      <th>Los Angeles</th>\n",
       "      <td>6173</td>\n",
       "      <td>6173</td>\n",
       "    </tr>\n",
       "    <tr>\n",
       "      <th>New York City</th>\n",
       "      <td>5083</td>\n",
       "      <td>5083</td>\n",
       "    </tr>\n",
       "    <tr>\n",
       "      <th>Boston</th>\n",
       "      <td>4093</td>\n",
       "      <td>4093</td>\n",
       "    </tr>\n",
       "    <tr>\n",
       "      <th>Seattle</th>\n",
       "      <td>3099</td>\n",
       "      <td>3099</td>\n",
       "    </tr>\n",
       "    <tr>\n",
       "      <th>Atlanta</th>\n",
       "      <td>3083</td>\n",
       "      <td>3083</td>\n",
       "    </tr>\n",
       "    <tr>\n",
       "      <th>Dallas</th>\n",
       "      <td>3024</td>\n",
       "      <td>3024</td>\n",
       "    </tr>\n",
       "    <tr>\n",
       "      <th>Portland</th>\n",
       "      <td>2556</td>\n",
       "      <td>2556</td>\n",
       "    </tr>\n",
       "    <tr>\n",
       "      <th>Austin</th>\n",
       "      <td>1986</td>\n",
       "      <td>1986</td>\n",
       "    </tr>\n",
       "  </tbody>\n",
       "</table>\n",
       "</div>"
      ],
      "text/plain": [
       "                Product  Quantity\n",
       "City                             \n",
       " San Francisco     9096      9096\n",
       " Los Angeles       6173      6173\n",
       " New York City     5083      5083\n",
       " Boston            4093      4093\n",
       " Seattle           3099      3099\n",
       " Atlanta           3083      3083\n",
       " Dallas            3024      3024\n",
       " Portland          2556      2556\n",
       " Austin            1986      1986"
      ]
     },
     "execution_count": 240,
     "metadata": {},
     "output_type": "execute_result"
    }
   ],
   "source": [
    "N =  clean_retail[(clean_retail['Timing'] == 'Night')]\n",
    "n = N.groupby('City')[\"Product\",  \"Quantity\"].count()\n",
    "pd.DataFrame(n).sort_values(by = 'Quantity', ascending = False)"
   ]
  },
  {
   "cell_type": "code",
   "execution_count": 242,
   "id": "0fc0c325",
   "metadata": {},
   "outputs": [
    {
     "name": "stderr",
     "output_type": "stream",
     "text": [
      "<ipython-input-242-e822ab130f2a>:2: FutureWarning: Indexing with multiple keys (implicitly converted to a tuple of keys) will be deprecated, use a list instead.\n",
      "  e = E.groupby('City')[\"Product\",  \"Quantity\"].count()\n"
     ]
    },
    {
     "data": {
      "text/html": [
       "<div>\n",
       "<style scoped>\n",
       "    .dataframe tbody tr th:only-of-type {\n",
       "        vertical-align: middle;\n",
       "    }\n",
       "\n",
       "    .dataframe tbody tr th {\n",
       "        vertical-align: top;\n",
       "    }\n",
       "\n",
       "    .dataframe thead th {\n",
       "        text-align: right;\n",
       "    }\n",
       "</style>\n",
       "<table border=\"1\" class=\"dataframe\">\n",
       "  <thead>\n",
       "    <tr style=\"text-align: right;\">\n",
       "      <th></th>\n",
       "      <th>Product</th>\n",
       "      <th>Quantity</th>\n",
       "    </tr>\n",
       "    <tr>\n",
       "      <th>City</th>\n",
       "      <th></th>\n",
       "      <th></th>\n",
       "    </tr>\n",
       "  </thead>\n",
       "  <tbody>\n",
       "    <tr>\n",
       "      <th>San Francisco</th>\n",
       "      <td>8717</td>\n",
       "      <td>8717</td>\n",
       "    </tr>\n",
       "    <tr>\n",
       "      <th>Los Angeles</th>\n",
       "      <td>5732</td>\n",
       "      <td>5732</td>\n",
       "    </tr>\n",
       "    <tr>\n",
       "      <th>New York City</th>\n",
       "      <td>4801</td>\n",
       "      <td>4801</td>\n",
       "    </tr>\n",
       "    <tr>\n",
       "      <th>Boston</th>\n",
       "      <td>3916</td>\n",
       "      <td>3916</td>\n",
       "    </tr>\n",
       "    <tr>\n",
       "      <th>Dallas</th>\n",
       "      <td>2894</td>\n",
       "      <td>2894</td>\n",
       "    </tr>\n",
       "    <tr>\n",
       "      <th>Atlanta</th>\n",
       "      <td>2876</td>\n",
       "      <td>2876</td>\n",
       "    </tr>\n",
       "    <tr>\n",
       "      <th>Seattle</th>\n",
       "      <td>2819</td>\n",
       "      <td>2819</td>\n",
       "    </tr>\n",
       "    <tr>\n",
       "      <th>Portland</th>\n",
       "      <td>2413</td>\n",
       "      <td>2413</td>\n",
       "    </tr>\n",
       "    <tr>\n",
       "      <th>Austin</th>\n",
       "      <td>1865</td>\n",
       "      <td>1865</td>\n",
       "    </tr>\n",
       "  </tbody>\n",
       "</table>\n",
       "</div>"
      ],
      "text/plain": [
       "                Product  Quantity\n",
       "City                             \n",
       " San Francisco     8717      8717\n",
       " Los Angeles       5732      5732\n",
       " New York City     4801      4801\n",
       " Boston            3916      3916\n",
       " Dallas            2894      2894\n",
       " Atlanta           2876      2876\n",
       " Seattle           2819      2819\n",
       " Portland          2413      2413\n",
       " Austin            1865      1865"
      ]
     },
     "execution_count": 242,
     "metadata": {},
     "output_type": "execute_result"
    }
   ],
   "source": [
    "E =  clean_retail[(clean_retail['Timing'] == 'Evening')]\n",
    "e = E.groupby('City')[\"Product\",  \"Quantity\"].count()\n",
    "pd.DataFrame(e).sort_values(by = 'Quantity', ascending = False)"
   ]
  },
  {
   "cell_type": "markdown",
   "id": "35009aba",
   "metadata": {},
   "source": [
    "__From the above analysis we can say that San Francisco is having the most products sold.\n",
    "So we can suggest San Francisco for establishing a new branch for the retail store.__\n",
    "\n",
    "__Since we can clearly see that this city is ahead in terms of both sales and Quantity sold so it would be beneficial \n",
    "to establish a new branch here.__"
   ]
  },
  {
   "cell_type": "code",
   "execution_count": null,
   "id": "9e02b593",
   "metadata": {},
   "outputs": [],
   "source": []
  }
 ],
 "metadata": {
  "kernelspec": {
   "display_name": "Python 3",
   "language": "python",
   "name": "python3"
  },
  "language_info": {
   "codemirror_mode": {
    "name": "ipython",
    "version": 3
   },
   "file_extension": ".py",
   "mimetype": "text/x-python",
   "name": "python",
   "nbconvert_exporter": "python",
   "pygments_lexer": "ipython3",
   "version": "3.8.8"
  }
 },
 "nbformat": 4,
 "nbformat_minor": 5
}
